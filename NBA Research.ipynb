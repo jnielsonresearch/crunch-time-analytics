{
 "cells": [
  {
   "cell_type": "code",
   "execution_count": 47,
   "metadata": {},
   "outputs": [],
   "source": [
    "# install nba package"
   ]
  },
  {
   "cell_type": "code",
   "execution_count": 48,
   "metadata": {},
   "outputs": [
    {
     "name": "stdout",
     "output_type": "stream",
     "text": [
      "Requirement already satisfied: nba_api in ./opt/anaconda3/lib/python3.8/site-packages (1.1.9)\n",
      "Requirement already satisfied: requests in ./opt/anaconda3/lib/python3.8/site-packages (from nba_api) (2.24.0)\n",
      "Requirement already satisfied: chardet<4,>=3.0.2 in ./opt/anaconda3/lib/python3.8/site-packages (from requests->nba_api) (3.0.4)\n",
      "Requirement already satisfied: urllib3!=1.25.0,!=1.25.1,<1.26,>=1.21.1 in ./opt/anaconda3/lib/python3.8/site-packages (from requests->nba_api) (1.25.9)\n",
      "Requirement already satisfied: certifi>=2017.4.17 in ./opt/anaconda3/lib/python3.8/site-packages (from requests->nba_api) (2020.6.20)\n",
      "Requirement already satisfied: idna<3,>=2.5 in ./opt/anaconda3/lib/python3.8/site-packages (from requests->nba_api) (2.10)\n",
      "Note: you may need to restart the kernel to use updated packages.\n"
     ]
    }
   ],
   "source": [
    "pip install nba_api"
   ]
  },
  {
   "cell_type": "code",
   "execution_count": 49,
   "metadata": {},
   "outputs": [],
   "source": [
    "# import players stats endpoint\n",
    "from nba_api.stats.static import players\n",
    "\n",
    "# get all players\n",
    "player_dict = players.get_players()"
   ]
  },
  {
   "cell_type": "code",
   "execution_count": 50,
   "metadata": {},
   "outputs": [
    {
     "data": {
      "text/plain": [
       "4501"
      ]
     },
     "execution_count": 50,
     "metadata": {},
     "output_type": "execute_result"
    }
   ],
   "source": [
    "# count of all players\n",
    "len(player_dict)"
   ]
  },
  {
   "cell_type": "code",
   "execution_count": 51,
   "metadata": {},
   "outputs": [],
   "source": [
    "from nba_api.stats.endpoints import commonplayerinfo\n",
    "from nba_api.stats.endpoints import commonplayoffseries\n",
    "\n",
    "from nba_api.stats.endpoints import teamgamelog\n",
    "\n",
    "from nba_api.stats.endpoints import shotchartdetail"
   ]
  },
  {
   "cell_type": "code",
   "execution_count": null,
   "metadata": {},
   "outputs": [],
   "source": []
  },
  {
   "cell_type": "code",
   "execution_count": 52,
   "metadata": {},
   "outputs": [],
   "source": [
    "# can add custom headers and timeouts if neccessary\n",
    "#https://github.com/swar/nba_api/blob/master/docs/nba_api/stats/examples.md\n",
    "#player_info = commonplayerinfo.CommonPlayerInfo(player_id=2544)\n",
    "#playoff_series = commonplayoffseries.CommonPlayoffSeries(league_id = '00',season = '2019-20')\n",
    "\n",
    "\n",
    "#team_game_log = teamgamelog.TeamGameLog(season = '2019-20', season_type_all_star = 'Playoffs', team_id = '1610612749')\n",
    "\n",
    "                                          \n",
    "                                                          \n",
    "                                                          \n",
    "                                                          \n",
    "                                                          "
   ]
  },
  {
   "cell_type": "code",
   "execution_count": 61,
   "metadata": {},
   "outputs": [
    {
     "data": {
      "text/plain": [
       "3391"
      ]
     },
     "execution_count": 61,
     "metadata": {},
     "output_type": "execute_result"
    }
   ],
   "source": [
    "# Lebron James shots full career in the playoffs\n",
    "\n",
    "#shot_chart = shotchartdetail.ShotChartDetail(team_id = 0, season_type_all_star = 'Playoffs', player_id=2544)\n",
    "#len(shot_chart.get_normalized_json())\n",
    "\n",
    "# Lebron James shots full career in the playoffs\n",
    "shot_chart = shotchartdetail.ShotChartDetail(team_id = 1610612749, season_type_all_star = 'Playoffs', player_id=2544, season_nullable = '2019-20')\n",
    "len(shot_chart.get_normalized_json())\n"
   ]
  },
  {
   "cell_type": "code",
   "execution_count": null,
   "metadata": {},
   "outputs": [],
   "source": []
  }
 ],
 "metadata": {
  "kernelspec": {
   "display_name": "Python 3",
   "language": "python",
   "name": "python3"
  },
  "language_info": {
   "codemirror_mode": {
    "name": "ipython",
    "version": 3
   },
   "file_extension": ".py",
   "mimetype": "text/x-python",
   "name": "python",
   "nbconvert_exporter": "python",
   "pygments_lexer": "ipython3",
   "version": "3.8.3"
  }
 },
 "nbformat": 4,
 "nbformat_minor": 4
}
