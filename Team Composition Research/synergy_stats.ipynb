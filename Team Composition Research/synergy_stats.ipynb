{
 "cells": [
  {
   "cell_type": "markdown",
   "metadata": {},
   "source": [
    "### Unfortunately the endpoint is not returning any data"
   ]
  },
  {
   "cell_type": "code",
   "execution_count": 56,
   "metadata": {},
   "outputs": [
    {
     "data": {
      "text/html": [
       "<div>\n",
       "<style scoped>\n",
       "    .dataframe tbody tr th:only-of-type {\n",
       "        vertical-align: middle;\n",
       "    }\n",
       "\n",
       "    .dataframe tbody tr th {\n",
       "        vertical-align: top;\n",
       "    }\n",
       "\n",
       "    .dataframe thead th {\n",
       "        text-align: right;\n",
       "    }\n",
       "</style>\n",
       "<table border=\"1\" class=\"dataframe\">\n",
       "  <thead>\n",
       "    <tr style=\"text-align: right;\">\n",
       "      <th></th>\n",
       "      <th>SEASON_ID</th>\n",
       "      <th>TEAM_ID</th>\n",
       "      <th>TEAM_ABBREVIATION</th>\n",
       "      <th>TEAM_NAME</th>\n",
       "      <th>PLAY_TYPE</th>\n",
       "      <th>TYPE_GROUPING</th>\n",
       "      <th>PERCENTILE</th>\n",
       "      <th>GP</th>\n",
       "      <th>POSS_PCT</th>\n",
       "      <th>PPP</th>\n",
       "      <th>...</th>\n",
       "      <th>TOV_POSS_PCT</th>\n",
       "      <th>SF_POSS_PCT</th>\n",
       "      <th>PLUSONE_POSS_PCT</th>\n",
       "      <th>SCORE_POSS_PCT</th>\n",
       "      <th>EFG_PCT</th>\n",
       "      <th>POSS</th>\n",
       "      <th>PTS</th>\n",
       "      <th>FGM</th>\n",
       "      <th>FGA</th>\n",
       "      <th>FGMX</th>\n",
       "    </tr>\n",
       "  </thead>\n",
       "  <tbody>\n",
       "  </tbody>\n",
       "</table>\n",
       "<p>0 rows × 22 columns</p>\n",
       "</div>"
      ],
      "text/plain": [
       "Empty DataFrame\n",
       "Columns: [SEASON_ID, TEAM_ID, TEAM_ABBREVIATION, TEAM_NAME, PLAY_TYPE, TYPE_GROUPING, PERCENTILE, GP, POSS_PCT, PPP, FG_PCT, FT_POSS_PCT, TOV_POSS_PCT, SF_POSS_PCT, PLUSONE_POSS_PCT, SCORE_POSS_PCT, EFG_PCT, POSS, PTS, FGM, FGA, FGMX]\n",
       "Index: []\n",
       "\n",
       "[0 rows x 22 columns]"
      ]
     },
     "execution_count": 56,
     "metadata": {},
     "output_type": "execute_result"
    }
   ],
   "source": [
    "from nba_api.stats.endpoints import SynergyPlayTypes\n",
    "\n",
    "inst = SynergyPlayTypes(league_id='00', \n",
    "                        per_mode_simple='Totals', \n",
    "                        player_or_team_abbreviation='T', \n",
    "                        season_type_all_star='Playoffs', \n",
    "                        season='2020-21', \n",
    "                        play_type_nullable='', \n",
    "                        type_grouping_nullable='')\n",
    "\n",
    "df = inst.get_data_frames()[0]\n",
    "df"
   ]
  },
  {
   "cell_type": "code",
   "execution_count": 58,
   "metadata": {},
   "outputs": [
    {
     "name": "stdout",
     "output_type": "stream",
     "text": [
      "{\"resource\": \"synergyplaytype\", \"parameters\": {\"LeagueID\": \"00\", \"SeasonYear\": \"2020-21\", \"SeasonType\": \"Regular Season\", \"PerMode\": \"Totals\", \"PlayerOrTeam\": \"P\", \"PlayType\": \"Transition\", \"TypeGrouping\": \"Offensive\"}, \"resultSets\": [{\"name\": \"SynergyPlayType\", \"headers\": [\"SEASON_ID\", \"PLAYER_ID\", \"PLAYER_NAME\", \"TEAM_ID\", \"TEAM_ABBREVIATION\", \"TEAM_NAME\", \"PLAY_TYPE\", \"TYPE_GROUPING\", \"PERCENTILE\", \"GP\", \"POSS_PCT\", \"PPP\", \"FG_PCT\", \"FT_POSS_PCT\", \"TOV_POSS_PCT\", \"SF_POSS_PCT\", \"PLUSONE_POSS_PCT\", \"SCORE_POSS_PCT\", \"EFG_PCT\", \"POSS\", \"PTS\", \"FGM\", \"FGA\", \"FGMX\"], \"rowSet\": []}]}\n"
     ]
    }
   ],
   "source": [
    "from nba_api.stats import endpoints\n",
    "\n",
    "\n",
    "response = endpoints.SynergyPlayTypes(play_type_nullable='Transition', player_or_team_abbreviation='P', \n",
    "                                      type_grouping_nullable='Offensive')\n",
    "print(response.get_json())"
   ]
  }
 ],
 "metadata": {
  "kernelspec": {
   "display_name": "Python 3",
   "language": "python",
   "name": "python3"
  },
  "language_info": {
   "codemirror_mode": {
    "name": "ipython",
    "version": 3
   },
   "file_extension": ".py",
   "mimetype": "text/x-python",
   "name": "python",
   "nbconvert_exporter": "python",
   "pygments_lexer": "ipython3",
   "version": "3.7.4"
  }
 },
 "nbformat": 4,
 "nbformat_minor": 2
}
