{
 "cells": [
  {
   "cell_type": "code",
   "execution_count": 1,
   "metadata": {},
   "outputs": [],
   "source": [
    "# install nba package"
   ]
  },
  {
   "cell_type": "code",
   "execution_count": 2,
   "metadata": {},
   "outputs": [
    {
     "output_type": "stream",
     "name": "stdout",
     "text": [
      "Requirement already satisfied: nba_api in c:\\users\\justinn\\anaconda3\\lib\\site-packages (1.1.9)Note: you may need to restart the kernel to use updated packages.\n",
      "\n",
      "Requirement already satisfied: requests in c:\\users\\justinn\\anaconda3\\lib\\site-packages (from nba_api) (2.24.0)\n",
      "Requirement already satisfied: certifi>=2017.4.17 in c:\\users\\justinn\\anaconda3\\lib\\site-packages (from requests->nba_api) (2020.6.20)\n",
      "Requirement already satisfied: idna<3,>=2.5 in c:\\users\\justinn\\anaconda3\\lib\\site-packages (from requests->nba_api) (2.10)\n",
      "Requirement already satisfied: urllib3!=1.25.0,!=1.25.1,<1.26,>=1.21.1 in c:\\users\\justinn\\anaconda3\\lib\\site-packages (from requests->nba_api) (1.25.9)\n",
      "Requirement already satisfied: chardet<4,>=3.0.2 in c:\\users\\justinn\\anaconda3\\lib\\site-packages (from requests->nba_api) (3.0.4)\n"
     ]
    }
   ],
   "source": [
    "pip install nba_api"
   ]
  },
  {
   "cell_type": "code",
   "execution_count": 3,
   "metadata": {},
   "outputs": [
    {
     "output_type": "stream",
     "name": "stdout",
     "text": [
      "Number of teams fetched: 30\n"
     ]
    },
    {
     "output_type": "execute_result",
     "data": {
      "text/plain": [
       "[{'id': 1610612737,\n",
       "  'full_name': 'Atlanta Hawks',\n",
       "  'abbreviation': 'ATL',\n",
       "  'nickname': 'Hawks',\n",
       "  'city': 'Atlanta',\n",
       "  'state': 'Atlanta',\n",
       "  'year_founded': 1949},\n",
       " {'id': 1610612738,\n",
       "  'full_name': 'Boston Celtics',\n",
       "  'abbreviation': 'BOS',\n",
       "  'nickname': 'Celtics',\n",
       "  'city': 'Boston',\n",
       "  'state': 'Massachusetts',\n",
       "  'year_founded': 1946},\n",
       " {'id': 1610612739,\n",
       "  'full_name': 'Cleveland Cavaliers',\n",
       "  'abbreviation': 'CLE',\n",
       "  'nickname': 'Cavaliers',\n",
       "  'city': 'Cleveland',\n",
       "  'state': 'Ohio',\n",
       "  'year_founded': 1970}]"
      ]
     },
     "metadata": {},
     "execution_count": 3
    }
   ],
   "source": [
    "# import teams stats endpoint\n",
    "from nba_api.stats.static import teams\n",
    "\n",
    "# get_teams returns a list of 30 dictionaries, each an NBA team.\n",
    "nba_teams = teams.get_teams()\n",
    "print('Number of teams fetched: {}'.format(len(nba_teams)))\n",
    "nba_teams[:3]"
   ]
  },
  {
   "cell_type": "code",
   "execution_count": 4,
   "metadata": {},
   "outputs": [
    {
     "output_type": "stream",
     "name": "stdout",
     "text": [
      "Number of players fetched: 4501\n"
     ]
    },
    {
     "output_type": "execute_result",
     "data": {
      "text/plain": [
       "[{'id': 76001,\n",
       "  'full_name': 'Alaa Abdelnaby',\n",
       "  'first_name': 'Alaa',\n",
       "  'last_name': 'Abdelnaby',\n",
       "  'is_active': False},\n",
       " {'id': 76002,\n",
       "  'full_name': 'Zaid Abdul-Aziz',\n",
       "  'first_name': 'Zaid',\n",
       "  'last_name': 'Abdul-Aziz',\n",
       "  'is_active': False},\n",
       " {'id': 76003,\n",
       "  'full_name': 'Kareem Abdul-Jabbar',\n",
       "  'first_name': 'Kareem',\n",
       "  'last_name': 'Abdul-Jabbar',\n",
       "  'is_active': False}]"
      ]
     },
     "metadata": {},
     "execution_count": 4
    }
   ],
   "source": [
    "# import players stats endpoint\n",
    "from nba_api.stats.static import players\n",
    "\n",
    "# get_players returns a list of 4501 dictionaries, each an NBA player.\n",
    "nba_players = players.get_players()\n",
    "print('Number of players fetched: {}'.format(len(nba_players)))\n",
    "nba_players[:3]"
   ]
  },
  {
   "cell_type": "code",
   "execution_count": 5,
   "metadata": {},
   "outputs": [],
   "source": [
    "# Select the dictionary for the Celtics, which contains their team ID\n",
    "celtics = [team for team in nba_teams if team['abbreviation'] == 'BOS'][0]\n",
    "celtics_id = celtics['id']"
   ]
  },
  {
   "cell_type": "code",
   "execution_count": 6,
   "metadata": {},
   "outputs": [
    {
     "output_type": "execute_result",
     "data": {
      "text/plain": [
       "  SEASON_ID     TEAM_ID TEAM_ABBREVIATION       TEAM_NAME     GAME_ID  \\\n",
       "0     42019  1610612738               BOS  Boston Celtics  0041900306   \n",
       "1     42019  1610612738               BOS  Boston Celtics  0041900305   \n",
       "2     42019  1610612738               BOS  Boston Celtics  0041900304   \n",
       "3     42019  1610612738               BOS  Boston Celtics  0041900303   \n",
       "4     42019  1610612738               BOS  Boston Celtics  0041900302   \n",
       "\n",
       "    GAME_DATE      MATCHUP WL  MIN  PTS  ...  FT_PCT  OREB  DREB  REB  AST  \\\n",
       "0  2020-09-27    BOS @ MIA  L  240  113  ...   0.800    13    29   42   26   \n",
       "1  2020-09-25  BOS vs. MIA  W  238  121  ...   0.862    13    37   50   29   \n",
       "2  2020-09-23    BOS @ MIA  L  239  109  ...   0.810    12    34   46   28   \n",
       "3  2020-09-19    BOS @ MIA  W  240  117  ...   0.867    10    40   50   27   \n",
       "4  2020-09-17  BOS vs. MIA  L  240  101  ...   0.792     6    35   41   19   \n",
       "\n",
       "   STL  BLK  TOV  PF  PLUS_MINUS  \n",
       "0    7    2   10  21       -12.0  \n",
       "1    7    4   11  23        13.0  \n",
       "2    3    5   19  24         0.2  \n",
       "3    8    3   14  29         8.4  \n",
       "4    5    3   20  22        -5.0  \n",
       "\n",
       "[5 rows x 28 columns]"
      ],
      "text/html": "<div>\n<style scoped>\n    .dataframe tbody tr th:only-of-type {\n        vertical-align: middle;\n    }\n\n    .dataframe tbody tr th {\n        vertical-align: top;\n    }\n\n    .dataframe thead th {\n        text-align: right;\n    }\n</style>\n<table border=\"1\" class=\"dataframe\">\n  <thead>\n    <tr style=\"text-align: right;\">\n      <th></th>\n      <th>SEASON_ID</th>\n      <th>TEAM_ID</th>\n      <th>TEAM_ABBREVIATION</th>\n      <th>TEAM_NAME</th>\n      <th>GAME_ID</th>\n      <th>GAME_DATE</th>\n      <th>MATCHUP</th>\n      <th>WL</th>\n      <th>MIN</th>\n      <th>PTS</th>\n      <th>...</th>\n      <th>FT_PCT</th>\n      <th>OREB</th>\n      <th>DREB</th>\n      <th>REB</th>\n      <th>AST</th>\n      <th>STL</th>\n      <th>BLK</th>\n      <th>TOV</th>\n      <th>PF</th>\n      <th>PLUS_MINUS</th>\n    </tr>\n  </thead>\n  <tbody>\n    <tr>\n      <th>0</th>\n      <td>42019</td>\n      <td>1610612738</td>\n      <td>BOS</td>\n      <td>Boston Celtics</td>\n      <td>0041900306</td>\n      <td>2020-09-27</td>\n      <td>BOS @ MIA</td>\n      <td>L</td>\n      <td>240</td>\n      <td>113</td>\n      <td>...</td>\n      <td>0.800</td>\n      <td>13</td>\n      <td>29</td>\n      <td>42</td>\n      <td>26</td>\n      <td>7</td>\n      <td>2</td>\n      <td>10</td>\n      <td>21</td>\n      <td>-12.0</td>\n    </tr>\n    <tr>\n      <th>1</th>\n      <td>42019</td>\n      <td>1610612738</td>\n      <td>BOS</td>\n      <td>Boston Celtics</td>\n      <td>0041900305</td>\n      <td>2020-09-25</td>\n      <td>BOS vs. MIA</td>\n      <td>W</td>\n      <td>238</td>\n      <td>121</td>\n      <td>...</td>\n      <td>0.862</td>\n      <td>13</td>\n      <td>37</td>\n      <td>50</td>\n      <td>29</td>\n      <td>7</td>\n      <td>4</td>\n      <td>11</td>\n      <td>23</td>\n      <td>13.0</td>\n    </tr>\n    <tr>\n      <th>2</th>\n      <td>42019</td>\n      <td>1610612738</td>\n      <td>BOS</td>\n      <td>Boston Celtics</td>\n      <td>0041900304</td>\n      <td>2020-09-23</td>\n      <td>BOS @ MIA</td>\n      <td>L</td>\n      <td>239</td>\n      <td>109</td>\n      <td>...</td>\n      <td>0.810</td>\n      <td>12</td>\n      <td>34</td>\n      <td>46</td>\n      <td>28</td>\n      <td>3</td>\n      <td>5</td>\n      <td>19</td>\n      <td>24</td>\n      <td>0.2</td>\n    </tr>\n    <tr>\n      <th>3</th>\n      <td>42019</td>\n      <td>1610612738</td>\n      <td>BOS</td>\n      <td>Boston Celtics</td>\n      <td>0041900303</td>\n      <td>2020-09-19</td>\n      <td>BOS @ MIA</td>\n      <td>W</td>\n      <td>240</td>\n      <td>117</td>\n      <td>...</td>\n      <td>0.867</td>\n      <td>10</td>\n      <td>40</td>\n      <td>50</td>\n      <td>27</td>\n      <td>8</td>\n      <td>3</td>\n      <td>14</td>\n      <td>29</td>\n      <td>8.4</td>\n    </tr>\n    <tr>\n      <th>4</th>\n      <td>42019</td>\n      <td>1610612738</td>\n      <td>BOS</td>\n      <td>Boston Celtics</td>\n      <td>0041900302</td>\n      <td>2020-09-17</td>\n      <td>BOS vs. MIA</td>\n      <td>L</td>\n      <td>240</td>\n      <td>101</td>\n      <td>...</td>\n      <td>0.792</td>\n      <td>6</td>\n      <td>35</td>\n      <td>41</td>\n      <td>19</td>\n      <td>5</td>\n      <td>3</td>\n      <td>20</td>\n      <td>22</td>\n      <td>-5.0</td>\n    </tr>\n  </tbody>\n</table>\n<p>5 rows × 28 columns</p>\n</div>"
     },
     "metadata": {},
     "execution_count": 6
    }
   ],
   "source": [
    "from nba_api.stats.endpoints import leaguegamefinder\n",
    "\n",
    "# Query for games where the Celtics were playing\n",
    "gamefinder = leaguegamefinder.LeagueGameFinder(team_id_nullable=celtics_id)\n",
    "# The first DataFrame of those returned is what we want.\n",
    "games = gamefinder.get_data_frames()[0]\n",
    "games.head()"
   ]
  },
  {
   "cell_type": "code",
   "execution_count": 7,
   "metadata": {},
   "outputs": [
    {
     "output_type": "execute_result",
     "data": {
      "text/plain": [
       "     SEASON_ID     TEAM_ID TEAM_ABBREVIATION       TEAM_NAME     GAME_ID  \\\n",
       "3490     21983  1610612738               BOS  Boston Celtics  0028300052   \n",
       "3491     21983  1610612738               BOS  Boston Celtics  0028300043   \n",
       "3492     21983  1610612738               BOS  Boston Celtics  0028300033   \n",
       "3493     21983  1610612738               BOS  Boston Celtics  0028300019   \n",
       "3494     21983  1610612738               BOS  Boston Celtics  0028300006   \n",
       "\n",
       "       GAME_DATE      MATCHUP WL  MIN  PTS  ...  FT_PCT  OREB  DREB  REB  AST  \\\n",
       "3490  1983-11-05    BOS @ WAS  W  240  120  ...   0.778     5    28   33   36   \n",
       "3491  1983-11-04  BOS vs. IND  W  240  121  ...   0.841    11    34   45   28   \n",
       "3492  1983-11-02  BOS vs. MIL  W  240  119  ...   0.816    14    24   38   26   \n",
       "3493  1983-10-29    BOS @ CLE  W  240  108  ...   0.690    13    31   44   25   \n",
       "3494  1983-10-28    BOS @ DET  L  240  121  ...   0.909    12    35   47   23   \n",
       "\n",
       "      STL  BLK  TOV  PF  PLUS_MINUS  \n",
       "3490    7    7   16  26         NaN  \n",
       "3491    8    5   22  26         NaN  \n",
       "3492    7    7   18  18         NaN  \n",
       "3493   12    7   13  22         NaN  \n",
       "3494    9    6   22  38         NaN  \n",
       "\n",
       "[5 rows x 28 columns]"
      ],
      "text/html": "<div>\n<style scoped>\n    .dataframe tbody tr th:only-of-type {\n        vertical-align: middle;\n    }\n\n    .dataframe tbody tr th {\n        vertical-align: top;\n    }\n\n    .dataframe thead th {\n        text-align: right;\n    }\n</style>\n<table border=\"1\" class=\"dataframe\">\n  <thead>\n    <tr style=\"text-align: right;\">\n      <th></th>\n      <th>SEASON_ID</th>\n      <th>TEAM_ID</th>\n      <th>TEAM_ABBREVIATION</th>\n      <th>TEAM_NAME</th>\n      <th>GAME_ID</th>\n      <th>GAME_DATE</th>\n      <th>MATCHUP</th>\n      <th>WL</th>\n      <th>MIN</th>\n      <th>PTS</th>\n      <th>...</th>\n      <th>FT_PCT</th>\n      <th>OREB</th>\n      <th>DREB</th>\n      <th>REB</th>\n      <th>AST</th>\n      <th>STL</th>\n      <th>BLK</th>\n      <th>TOV</th>\n      <th>PF</th>\n      <th>PLUS_MINUS</th>\n    </tr>\n  </thead>\n  <tbody>\n    <tr>\n      <th>3490</th>\n      <td>21983</td>\n      <td>1610612738</td>\n      <td>BOS</td>\n      <td>Boston Celtics</td>\n      <td>0028300052</td>\n      <td>1983-11-05</td>\n      <td>BOS @ WAS</td>\n      <td>W</td>\n      <td>240</td>\n      <td>120</td>\n      <td>...</td>\n      <td>0.778</td>\n      <td>5</td>\n      <td>28</td>\n      <td>33</td>\n      <td>36</td>\n      <td>7</td>\n      <td>7</td>\n      <td>16</td>\n      <td>26</td>\n      <td>NaN</td>\n    </tr>\n    <tr>\n      <th>3491</th>\n      <td>21983</td>\n      <td>1610612738</td>\n      <td>BOS</td>\n      <td>Boston Celtics</td>\n      <td>0028300043</td>\n      <td>1983-11-04</td>\n      <td>BOS vs. IND</td>\n      <td>W</td>\n      <td>240</td>\n      <td>121</td>\n      <td>...</td>\n      <td>0.841</td>\n      <td>11</td>\n      <td>34</td>\n      <td>45</td>\n      <td>28</td>\n      <td>8</td>\n      <td>5</td>\n      <td>22</td>\n      <td>26</td>\n      <td>NaN</td>\n    </tr>\n    <tr>\n      <th>3492</th>\n      <td>21983</td>\n      <td>1610612738</td>\n      <td>BOS</td>\n      <td>Boston Celtics</td>\n      <td>0028300033</td>\n      <td>1983-11-02</td>\n      <td>BOS vs. MIL</td>\n      <td>W</td>\n      <td>240</td>\n      <td>119</td>\n      <td>...</td>\n      <td>0.816</td>\n      <td>14</td>\n      <td>24</td>\n      <td>38</td>\n      <td>26</td>\n      <td>7</td>\n      <td>7</td>\n      <td>18</td>\n      <td>18</td>\n      <td>NaN</td>\n    </tr>\n    <tr>\n      <th>3493</th>\n      <td>21983</td>\n      <td>1610612738</td>\n      <td>BOS</td>\n      <td>Boston Celtics</td>\n      <td>0028300019</td>\n      <td>1983-10-29</td>\n      <td>BOS @ CLE</td>\n      <td>W</td>\n      <td>240</td>\n      <td>108</td>\n      <td>...</td>\n      <td>0.690</td>\n      <td>13</td>\n      <td>31</td>\n      <td>44</td>\n      <td>25</td>\n      <td>12</td>\n      <td>7</td>\n      <td>13</td>\n      <td>22</td>\n      <td>NaN</td>\n    </tr>\n    <tr>\n      <th>3494</th>\n      <td>21983</td>\n      <td>1610612738</td>\n      <td>BOS</td>\n      <td>Boston Celtics</td>\n      <td>0028300006</td>\n      <td>1983-10-28</td>\n      <td>BOS @ DET</td>\n      <td>L</td>\n      <td>240</td>\n      <td>121</td>\n      <td>...</td>\n      <td>0.909</td>\n      <td>12</td>\n      <td>35</td>\n      <td>47</td>\n      <td>23</td>\n      <td>9</td>\n      <td>6</td>\n      <td>22</td>\n      <td>38</td>\n      <td>NaN</td>\n    </tr>\n  </tbody>\n</table>\n<p>5 rows × 28 columns</p>\n</div>"
     },
     "metadata": {},
     "execution_count": 7
    }
   ],
   "source": [
    "games.tail()"
   ]
  },
  {
   "cell_type": "code",
   "execution_count": 8,
   "metadata": {},
   "outputs": [],
   "source": [
    "# import nba_api.stat.endpoints hustlestats libraries\n",
    "\n",
    "from nba_api.stats.endpoints import hustlestatsboxscore\n",
    "from nba_api.stats.endpoints import leaguehustlestatsplayer\n",
    "from nba_api.stats.endpoints import leaguehustlestatsteam"
   ]
  },
  {
   "cell_type": "code",
   "execution_count": 9,
   "metadata": {},
   "outputs": [],
   "source": [
    "#import dataframe and visualization libraries \n",
    "import pandas as pd \n",
    "import numpy as np\n",
    "import plotly.express as px"
   ]
  },
  {
   "cell_type": "code",
   "execution_count": 10,
   "metadata": {},
   "outputs": [
    {
     "output_type": "execute_result",
     "data": {
      "text/plain": [
       "      GAME_ID  HUSTLE_STATUS\n",
       "0  0041900306              1"
      ],
      "text/html": "<div>\n<style scoped>\n    .dataframe tbody tr th:only-of-type {\n        vertical-align: middle;\n    }\n\n    .dataframe tbody tr th {\n        vertical-align: top;\n    }\n\n    .dataframe thead th {\n        text-align: right;\n    }\n</style>\n<table border=\"1\" class=\"dataframe\">\n  <thead>\n    <tr style=\"text-align: right;\">\n      <th></th>\n      <th>GAME_ID</th>\n      <th>HUSTLE_STATUS</th>\n    </tr>\n  </thead>\n  <tbody>\n    <tr>\n      <th>0</th>\n      <td>0041900306</td>\n      <td>1</td>\n    </tr>\n  </tbody>\n</table>\n</div>"
     },
     "metadata": {},
     "execution_count": 10
    }
   ],
   "source": [
    "box_hustle = hustlestatsboxscore.HustleStatsBoxScore(game_id=games['GAME_ID'][0])\n",
    "box_hustle.get_data_frames()[0]"
   ]
  },
  {
   "cell_type": "code",
   "execution_count": 11,
   "metadata": {},
   "outputs": [
    {
     "output_type": "execute_result",
     "data": {
      "text/plain": [
       "      GAME_ID     TEAM_ID TEAM_ABBREVIATION TEAM_CITY  PLAYER_ID  \\\n",
       "0  0041900306  1610612738               BOS    Boston    1627759   \n",
       "1  0041900306  1610612738               BOS    Boston    1628369   \n",
       "2  0041900306  1610612738               BOS    Boston    1628464   \n",
       "3  0041900306  1610612738               BOS    Boston     203935   \n",
       "4  0041900306  1610612738               BOS    Boston     202689   \n",
       "\n",
       "    PLAYER_NAME START_POSITION COMMENT MINUTES  PTS  ...  SCREEN_ASSISTS  \\\n",
       "0  Jaylen Brown              F           40:21   26  ...               0   \n",
       "1  Jayson Tatum              F           43:54   24  ...               0   \n",
       "2  Daniel Theis              C           21:34    6  ...               4   \n",
       "3  Marcus Smart              G           35:42   20  ...               0   \n",
       "4  Kemba Walker              G           35:00   20  ...               0   \n",
       "\n",
       "   SCREEN_AST_PTS  OFF_LOOSE_BALLS_RECOVERED  DEF_LOOSE_BALLS_RECOVERED  \\\n",
       "0               0                          1                          2   \n",
       "1               0                          0                          2   \n",
       "2               9                          1                          0   \n",
       "3               0                          0                          0   \n",
       "4               0                          0                          0   \n",
       "\n",
       "   LOOSE_BALLS_RECOVERED  OFF_BOXOUTS  DEF_BOXOUTS  BOX_OUT_PLAYER_TEAM_REBS  \\\n",
       "0                      3            1            1                         2   \n",
       "1                      2            0            2                         1   \n",
       "2                      1            1            2                         3   \n",
       "3                      0            3            0                         2   \n",
       "4                      0            0            0                         0   \n",
       "\n",
       "   BOX_OUT_PLAYER_REBS  BOX_OUTS  \n",
       "0                    1         2  \n",
       "1                    0         2  \n",
       "2                    1         3  \n",
       "3                    2         3  \n",
       "4                    0         0  \n",
       "\n",
       "[5 rows x 25 columns]"
      ],
      "text/html": "<div>\n<style scoped>\n    .dataframe tbody tr th:only-of-type {\n        vertical-align: middle;\n    }\n\n    .dataframe tbody tr th {\n        vertical-align: top;\n    }\n\n    .dataframe thead th {\n        text-align: right;\n    }\n</style>\n<table border=\"1\" class=\"dataframe\">\n  <thead>\n    <tr style=\"text-align: right;\">\n      <th></th>\n      <th>GAME_ID</th>\n      <th>TEAM_ID</th>\n      <th>TEAM_ABBREVIATION</th>\n      <th>TEAM_CITY</th>\n      <th>PLAYER_ID</th>\n      <th>PLAYER_NAME</th>\n      <th>START_POSITION</th>\n      <th>COMMENT</th>\n      <th>MINUTES</th>\n      <th>PTS</th>\n      <th>...</th>\n      <th>SCREEN_ASSISTS</th>\n      <th>SCREEN_AST_PTS</th>\n      <th>OFF_LOOSE_BALLS_RECOVERED</th>\n      <th>DEF_LOOSE_BALLS_RECOVERED</th>\n      <th>LOOSE_BALLS_RECOVERED</th>\n      <th>OFF_BOXOUTS</th>\n      <th>DEF_BOXOUTS</th>\n      <th>BOX_OUT_PLAYER_TEAM_REBS</th>\n      <th>BOX_OUT_PLAYER_REBS</th>\n      <th>BOX_OUTS</th>\n    </tr>\n  </thead>\n  <tbody>\n    <tr>\n      <th>0</th>\n      <td>0041900306</td>\n      <td>1610612738</td>\n      <td>BOS</td>\n      <td>Boston</td>\n      <td>1627759</td>\n      <td>Jaylen Brown</td>\n      <td>F</td>\n      <td></td>\n      <td>40:21</td>\n      <td>26</td>\n      <td>...</td>\n      <td>0</td>\n      <td>0</td>\n      <td>1</td>\n      <td>2</td>\n      <td>3</td>\n      <td>1</td>\n      <td>1</td>\n      <td>2</td>\n      <td>1</td>\n      <td>2</td>\n    </tr>\n    <tr>\n      <th>1</th>\n      <td>0041900306</td>\n      <td>1610612738</td>\n      <td>BOS</td>\n      <td>Boston</td>\n      <td>1628369</td>\n      <td>Jayson Tatum</td>\n      <td>F</td>\n      <td></td>\n      <td>43:54</td>\n      <td>24</td>\n      <td>...</td>\n      <td>0</td>\n      <td>0</td>\n      <td>0</td>\n      <td>2</td>\n      <td>2</td>\n      <td>0</td>\n      <td>2</td>\n      <td>1</td>\n      <td>0</td>\n      <td>2</td>\n    </tr>\n    <tr>\n      <th>2</th>\n      <td>0041900306</td>\n      <td>1610612738</td>\n      <td>BOS</td>\n      <td>Boston</td>\n      <td>1628464</td>\n      <td>Daniel Theis</td>\n      <td>C</td>\n      <td></td>\n      <td>21:34</td>\n      <td>6</td>\n      <td>...</td>\n      <td>4</td>\n      <td>9</td>\n      <td>1</td>\n      <td>0</td>\n      <td>1</td>\n      <td>1</td>\n      <td>2</td>\n      <td>3</td>\n      <td>1</td>\n      <td>3</td>\n    </tr>\n    <tr>\n      <th>3</th>\n      <td>0041900306</td>\n      <td>1610612738</td>\n      <td>BOS</td>\n      <td>Boston</td>\n      <td>203935</td>\n      <td>Marcus Smart</td>\n      <td>G</td>\n      <td></td>\n      <td>35:42</td>\n      <td>20</td>\n      <td>...</td>\n      <td>0</td>\n      <td>0</td>\n      <td>0</td>\n      <td>0</td>\n      <td>0</td>\n      <td>3</td>\n      <td>0</td>\n      <td>2</td>\n      <td>2</td>\n      <td>3</td>\n    </tr>\n    <tr>\n      <th>4</th>\n      <td>0041900306</td>\n      <td>1610612738</td>\n      <td>BOS</td>\n      <td>Boston</td>\n      <td>202689</td>\n      <td>Kemba Walker</td>\n      <td>G</td>\n      <td></td>\n      <td>35:00</td>\n      <td>20</td>\n      <td>...</td>\n      <td>0</td>\n      <td>0</td>\n      <td>0</td>\n      <td>0</td>\n      <td>0</td>\n      <td>0</td>\n      <td>0</td>\n      <td>0</td>\n      <td>0</td>\n      <td>0</td>\n    </tr>\n  </tbody>\n</table>\n<p>5 rows × 25 columns</p>\n</div>"
     },
     "metadata": {},
     "execution_count": 11
    }
   ],
   "source": [
    "player_stats = box_hustle.get_data_frames()[1]\n",
    "player_stats.head()"
   ]
  },
  {
   "cell_type": "code",
   "execution_count": 12,
   "metadata": {},
   "outputs": [
    {
     "output_type": "execute_result",
     "data": {
      "text/plain": [
       "      GAME_ID     TEAM_ID TEAM_NAME TEAM_ABBREVIATION TEAM_CITY  \\\n",
       "0  0041900306  1610612738   Celtics               BOS    Boston   \n",
       "1  0041900306  1610612748      Heat               MIA     Miami   \n",
       "\n",
       "         MINUTES  PTS  CONTESTED_SHOTS  CONTESTED_SHOTS_2PT  \\\n",
       "0  240.000000:00  113               58                   38   \n",
       "1  240.000000:00  125               68                   30   \n",
       "\n",
       "   CONTESTED_SHOTS_3PT  ...  SCREEN_ASSISTS  SCREEN_AST_PTS  \\\n",
       "0                   20  ...               6              14   \n",
       "1                   38  ...               4              10   \n",
       "\n",
       "   OFF_LOOSE_BALLS_RECOVERED  DEF_LOOSE_BALLS_RECOVERED  \\\n",
       "0                          2                          4   \n",
       "1                          3                          4   \n",
       "\n",
       "   LOOSE_BALLS_RECOVERED  OFF_BOXOUTS  DEF_BOXOUTS  BOX_OUT_PLAYER_TEAM_REBS  \\\n",
       "0                      6            5            6                         8   \n",
       "1                      7            0           13                        11   \n",
       "\n",
       "   BOX_OUT_PLAYER_REBS  BOX_OUTS  \n",
       "0                    4        11  \n",
       "1                    6        13  \n",
       "\n",
       "[2 rows x 22 columns]"
      ],
      "text/html": "<div>\n<style scoped>\n    .dataframe tbody tr th:only-of-type {\n        vertical-align: middle;\n    }\n\n    .dataframe tbody tr th {\n        vertical-align: top;\n    }\n\n    .dataframe thead th {\n        text-align: right;\n    }\n</style>\n<table border=\"1\" class=\"dataframe\">\n  <thead>\n    <tr style=\"text-align: right;\">\n      <th></th>\n      <th>GAME_ID</th>\n      <th>TEAM_ID</th>\n      <th>TEAM_NAME</th>\n      <th>TEAM_ABBREVIATION</th>\n      <th>TEAM_CITY</th>\n      <th>MINUTES</th>\n      <th>PTS</th>\n      <th>CONTESTED_SHOTS</th>\n      <th>CONTESTED_SHOTS_2PT</th>\n      <th>CONTESTED_SHOTS_3PT</th>\n      <th>...</th>\n      <th>SCREEN_ASSISTS</th>\n      <th>SCREEN_AST_PTS</th>\n      <th>OFF_LOOSE_BALLS_RECOVERED</th>\n      <th>DEF_LOOSE_BALLS_RECOVERED</th>\n      <th>LOOSE_BALLS_RECOVERED</th>\n      <th>OFF_BOXOUTS</th>\n      <th>DEF_BOXOUTS</th>\n      <th>BOX_OUT_PLAYER_TEAM_REBS</th>\n      <th>BOX_OUT_PLAYER_REBS</th>\n      <th>BOX_OUTS</th>\n    </tr>\n  </thead>\n  <tbody>\n    <tr>\n      <th>0</th>\n      <td>0041900306</td>\n      <td>1610612738</td>\n      <td>Celtics</td>\n      <td>BOS</td>\n      <td>Boston</td>\n      <td>240.000000:00</td>\n      <td>113</td>\n      <td>58</td>\n      <td>38</td>\n      <td>20</td>\n      <td>...</td>\n      <td>6</td>\n      <td>14</td>\n      <td>2</td>\n      <td>4</td>\n      <td>6</td>\n      <td>5</td>\n      <td>6</td>\n      <td>8</td>\n      <td>4</td>\n      <td>11</td>\n    </tr>\n    <tr>\n      <th>1</th>\n      <td>0041900306</td>\n      <td>1610612748</td>\n      <td>Heat</td>\n      <td>MIA</td>\n      <td>Miami</td>\n      <td>240.000000:00</td>\n      <td>125</td>\n      <td>68</td>\n      <td>30</td>\n      <td>38</td>\n      <td>...</td>\n      <td>4</td>\n      <td>10</td>\n      <td>3</td>\n      <td>4</td>\n      <td>7</td>\n      <td>0</td>\n      <td>13</td>\n      <td>11</td>\n      <td>6</td>\n      <td>13</td>\n    </tr>\n  </tbody>\n</table>\n<p>2 rows × 22 columns</p>\n</div>"
     },
     "metadata": {},
     "execution_count": 12
    }
   ],
   "source": [
    "team_stats = box_hustle.get_data_frames()[2]\n",
    "team_stats.head()"
   ]
  },
  {
   "cell_type": "code",
   "execution_count": 13,
   "metadata": {},
   "outputs": [
    {
     "output_type": "execute_result",
     "data": {
      "text/plain": [
       "       TEAM_ID               TEAM_NAME     MIN  CONTESTED_SHOTS  \\\n",
       "0   1610612738          Boston Celtics  1662.0             1055   \n",
       "1   1610612751           Brooklyn Nets   384.0              266   \n",
       "2   1610612742        Dallas Mavericks   586.0              366   \n",
       "3   1610612743          Denver Nuggets  1834.0             1073   \n",
       "4   1610612745         Houston Rockets  1162.0              608   \n",
       "5   1610612754          Indiana Pacers   384.0              198   \n",
       "6   1610612746             LA Clippers  1258.0              767   \n",
       "7   1610612747      Los Angeles Lakers  2016.0             1114   \n",
       "8   1610612748              Miami Heat  2036.0             1210   \n",
       "9   1610612749         Milwaukee Bucks   970.0              659   \n",
       "10  1610612760   Oklahoma City Thunder   682.0              442   \n",
       "11  1610612753           Orlando Magic   480.0              247   \n",
       "12  1610612755      Philadelphia 76ers   384.0              200   \n",
       "13  1610612757  Portland Trail Blazers   480.0              281   \n",
       "14  1610612761         Toronto Raptors  1076.0              674   \n",
       "15  1610612762               Utah Jazz   682.0              423   \n",
       "\n",
       "    CONTESTED_SHOTS_2PT  CONTESTED_SHOTS_3PT  DEFLECTIONS  CHARGES_DRAWN  \\\n",
       "0                   570                  485          203             11   \n",
       "1                   143                  123           45              2   \n",
       "2                   226                  140           56              3   \n",
       "3                   605                  468          259              6   \n",
       "4                   339                  269          159             17   \n",
       "5                   109                   89           46              2   \n",
       "6                   424                  343          174             10   \n",
       "7                   653                  461          305              7   \n",
       "8                   655                  555          288              7   \n",
       "9                   364                  295          132              6   \n",
       "10                  191                  251           79              6   \n",
       "11                  119                  128           55              7   \n",
       "12                  110                   90           30              0   \n",
       "13                  164                  117           68              1   \n",
       "14                  342                  332          126             10   \n",
       "15                  234                  189           73              5   \n",
       "\n",
       "    SCREEN_ASSISTS  SCREEN_AST_PTS  OFF_LOOSE_BALLS_RECOVERED  \\\n",
       "0              156             354                         61   \n",
       "1               19              41                         15   \n",
       "2               69             155                         16   \n",
       "3              181             409                         44   \n",
       "4               65             162                         32   \n",
       "5               21              52                         14   \n",
       "6              117             265                         50   \n",
       "7              107             242                         42   \n",
       "8              191             458                         66   \n",
       "9               44             106                         41   \n",
       "10              31              69                         25   \n",
       "11              59             139                         11   \n",
       "12              20              43                         11   \n",
       "13              37              90                         14   \n",
       "14              76             181                         42   \n",
       "15              85             206                         23   \n",
       "\n",
       "    DEF_LOOSE_BALLS_RECOVERED  LOOSE_BALLS_RECOVERED  \\\n",
       "0                          61                    122   \n",
       "1                           9                     24   \n",
       "2                          19                     35   \n",
       "3                          50                     94   \n",
       "4                          39                     71   \n",
       "5                          13                     27   \n",
       "6                          45                     95   \n",
       "7                          72                    114   \n",
       "8                          70                    136   \n",
       "9                          28                     69   \n",
       "10                         24                     49   \n",
       "11                         16                     27   \n",
       "12                         13                     24   \n",
       "13                         16                     30   \n",
       "14                         46                     88   \n",
       "15                         20                     43   \n",
       "\n",
       "    PCT_LOOSE_BALLS_RECOVERED_OFF  PCT_LOOSE_BALLS_RECOVERED_DEF  OFF_BOXOUTS  \\\n",
       "0                           0.500                          0.500           36   \n",
       "1                           0.625                          0.375            2   \n",
       "2                           0.457                          0.543            9   \n",
       "3                           0.468                          0.532           25   \n",
       "4                           0.451                          0.549           14   \n",
       "5                           0.519                          0.481            0   \n",
       "6                           0.526                          0.474           12   \n",
       "7                           0.368                          0.632           61   \n",
       "8                           0.485                          0.515           23   \n",
       "9                           0.594                          0.406            8   \n",
       "10                          0.510                          0.490           18   \n",
       "11                          0.407                          0.593            2   \n",
       "12                          0.458                          0.542           14   \n",
       "13                          0.467                          0.533           13   \n",
       "14                          0.477                          0.523           14   \n",
       "15                          0.535                          0.465            6   \n",
       "\n",
       "    DEF_BOXOUTS  BOX_OUTS  PCT_BOX_OUTS_OFF  PCT_BOX_OUTS_DEF  \n",
       "0           305       341             0.106             0.894  \n",
       "1            46        48             0.042             0.958  \n",
       "2            79        88             0.102             0.898  \n",
       "3           249       275             0.091             0.905  \n",
       "4           232       246             0.057             0.943  \n",
       "5            45        45             0.000             1.000  \n",
       "6           230       242             0.050             0.950  \n",
       "7           200       261             0.234             0.766  \n",
       "8           350       373             0.062             0.938  \n",
       "9           141       149             0.054             0.946  \n",
       "10           50        68             0.265             0.735  \n",
       "11           59        61             0.033             0.967  \n",
       "12           72        86             0.163             0.837  \n",
       "13           64        77             0.169             0.831  \n",
       "14          164       178             0.079             0.921  \n",
       "15          165       171             0.035             0.965  "
      ],
      "text/html": "<div>\n<style scoped>\n    .dataframe tbody tr th:only-of-type {\n        vertical-align: middle;\n    }\n\n    .dataframe tbody tr th {\n        vertical-align: top;\n    }\n\n    .dataframe thead th {\n        text-align: right;\n    }\n</style>\n<table border=\"1\" class=\"dataframe\">\n  <thead>\n    <tr style=\"text-align: right;\">\n      <th></th>\n      <th>TEAM_ID</th>\n      <th>TEAM_NAME</th>\n      <th>MIN</th>\n      <th>CONTESTED_SHOTS</th>\n      <th>CONTESTED_SHOTS_2PT</th>\n      <th>CONTESTED_SHOTS_3PT</th>\n      <th>DEFLECTIONS</th>\n      <th>CHARGES_DRAWN</th>\n      <th>SCREEN_ASSISTS</th>\n      <th>SCREEN_AST_PTS</th>\n      <th>OFF_LOOSE_BALLS_RECOVERED</th>\n      <th>DEF_LOOSE_BALLS_RECOVERED</th>\n      <th>LOOSE_BALLS_RECOVERED</th>\n      <th>PCT_LOOSE_BALLS_RECOVERED_OFF</th>\n      <th>PCT_LOOSE_BALLS_RECOVERED_DEF</th>\n      <th>OFF_BOXOUTS</th>\n      <th>DEF_BOXOUTS</th>\n      <th>BOX_OUTS</th>\n      <th>PCT_BOX_OUTS_OFF</th>\n      <th>PCT_BOX_OUTS_DEF</th>\n    </tr>\n  </thead>\n  <tbody>\n    <tr>\n      <th>0</th>\n      <td>1610612738</td>\n      <td>Boston Celtics</td>\n      <td>1662.0</td>\n      <td>1055</td>\n      <td>570</td>\n      <td>485</td>\n      <td>203</td>\n      <td>11</td>\n      <td>156</td>\n      <td>354</td>\n      <td>61</td>\n      <td>61</td>\n      <td>122</td>\n      <td>0.500</td>\n      <td>0.500</td>\n      <td>36</td>\n      <td>305</td>\n      <td>341</td>\n      <td>0.106</td>\n      <td>0.894</td>\n    </tr>\n    <tr>\n      <th>1</th>\n      <td>1610612751</td>\n      <td>Brooklyn Nets</td>\n      <td>384.0</td>\n      <td>266</td>\n      <td>143</td>\n      <td>123</td>\n      <td>45</td>\n      <td>2</td>\n      <td>19</td>\n      <td>41</td>\n      <td>15</td>\n      <td>9</td>\n      <td>24</td>\n      <td>0.625</td>\n      <td>0.375</td>\n      <td>2</td>\n      <td>46</td>\n      <td>48</td>\n      <td>0.042</td>\n      <td>0.958</td>\n    </tr>\n    <tr>\n      <th>2</th>\n      <td>1610612742</td>\n      <td>Dallas Mavericks</td>\n      <td>586.0</td>\n      <td>366</td>\n      <td>226</td>\n      <td>140</td>\n      <td>56</td>\n      <td>3</td>\n      <td>69</td>\n      <td>155</td>\n      <td>16</td>\n      <td>19</td>\n      <td>35</td>\n      <td>0.457</td>\n      <td>0.543</td>\n      <td>9</td>\n      <td>79</td>\n      <td>88</td>\n      <td>0.102</td>\n      <td>0.898</td>\n    </tr>\n    <tr>\n      <th>3</th>\n      <td>1610612743</td>\n      <td>Denver Nuggets</td>\n      <td>1834.0</td>\n      <td>1073</td>\n      <td>605</td>\n      <td>468</td>\n      <td>259</td>\n      <td>6</td>\n      <td>181</td>\n      <td>409</td>\n      <td>44</td>\n      <td>50</td>\n      <td>94</td>\n      <td>0.468</td>\n      <td>0.532</td>\n      <td>25</td>\n      <td>249</td>\n      <td>275</td>\n      <td>0.091</td>\n      <td>0.905</td>\n    </tr>\n    <tr>\n      <th>4</th>\n      <td>1610612745</td>\n      <td>Houston Rockets</td>\n      <td>1162.0</td>\n      <td>608</td>\n      <td>339</td>\n      <td>269</td>\n      <td>159</td>\n      <td>17</td>\n      <td>65</td>\n      <td>162</td>\n      <td>32</td>\n      <td>39</td>\n      <td>71</td>\n      <td>0.451</td>\n      <td>0.549</td>\n      <td>14</td>\n      <td>232</td>\n      <td>246</td>\n      <td>0.057</td>\n      <td>0.943</td>\n    </tr>\n    <tr>\n      <th>5</th>\n      <td>1610612754</td>\n      <td>Indiana Pacers</td>\n      <td>384.0</td>\n      <td>198</td>\n      <td>109</td>\n      <td>89</td>\n      <td>46</td>\n      <td>2</td>\n      <td>21</td>\n      <td>52</td>\n      <td>14</td>\n      <td>13</td>\n      <td>27</td>\n      <td>0.519</td>\n      <td>0.481</td>\n      <td>0</td>\n      <td>45</td>\n      <td>45</td>\n      <td>0.000</td>\n      <td>1.000</td>\n    </tr>\n    <tr>\n      <th>6</th>\n      <td>1610612746</td>\n      <td>LA Clippers</td>\n      <td>1258.0</td>\n      <td>767</td>\n      <td>424</td>\n      <td>343</td>\n      <td>174</td>\n      <td>10</td>\n      <td>117</td>\n      <td>265</td>\n      <td>50</td>\n      <td>45</td>\n      <td>95</td>\n      <td>0.526</td>\n      <td>0.474</td>\n      <td>12</td>\n      <td>230</td>\n      <td>242</td>\n      <td>0.050</td>\n      <td>0.950</td>\n    </tr>\n    <tr>\n      <th>7</th>\n      <td>1610612747</td>\n      <td>Los Angeles Lakers</td>\n      <td>2016.0</td>\n      <td>1114</td>\n      <td>653</td>\n      <td>461</td>\n      <td>305</td>\n      <td>7</td>\n      <td>107</td>\n      <td>242</td>\n      <td>42</td>\n      <td>72</td>\n      <td>114</td>\n      <td>0.368</td>\n      <td>0.632</td>\n      <td>61</td>\n      <td>200</td>\n      <td>261</td>\n      <td>0.234</td>\n      <td>0.766</td>\n    </tr>\n    <tr>\n      <th>8</th>\n      <td>1610612748</td>\n      <td>Miami Heat</td>\n      <td>2036.0</td>\n      <td>1210</td>\n      <td>655</td>\n      <td>555</td>\n      <td>288</td>\n      <td>7</td>\n      <td>191</td>\n      <td>458</td>\n      <td>66</td>\n      <td>70</td>\n      <td>136</td>\n      <td>0.485</td>\n      <td>0.515</td>\n      <td>23</td>\n      <td>350</td>\n      <td>373</td>\n      <td>0.062</td>\n      <td>0.938</td>\n    </tr>\n    <tr>\n      <th>9</th>\n      <td>1610612749</td>\n      <td>Milwaukee Bucks</td>\n      <td>970.0</td>\n      <td>659</td>\n      <td>364</td>\n      <td>295</td>\n      <td>132</td>\n      <td>6</td>\n      <td>44</td>\n      <td>106</td>\n      <td>41</td>\n      <td>28</td>\n      <td>69</td>\n      <td>0.594</td>\n      <td>0.406</td>\n      <td>8</td>\n      <td>141</td>\n      <td>149</td>\n      <td>0.054</td>\n      <td>0.946</td>\n    </tr>\n    <tr>\n      <th>10</th>\n      <td>1610612760</td>\n      <td>Oklahoma City Thunder</td>\n      <td>682.0</td>\n      <td>442</td>\n      <td>191</td>\n      <td>251</td>\n      <td>79</td>\n      <td>6</td>\n      <td>31</td>\n      <td>69</td>\n      <td>25</td>\n      <td>24</td>\n      <td>49</td>\n      <td>0.510</td>\n      <td>0.490</td>\n      <td>18</td>\n      <td>50</td>\n      <td>68</td>\n      <td>0.265</td>\n      <td>0.735</td>\n    </tr>\n    <tr>\n      <th>11</th>\n      <td>1610612753</td>\n      <td>Orlando Magic</td>\n      <td>480.0</td>\n      <td>247</td>\n      <td>119</td>\n      <td>128</td>\n      <td>55</td>\n      <td>7</td>\n      <td>59</td>\n      <td>139</td>\n      <td>11</td>\n      <td>16</td>\n      <td>27</td>\n      <td>0.407</td>\n      <td>0.593</td>\n      <td>2</td>\n      <td>59</td>\n      <td>61</td>\n      <td>0.033</td>\n      <td>0.967</td>\n    </tr>\n    <tr>\n      <th>12</th>\n      <td>1610612755</td>\n      <td>Philadelphia 76ers</td>\n      <td>384.0</td>\n      <td>200</td>\n      <td>110</td>\n      <td>90</td>\n      <td>30</td>\n      <td>0</td>\n      <td>20</td>\n      <td>43</td>\n      <td>11</td>\n      <td>13</td>\n      <td>24</td>\n      <td>0.458</td>\n      <td>0.542</td>\n      <td>14</td>\n      <td>72</td>\n      <td>86</td>\n      <td>0.163</td>\n      <td>0.837</td>\n    </tr>\n    <tr>\n      <th>13</th>\n      <td>1610612757</td>\n      <td>Portland Trail Blazers</td>\n      <td>480.0</td>\n      <td>281</td>\n      <td>164</td>\n      <td>117</td>\n      <td>68</td>\n      <td>1</td>\n      <td>37</td>\n      <td>90</td>\n      <td>14</td>\n      <td>16</td>\n      <td>30</td>\n      <td>0.467</td>\n      <td>0.533</td>\n      <td>13</td>\n      <td>64</td>\n      <td>77</td>\n      <td>0.169</td>\n      <td>0.831</td>\n    </tr>\n    <tr>\n      <th>14</th>\n      <td>1610612761</td>\n      <td>Toronto Raptors</td>\n      <td>1076.0</td>\n      <td>674</td>\n      <td>342</td>\n      <td>332</td>\n      <td>126</td>\n      <td>10</td>\n      <td>76</td>\n      <td>181</td>\n      <td>42</td>\n      <td>46</td>\n      <td>88</td>\n      <td>0.477</td>\n      <td>0.523</td>\n      <td>14</td>\n      <td>164</td>\n      <td>178</td>\n      <td>0.079</td>\n      <td>0.921</td>\n    </tr>\n    <tr>\n      <th>15</th>\n      <td>1610612762</td>\n      <td>Utah Jazz</td>\n      <td>682.0</td>\n      <td>423</td>\n      <td>234</td>\n      <td>189</td>\n      <td>73</td>\n      <td>5</td>\n      <td>85</td>\n      <td>206</td>\n      <td>23</td>\n      <td>20</td>\n      <td>43</td>\n      <td>0.535</td>\n      <td>0.465</td>\n      <td>6</td>\n      <td>165</td>\n      <td>171</td>\n      <td>0.035</td>\n      <td>0.965</td>\n    </tr>\n  </tbody>\n</table>\n</div>"
     },
     "metadata": {},
     "execution_count": 13
    }
   ],
   "source": [
    "# team hustle stats in the 2019-20 playoffs\n",
    "team_hustle = leaguehustlestatsteam.LeagueHustleStatsTeam(season_type_all_star = 'Playoffs', season='2019-20')\n",
    "team_hustle.get_data_frames()[0]"
   ]
  },
  {
   "cell_type": "code",
   "execution_count": 14,
   "metadata": {},
   "outputs": [
    {
     "output_type": "execute_result",
     "data": {
      "text/plain": [
       "     PLAYER_ID      PLAYER_NAME     TEAM_ID TEAM_ABBREVIATION   AGE   G  \\\n",
       "0      1628988    Aaron Holiday  1610612754               IND  23.0   4   \n",
       "1      1627846      Abdel Nader  1610612760               OKC  26.0   3   \n",
       "2       201143       Al Horford  1610612755               PHI  34.0   4   \n",
       "3       202692       Alec Burks  1610612755               PHI  28.0   4   \n",
       "4      1627936      Alex Caruso  1610612747               LAL  26.0  21   \n",
       "..         ...              ...         ...               ...   ...  ..   \n",
       "212     203506   Victor Oladipo  1610612754               IND  28.0   4   \n",
       "213    1629738  Vincent Poirier  1610612738               BOS  26.0   1   \n",
       "214    1629117   Wenyen Gabriel  1610612757               POR  23.0   4   \n",
       "215    1628411       Wes Iwundu  1610612753               ORL  25.0   5   \n",
       "216     202083  Wesley Matthews  1610612749               MIL  33.0  10   \n",
       "\n",
       "       MIN  CONTESTED_SHOTS  CONTESTED_SHOTS_2PT  CONTESTED_SHOTS_3PT  ...  \\\n",
       "0     72.0               18                    7                   11  ...   \n",
       "1     25.0               12                    8                    4  ...   \n",
       "2    128.0               33                   20                   13  ...   \n",
       "3     95.0               17                    7                   10  ...   \n",
       "4    510.0               96                   43                   53  ...   \n",
       "..     ...              ...                  ...                  ...  ...   \n",
       "212  123.0               26                    8                   18  ...   \n",
       "213    2.0                0                    0                    0  ...   \n",
       "214   53.0               27                   21                    6  ...   \n",
       "215   76.0               12                    6                    6  ...   \n",
       "216  246.0               31                   12                   19  ...   \n",
       "\n",
       "     PCT_LOOSE_BALLS_RECOVERED_DEF  OFF_BOXOUTS  DEF_BOXOUTS  \\\n",
       "0                            0.000            0            2   \n",
       "1                            0.000            0            0   \n",
       "2                            0.000            2           20   \n",
       "3                            0.333            0            1   \n",
       "4                            0.600            1           16   \n",
       "..                             ...          ...          ...   \n",
       "212                          0.500            0            2   \n",
       "213                          0.000            0            0   \n",
       "214                          0.500            3            7   \n",
       "215                          0.000            0            1   \n",
       "216                          0.400            3           20   \n",
       "\n",
       "     BOX_OUT_PLAYER_TEAM_REBS  BOX_OUT_PLAYER_REBS  BOX_OUTS  \\\n",
       "0                           0                    0         2   \n",
       "1                           0                    0         0   \n",
       "2                          10                    6        22   \n",
       "3                           1                    0         1   \n",
       "4                           9                    0        17   \n",
       "..                        ...                  ...       ...   \n",
       "212                         1                    0         2   \n",
       "213                         0                    0         0   \n",
       "214                         4                    2        10   \n",
       "215                         0                    0         1   \n",
       "216                        13                    3        23   \n",
       "\n",
       "     PCT_BOX_OUTS_OFF  PCT_BOX_OUTS_DEF  PCT_BOX_OUTS_TEAM_REB  \\\n",
       "0               0.000             1.000                  0.000   \n",
       "1               0.000             0.000                  0.000   \n",
       "2               0.091             0.909                  0.667   \n",
       "3               0.000             1.000                  1.000   \n",
       "4               0.059             0.941                  1.000   \n",
       "..                ...               ...                    ...   \n",
       "212             0.000             1.000                  0.500   \n",
       "213             0.000             0.000                  0.000   \n",
       "214             0.300             0.700                  0.571   \n",
       "215             0.000             1.000                  0.000   \n",
       "216             0.130             0.870                  0.722   \n",
       "\n",
       "     PCT_BOX_OUTS_REB  \n",
       "0               0.000  \n",
       "1               0.000  \n",
       "2               0.400  \n",
       "3               0.000  \n",
       "4               0.000  \n",
       "..                ...  \n",
       "212             0.000  \n",
       "213             0.000  \n",
       "214             0.286  \n",
       "215             0.000  \n",
       "216             0.167  \n",
       "\n",
       "[217 rows x 28 columns]"
      ],
      "text/html": "<div>\n<style scoped>\n    .dataframe tbody tr th:only-of-type {\n        vertical-align: middle;\n    }\n\n    .dataframe tbody tr th {\n        vertical-align: top;\n    }\n\n    .dataframe thead th {\n        text-align: right;\n    }\n</style>\n<table border=\"1\" class=\"dataframe\">\n  <thead>\n    <tr style=\"text-align: right;\">\n      <th></th>\n      <th>PLAYER_ID</th>\n      <th>PLAYER_NAME</th>\n      <th>TEAM_ID</th>\n      <th>TEAM_ABBREVIATION</th>\n      <th>AGE</th>\n      <th>G</th>\n      <th>MIN</th>\n      <th>CONTESTED_SHOTS</th>\n      <th>CONTESTED_SHOTS_2PT</th>\n      <th>CONTESTED_SHOTS_3PT</th>\n      <th>...</th>\n      <th>PCT_LOOSE_BALLS_RECOVERED_DEF</th>\n      <th>OFF_BOXOUTS</th>\n      <th>DEF_BOXOUTS</th>\n      <th>BOX_OUT_PLAYER_TEAM_REBS</th>\n      <th>BOX_OUT_PLAYER_REBS</th>\n      <th>BOX_OUTS</th>\n      <th>PCT_BOX_OUTS_OFF</th>\n      <th>PCT_BOX_OUTS_DEF</th>\n      <th>PCT_BOX_OUTS_TEAM_REB</th>\n      <th>PCT_BOX_OUTS_REB</th>\n    </tr>\n  </thead>\n  <tbody>\n    <tr>\n      <th>0</th>\n      <td>1628988</td>\n      <td>Aaron Holiday</td>\n      <td>1610612754</td>\n      <td>IND</td>\n      <td>23.0</td>\n      <td>4</td>\n      <td>72.0</td>\n      <td>18</td>\n      <td>7</td>\n      <td>11</td>\n      <td>...</td>\n      <td>0.000</td>\n      <td>0</td>\n      <td>2</td>\n      <td>0</td>\n      <td>0</td>\n      <td>2</td>\n      <td>0.000</td>\n      <td>1.000</td>\n      <td>0.000</td>\n      <td>0.000</td>\n    </tr>\n    <tr>\n      <th>1</th>\n      <td>1627846</td>\n      <td>Abdel Nader</td>\n      <td>1610612760</td>\n      <td>OKC</td>\n      <td>26.0</td>\n      <td>3</td>\n      <td>25.0</td>\n      <td>12</td>\n      <td>8</td>\n      <td>4</td>\n      <td>...</td>\n      <td>0.000</td>\n      <td>0</td>\n      <td>0</td>\n      <td>0</td>\n      <td>0</td>\n      <td>0</td>\n      <td>0.000</td>\n      <td>0.000</td>\n      <td>0.000</td>\n      <td>0.000</td>\n    </tr>\n    <tr>\n      <th>2</th>\n      <td>201143</td>\n      <td>Al Horford</td>\n      <td>1610612755</td>\n      <td>PHI</td>\n      <td>34.0</td>\n      <td>4</td>\n      <td>128.0</td>\n      <td>33</td>\n      <td>20</td>\n      <td>13</td>\n      <td>...</td>\n      <td>0.000</td>\n      <td>2</td>\n      <td>20</td>\n      <td>10</td>\n      <td>6</td>\n      <td>22</td>\n      <td>0.091</td>\n      <td>0.909</td>\n      <td>0.667</td>\n      <td>0.400</td>\n    </tr>\n    <tr>\n      <th>3</th>\n      <td>202692</td>\n      <td>Alec Burks</td>\n      <td>1610612755</td>\n      <td>PHI</td>\n      <td>28.0</td>\n      <td>4</td>\n      <td>95.0</td>\n      <td>17</td>\n      <td>7</td>\n      <td>10</td>\n      <td>...</td>\n      <td>0.333</td>\n      <td>0</td>\n      <td>1</td>\n      <td>1</td>\n      <td>0</td>\n      <td>1</td>\n      <td>0.000</td>\n      <td>1.000</td>\n      <td>1.000</td>\n      <td>0.000</td>\n    </tr>\n    <tr>\n      <th>4</th>\n      <td>1627936</td>\n      <td>Alex Caruso</td>\n      <td>1610612747</td>\n      <td>LAL</td>\n      <td>26.0</td>\n      <td>21</td>\n      <td>510.0</td>\n      <td>96</td>\n      <td>43</td>\n      <td>53</td>\n      <td>...</td>\n      <td>0.600</td>\n      <td>1</td>\n      <td>16</td>\n      <td>9</td>\n      <td>0</td>\n      <td>17</td>\n      <td>0.059</td>\n      <td>0.941</td>\n      <td>1.000</td>\n      <td>0.000</td>\n    </tr>\n    <tr>\n      <th>...</th>\n      <td>...</td>\n      <td>...</td>\n      <td>...</td>\n      <td>...</td>\n      <td>...</td>\n      <td>...</td>\n      <td>...</td>\n      <td>...</td>\n      <td>...</td>\n      <td>...</td>\n      <td>...</td>\n      <td>...</td>\n      <td>...</td>\n      <td>...</td>\n      <td>...</td>\n      <td>...</td>\n      <td>...</td>\n      <td>...</td>\n      <td>...</td>\n      <td>...</td>\n      <td>...</td>\n    </tr>\n    <tr>\n      <th>212</th>\n      <td>203506</td>\n      <td>Victor Oladipo</td>\n      <td>1610612754</td>\n      <td>IND</td>\n      <td>28.0</td>\n      <td>4</td>\n      <td>123.0</td>\n      <td>26</td>\n      <td>8</td>\n      <td>18</td>\n      <td>...</td>\n      <td>0.500</td>\n      <td>0</td>\n      <td>2</td>\n      <td>1</td>\n      <td>0</td>\n      <td>2</td>\n      <td>0.000</td>\n      <td>1.000</td>\n      <td>0.500</td>\n      <td>0.000</td>\n    </tr>\n    <tr>\n      <th>213</th>\n      <td>1629738</td>\n      <td>Vincent Poirier</td>\n      <td>1610612738</td>\n      <td>BOS</td>\n      <td>26.0</td>\n      <td>1</td>\n      <td>2.0</td>\n      <td>0</td>\n      <td>0</td>\n      <td>0</td>\n      <td>...</td>\n      <td>0.000</td>\n      <td>0</td>\n      <td>0</td>\n      <td>0</td>\n      <td>0</td>\n      <td>0</td>\n      <td>0.000</td>\n      <td>0.000</td>\n      <td>0.000</td>\n      <td>0.000</td>\n    </tr>\n    <tr>\n      <th>214</th>\n      <td>1629117</td>\n      <td>Wenyen Gabriel</td>\n      <td>1610612757</td>\n      <td>POR</td>\n      <td>23.0</td>\n      <td>4</td>\n      <td>53.0</td>\n      <td>27</td>\n      <td>21</td>\n      <td>6</td>\n      <td>...</td>\n      <td>0.500</td>\n      <td>3</td>\n      <td>7</td>\n      <td>4</td>\n      <td>2</td>\n      <td>10</td>\n      <td>0.300</td>\n      <td>0.700</td>\n      <td>0.571</td>\n      <td>0.286</td>\n    </tr>\n    <tr>\n      <th>215</th>\n      <td>1628411</td>\n      <td>Wes Iwundu</td>\n      <td>1610612753</td>\n      <td>ORL</td>\n      <td>25.0</td>\n      <td>5</td>\n      <td>76.0</td>\n      <td>12</td>\n      <td>6</td>\n      <td>6</td>\n      <td>...</td>\n      <td>0.000</td>\n      <td>0</td>\n      <td>1</td>\n      <td>0</td>\n      <td>0</td>\n      <td>1</td>\n      <td>0.000</td>\n      <td>1.000</td>\n      <td>0.000</td>\n      <td>0.000</td>\n    </tr>\n    <tr>\n      <th>216</th>\n      <td>202083</td>\n      <td>Wesley Matthews</td>\n      <td>1610612749</td>\n      <td>MIL</td>\n      <td>33.0</td>\n      <td>10</td>\n      <td>246.0</td>\n      <td>31</td>\n      <td>12</td>\n      <td>19</td>\n      <td>...</td>\n      <td>0.400</td>\n      <td>3</td>\n      <td>20</td>\n      <td>13</td>\n      <td>3</td>\n      <td>23</td>\n      <td>0.130</td>\n      <td>0.870</td>\n      <td>0.722</td>\n      <td>0.167</td>\n    </tr>\n  </tbody>\n</table>\n<p>217 rows × 28 columns</p>\n</div>"
     },
     "metadata": {},
     "execution_count": 14
    }
   ],
   "source": [
    "# player hustle stats in the 2019-20 playoffs\n",
    "player_hustle = leaguehustlestatsplayer.LeagueHustleStatsPlayer(season_type_all_star = 'Playoffs', season='2019-20')\n",
    "player_hustle.get_data_frames()[0]"
   ]
  },
  {
   "cell_type": "code",
   "execution_count": 15,
   "metadata": {},
   "outputs": [],
   "source": [
    "# define function to pull team and player hustle stats from nba_api\n",
    "\n",
    "def playoffs_hustle_stats(season):\n",
    "\n",
    "    player_hustle = leaguehustlestatsplayer.LeagueHustleStatsPlayer(season_type_all_star = 'Playoffs', season=season)\n",
    "    player_hustle = player_hustle.get_data_frames()[0]\n",
    "    player_hustle['SEASON'] = season\n",
    "\n",
    "    team_hustle = leaguehustlestatsteam.LeagueHustleStatsTeam(season_type_all_star = 'Playoffs', season=season)\n",
    "    team_hustle = team_hustle.get_data_frames()[0]\n",
    "    team_hustle['SEASON'] = season\n",
    "\n",
    "    return player_hustle, team_hustle\n",
    "\n"
   ]
  },
  {
   "cell_type": "code",
   "execution_count": 16,
   "metadata": {},
   "outputs": [],
   "source": [
    "# pull player and team playoff hustle stats for 2019-20 season\n",
    "player_hustle_stats, team_hustle_stats = playoffs_hustle_stats(season='2019-20')\n"
   ]
  },
  {
   "cell_type": "code",
   "execution_count": 17,
   "metadata": {},
   "outputs": [],
   "source": [
    "# append player and team hustle stats dataframes with prior playoff seasons\n",
    "player_hustle_stats = player_hustle_stats.append(playoffs_hustle_stats(season='2018-19')[0])\n",
    "player_hustle_stats = player_hustle_stats.append(playoffs_hustle_stats(season='2017-18')[0])\n",
    "player_hustle_stats = player_hustle_stats.append(playoffs_hustle_stats(season='2016-17')[0])\n",
    "player_hustle_stats = player_hustle_stats.append(playoffs_hustle_stats(season='2015-16')[0])\n",
    "\n",
    "team_hustle_stats = team_hustle_stats.append(playoffs_hustle_stats(season='2018-19')[1])\n",
    "team_hustle_stats = team_hustle_stats.append(playoffs_hustle_stats(season='2017-18')[1])\n",
    "team_hustle_stats = team_hustle_stats.append(playoffs_hustle_stats(season='2016-17')[1])\n",
    "team_hustle_stats = team_hustle_stats.append(playoffs_hustle_stats(season='2015-16')[1])"
   ]
  },
  {
   "cell_type": "code",
   "execution_count": 18,
   "metadata": {},
   "outputs": [
    {
     "output_type": "execute_result",
     "data": {
      "text/plain": [
       "     PLAYER_ID      PLAYER_NAME     TEAM_ID TEAM_ABBREVIATION   AGE   G  \\\n",
       "0      1628988    Aaron Holiday  1610612754               IND  23.0   4   \n",
       "1      1627846      Abdel Nader  1610612760               OKC  26.0   3   \n",
       "2       201143       Al Horford  1610612755               PHI  34.0   4   \n",
       "3       202692       Alec Burks  1610612755               PHI  28.0   4   \n",
       "4      1627936      Alex Caruso  1610612747               LAL  26.0  21   \n",
       "..         ...              ...         ...               ...   ...  ..   \n",
       "210     202325   Wesley Johnson  1610612746               LAC  28.0   6   \n",
       "211     202083  Wesley Matthews  1610612742               DAL  29.0   5   \n",
       "212     204098   Xavier Munford  1610612763               MEM  24.0   4   \n",
       "213       2216    Zach Randolph  1610612763               MEM  34.0   4   \n",
       "214       2585    Zaza Pachulia  1610612742               DAL  32.0   5   \n",
       "\n",
       "       MIN  CONTESTED_SHOTS  CONTESTED_SHOTS_2PT  CONTESTED_SHOTS_3PT  ...  \\\n",
       "0     72.0               18                    7                   11  ...   \n",
       "1     25.0               12                    8                    4  ...   \n",
       "2    128.0               33                   20                   13  ...   \n",
       "3     95.0               17                    7                   10  ...   \n",
       "4    510.0               96                   43                   53  ...   \n",
       "..     ...              ...                  ...                  ...  ...   \n",
       "210   77.0               21                   15                    6  ...   \n",
       "211  173.0               61                   36                   25  ...   \n",
       "212   89.0               22                    7                   15  ...   \n",
       "213  120.0               30                   29                    1  ...   \n",
       "214  112.0               44                   41                    3  ...   \n",
       "\n",
       "     OFF_BOXOUTS  DEF_BOXOUTS  BOX_OUT_PLAYER_TEAM_REBS  BOX_OUT_PLAYER_REBS  \\\n",
       "0              0            2                         0                    0   \n",
       "1              0            0                         0                    0   \n",
       "2              2           20                        10                    6   \n",
       "3              0            1                         1                    0   \n",
       "4              1           16                         9                    0   \n",
       "..           ...          ...                       ...                  ...   \n",
       "210            0            0                         0                    0   \n",
       "211            0            0                         0                    0   \n",
       "212            0            0                         0                    0   \n",
       "213            0            0                         0                    0   \n",
       "214            0            0                         0                    0   \n",
       "\n",
       "     BOX_OUTS  PCT_BOX_OUTS_OFF  PCT_BOX_OUTS_DEF  PCT_BOX_OUTS_TEAM_REB  \\\n",
       "0           2             0.000             1.000                  0.000   \n",
       "1           0             0.000             0.000                  0.000   \n",
       "2          22             0.091             0.909                  0.667   \n",
       "3           1             0.000             1.000                  1.000   \n",
       "4          17             0.059             0.941                  1.000   \n",
       "..        ...               ...               ...                    ...   \n",
       "210         0             0.000             0.000                  0.000   \n",
       "211         0             0.000             0.000                  0.000   \n",
       "212         0             0.000             0.000                  0.000   \n",
       "213         0             0.000             0.000                  0.000   \n",
       "214         0             0.000             0.000                  0.000   \n",
       "\n",
       "     PCT_BOX_OUTS_REB   SEASON  \n",
       "0                 0.0  2019-20  \n",
       "1                 0.0  2019-20  \n",
       "2                 0.4  2019-20  \n",
       "3                 0.0  2019-20  \n",
       "4                 0.0  2019-20  \n",
       "..                ...      ...  \n",
       "210               0.0  2015-16  \n",
       "211               0.0  2015-16  \n",
       "212               0.0  2015-16  \n",
       "213               0.0  2015-16  \n",
       "214               0.0  2015-16  \n",
       "\n",
       "[1069 rows x 29 columns]"
      ],
      "text/html": "<div>\n<style scoped>\n    .dataframe tbody tr th:only-of-type {\n        vertical-align: middle;\n    }\n\n    .dataframe tbody tr th {\n        vertical-align: top;\n    }\n\n    .dataframe thead th {\n        text-align: right;\n    }\n</style>\n<table border=\"1\" class=\"dataframe\">\n  <thead>\n    <tr style=\"text-align: right;\">\n      <th></th>\n      <th>PLAYER_ID</th>\n      <th>PLAYER_NAME</th>\n      <th>TEAM_ID</th>\n      <th>TEAM_ABBREVIATION</th>\n      <th>AGE</th>\n      <th>G</th>\n      <th>MIN</th>\n      <th>CONTESTED_SHOTS</th>\n      <th>CONTESTED_SHOTS_2PT</th>\n      <th>CONTESTED_SHOTS_3PT</th>\n      <th>...</th>\n      <th>OFF_BOXOUTS</th>\n      <th>DEF_BOXOUTS</th>\n      <th>BOX_OUT_PLAYER_TEAM_REBS</th>\n      <th>BOX_OUT_PLAYER_REBS</th>\n      <th>BOX_OUTS</th>\n      <th>PCT_BOX_OUTS_OFF</th>\n      <th>PCT_BOX_OUTS_DEF</th>\n      <th>PCT_BOX_OUTS_TEAM_REB</th>\n      <th>PCT_BOX_OUTS_REB</th>\n      <th>SEASON</th>\n    </tr>\n  </thead>\n  <tbody>\n    <tr>\n      <th>0</th>\n      <td>1628988</td>\n      <td>Aaron Holiday</td>\n      <td>1610612754</td>\n      <td>IND</td>\n      <td>23.0</td>\n      <td>4</td>\n      <td>72.0</td>\n      <td>18</td>\n      <td>7</td>\n      <td>11</td>\n      <td>...</td>\n      <td>0</td>\n      <td>2</td>\n      <td>0</td>\n      <td>0</td>\n      <td>2</td>\n      <td>0.000</td>\n      <td>1.000</td>\n      <td>0.000</td>\n      <td>0.0</td>\n      <td>2019-20</td>\n    </tr>\n    <tr>\n      <th>1</th>\n      <td>1627846</td>\n      <td>Abdel Nader</td>\n      <td>1610612760</td>\n      <td>OKC</td>\n      <td>26.0</td>\n      <td>3</td>\n      <td>25.0</td>\n      <td>12</td>\n      <td>8</td>\n      <td>4</td>\n      <td>...</td>\n      <td>0</td>\n      <td>0</td>\n      <td>0</td>\n      <td>0</td>\n      <td>0</td>\n      <td>0.000</td>\n      <td>0.000</td>\n      <td>0.000</td>\n      <td>0.0</td>\n      <td>2019-20</td>\n    </tr>\n    <tr>\n      <th>2</th>\n      <td>201143</td>\n      <td>Al Horford</td>\n      <td>1610612755</td>\n      <td>PHI</td>\n      <td>34.0</td>\n      <td>4</td>\n      <td>128.0</td>\n      <td>33</td>\n      <td>20</td>\n      <td>13</td>\n      <td>...</td>\n      <td>2</td>\n      <td>20</td>\n      <td>10</td>\n      <td>6</td>\n      <td>22</td>\n      <td>0.091</td>\n      <td>0.909</td>\n      <td>0.667</td>\n      <td>0.4</td>\n      <td>2019-20</td>\n    </tr>\n    <tr>\n      <th>3</th>\n      <td>202692</td>\n      <td>Alec Burks</td>\n      <td>1610612755</td>\n      <td>PHI</td>\n      <td>28.0</td>\n      <td>4</td>\n      <td>95.0</td>\n      <td>17</td>\n      <td>7</td>\n      <td>10</td>\n      <td>...</td>\n      <td>0</td>\n      <td>1</td>\n      <td>1</td>\n      <td>0</td>\n      <td>1</td>\n      <td>0.000</td>\n      <td>1.000</td>\n      <td>1.000</td>\n      <td>0.0</td>\n      <td>2019-20</td>\n    </tr>\n    <tr>\n      <th>4</th>\n      <td>1627936</td>\n      <td>Alex Caruso</td>\n      <td>1610612747</td>\n      <td>LAL</td>\n      <td>26.0</td>\n      <td>21</td>\n      <td>510.0</td>\n      <td>96</td>\n      <td>43</td>\n      <td>53</td>\n      <td>...</td>\n      <td>1</td>\n      <td>16</td>\n      <td>9</td>\n      <td>0</td>\n      <td>17</td>\n      <td>0.059</td>\n      <td>0.941</td>\n      <td>1.000</td>\n      <td>0.0</td>\n      <td>2019-20</td>\n    </tr>\n    <tr>\n      <th>...</th>\n      <td>...</td>\n      <td>...</td>\n      <td>...</td>\n      <td>...</td>\n      <td>...</td>\n      <td>...</td>\n      <td>...</td>\n      <td>...</td>\n      <td>...</td>\n      <td>...</td>\n      <td>...</td>\n      <td>...</td>\n      <td>...</td>\n      <td>...</td>\n      <td>...</td>\n      <td>...</td>\n      <td>...</td>\n      <td>...</td>\n      <td>...</td>\n      <td>...</td>\n      <td>...</td>\n    </tr>\n    <tr>\n      <th>210</th>\n      <td>202325</td>\n      <td>Wesley Johnson</td>\n      <td>1610612746</td>\n      <td>LAC</td>\n      <td>28.0</td>\n      <td>6</td>\n      <td>77.0</td>\n      <td>21</td>\n      <td>15</td>\n      <td>6</td>\n      <td>...</td>\n      <td>0</td>\n      <td>0</td>\n      <td>0</td>\n      <td>0</td>\n      <td>0</td>\n      <td>0.000</td>\n      <td>0.000</td>\n      <td>0.000</td>\n      <td>0.0</td>\n      <td>2015-16</td>\n    </tr>\n    <tr>\n      <th>211</th>\n      <td>202083</td>\n      <td>Wesley Matthews</td>\n      <td>1610612742</td>\n      <td>DAL</td>\n      <td>29.0</td>\n      <td>5</td>\n      <td>173.0</td>\n      <td>61</td>\n      <td>36</td>\n      <td>25</td>\n      <td>...</td>\n      <td>0</td>\n      <td>0</td>\n      <td>0</td>\n      <td>0</td>\n      <td>0</td>\n      <td>0.000</td>\n      <td>0.000</td>\n      <td>0.000</td>\n      <td>0.0</td>\n      <td>2015-16</td>\n    </tr>\n    <tr>\n      <th>212</th>\n      <td>204098</td>\n      <td>Xavier Munford</td>\n      <td>1610612763</td>\n      <td>MEM</td>\n      <td>24.0</td>\n      <td>4</td>\n      <td>89.0</td>\n      <td>22</td>\n      <td>7</td>\n      <td>15</td>\n      <td>...</td>\n      <td>0</td>\n      <td>0</td>\n      <td>0</td>\n      <td>0</td>\n      <td>0</td>\n      <td>0.000</td>\n      <td>0.000</td>\n      <td>0.000</td>\n      <td>0.0</td>\n      <td>2015-16</td>\n    </tr>\n    <tr>\n      <th>213</th>\n      <td>2216</td>\n      <td>Zach Randolph</td>\n      <td>1610612763</td>\n      <td>MEM</td>\n      <td>34.0</td>\n      <td>4</td>\n      <td>120.0</td>\n      <td>30</td>\n      <td>29</td>\n      <td>1</td>\n      <td>...</td>\n      <td>0</td>\n      <td>0</td>\n      <td>0</td>\n      <td>0</td>\n      <td>0</td>\n      <td>0.000</td>\n      <td>0.000</td>\n      <td>0.000</td>\n      <td>0.0</td>\n      <td>2015-16</td>\n    </tr>\n    <tr>\n      <th>214</th>\n      <td>2585</td>\n      <td>Zaza Pachulia</td>\n      <td>1610612742</td>\n      <td>DAL</td>\n      <td>32.0</td>\n      <td>5</td>\n      <td>112.0</td>\n      <td>44</td>\n      <td>41</td>\n      <td>3</td>\n      <td>...</td>\n      <td>0</td>\n      <td>0</td>\n      <td>0</td>\n      <td>0</td>\n      <td>0</td>\n      <td>0.000</td>\n      <td>0.000</td>\n      <td>0.000</td>\n      <td>0.0</td>\n      <td>2015-16</td>\n    </tr>\n  </tbody>\n</table>\n<p>1069 rows × 29 columns</p>\n</div>"
     },
     "metadata": {},
     "execution_count": 18
    }
   ],
   "source": [
    "player_hustle_stats"
   ]
  },
  {
   "cell_type": "code",
   "execution_count": 19,
   "metadata": {},
   "outputs": [
    {
     "output_type": "execute_result",
     "data": {
      "text/plain": [
       "       TEAM_ID               TEAM_NAME     MIN  CONTESTED_SHOTS  \\\n",
       "0   1610612738          Boston Celtics  1662.0             1055   \n",
       "1   1610612751           Brooklyn Nets   384.0              266   \n",
       "2   1610612742        Dallas Mavericks   586.0              366   \n",
       "3   1610612743          Denver Nuggets  1834.0             1073   \n",
       "4   1610612745         Houston Rockets  1162.0              608   \n",
       "..         ...                     ...     ...              ...   \n",
       "11  1610612748              Miami Heat  1374.0              912   \n",
       "12  1610612760   Oklahoma City Thunder  1728.0             1211   \n",
       "13  1610612757  Portland Trail Blazers  1066.0              769   \n",
       "14  1610612759       San Antonio Spurs   960.0              714   \n",
       "15  1610612761         Toronto Raptors  1950.0             1234   \n",
       "\n",
       "    CONTESTED_SHOTS_2PT  CONTESTED_SHOTS_3PT  DEFLECTIONS  CHARGES_DRAWN  \\\n",
       "0                   570                  485          203             11   \n",
       "1                   143                  123           45              2   \n",
       "2                   226                  140           56              3   \n",
       "3                   605                  468          259              6   \n",
       "4                   339                  269          159             17   \n",
       "..                  ...                  ...          ...            ...   \n",
       "11                  679                  233          140             14   \n",
       "12                  872                  339          197              4   \n",
       "13                  528                  241          146              3   \n",
       "14                  565                  149          169              8   \n",
       "15                  875                  359          226              9   \n",
       "\n",
       "    SCREEN_ASSISTS  SCREEN_AST_PTS  ...  DEF_LOOSE_BALLS_RECOVERED  \\\n",
       "0              156             354  ...                         61   \n",
       "1               19              41  ...                          9   \n",
       "2               69             155  ...                         19   \n",
       "3              181             409  ...                         50   \n",
       "4               65             162  ...                         39   \n",
       "..             ...             ...  ...                        ...   \n",
       "11             108             230  ...                          0   \n",
       "12             105             240  ...                          0   \n",
       "13              90             212  ...                          0   \n",
       "14              87             191  ...                          0   \n",
       "15             186             400  ...                          0   \n",
       "\n",
       "    LOOSE_BALLS_RECOVERED  PCT_LOOSE_BALLS_RECOVERED_OFF  \\\n",
       "0                     122                          0.500   \n",
       "1                      24                          0.625   \n",
       "2                      35                          0.457   \n",
       "3                      94                          0.468   \n",
       "4                      71                          0.451   \n",
       "..                    ...                            ...   \n",
       "11                     85                          0.000   \n",
       "12                    100                          0.000   \n",
       "13                     67                          0.000   \n",
       "14                     50                          0.000   \n",
       "15                     95                          0.000   \n",
       "\n",
       "    PCT_LOOSE_BALLS_RECOVERED_DEF  OFF_BOXOUTS  DEF_BOXOUTS  BOX_OUTS  \\\n",
       "0                           0.500           36          305       341   \n",
       "1                           0.375            2           46        48   \n",
       "2                           0.543            9           79        88   \n",
       "3                           0.532           25          249       275   \n",
       "4                           0.549           14          232       246   \n",
       "..                            ...          ...          ...       ...   \n",
       "11                          0.000            0            0         0   \n",
       "12                          0.000            0            0         0   \n",
       "13                          0.000            0            0         0   \n",
       "14                          0.000            0            0         0   \n",
       "15                          0.000            0            0         0   \n",
       "\n",
       "    PCT_BOX_OUTS_OFF  PCT_BOX_OUTS_DEF   SEASON  \n",
       "0              0.106             0.894  2019-20  \n",
       "1              0.042             0.958  2019-20  \n",
       "2              0.102             0.898  2019-20  \n",
       "3              0.091             0.905  2019-20  \n",
       "4              0.057             0.943  2019-20  \n",
       "..               ...               ...      ...  \n",
       "11             0.000             0.000  2015-16  \n",
       "12             0.000             0.000  2015-16  \n",
       "13             0.000             0.000  2015-16  \n",
       "14             0.000             0.000  2015-16  \n",
       "15             0.000             0.000  2015-16  \n",
       "\n",
       "[80 rows x 21 columns]"
      ],
      "text/html": "<div>\n<style scoped>\n    .dataframe tbody tr th:only-of-type {\n        vertical-align: middle;\n    }\n\n    .dataframe tbody tr th {\n        vertical-align: top;\n    }\n\n    .dataframe thead th {\n        text-align: right;\n    }\n</style>\n<table border=\"1\" class=\"dataframe\">\n  <thead>\n    <tr style=\"text-align: right;\">\n      <th></th>\n      <th>TEAM_ID</th>\n      <th>TEAM_NAME</th>\n      <th>MIN</th>\n      <th>CONTESTED_SHOTS</th>\n      <th>CONTESTED_SHOTS_2PT</th>\n      <th>CONTESTED_SHOTS_3PT</th>\n      <th>DEFLECTIONS</th>\n      <th>CHARGES_DRAWN</th>\n      <th>SCREEN_ASSISTS</th>\n      <th>SCREEN_AST_PTS</th>\n      <th>...</th>\n      <th>DEF_LOOSE_BALLS_RECOVERED</th>\n      <th>LOOSE_BALLS_RECOVERED</th>\n      <th>PCT_LOOSE_BALLS_RECOVERED_OFF</th>\n      <th>PCT_LOOSE_BALLS_RECOVERED_DEF</th>\n      <th>OFF_BOXOUTS</th>\n      <th>DEF_BOXOUTS</th>\n      <th>BOX_OUTS</th>\n      <th>PCT_BOX_OUTS_OFF</th>\n      <th>PCT_BOX_OUTS_DEF</th>\n      <th>SEASON</th>\n    </tr>\n  </thead>\n  <tbody>\n    <tr>\n      <th>0</th>\n      <td>1610612738</td>\n      <td>Boston Celtics</td>\n      <td>1662.0</td>\n      <td>1055</td>\n      <td>570</td>\n      <td>485</td>\n      <td>203</td>\n      <td>11</td>\n      <td>156</td>\n      <td>354</td>\n      <td>...</td>\n      <td>61</td>\n      <td>122</td>\n      <td>0.500</td>\n      <td>0.500</td>\n      <td>36</td>\n      <td>305</td>\n      <td>341</td>\n      <td>0.106</td>\n      <td>0.894</td>\n      <td>2019-20</td>\n    </tr>\n    <tr>\n      <th>1</th>\n      <td>1610612751</td>\n      <td>Brooklyn Nets</td>\n      <td>384.0</td>\n      <td>266</td>\n      <td>143</td>\n      <td>123</td>\n      <td>45</td>\n      <td>2</td>\n      <td>19</td>\n      <td>41</td>\n      <td>...</td>\n      <td>9</td>\n      <td>24</td>\n      <td>0.625</td>\n      <td>0.375</td>\n      <td>2</td>\n      <td>46</td>\n      <td>48</td>\n      <td>0.042</td>\n      <td>0.958</td>\n      <td>2019-20</td>\n    </tr>\n    <tr>\n      <th>2</th>\n      <td>1610612742</td>\n      <td>Dallas Mavericks</td>\n      <td>586.0</td>\n      <td>366</td>\n      <td>226</td>\n      <td>140</td>\n      <td>56</td>\n      <td>3</td>\n      <td>69</td>\n      <td>155</td>\n      <td>...</td>\n      <td>19</td>\n      <td>35</td>\n      <td>0.457</td>\n      <td>0.543</td>\n      <td>9</td>\n      <td>79</td>\n      <td>88</td>\n      <td>0.102</td>\n      <td>0.898</td>\n      <td>2019-20</td>\n    </tr>\n    <tr>\n      <th>3</th>\n      <td>1610612743</td>\n      <td>Denver Nuggets</td>\n      <td>1834.0</td>\n      <td>1073</td>\n      <td>605</td>\n      <td>468</td>\n      <td>259</td>\n      <td>6</td>\n      <td>181</td>\n      <td>409</td>\n      <td>...</td>\n      <td>50</td>\n      <td>94</td>\n      <td>0.468</td>\n      <td>0.532</td>\n      <td>25</td>\n      <td>249</td>\n      <td>275</td>\n      <td>0.091</td>\n      <td>0.905</td>\n      <td>2019-20</td>\n    </tr>\n    <tr>\n      <th>4</th>\n      <td>1610612745</td>\n      <td>Houston Rockets</td>\n      <td>1162.0</td>\n      <td>608</td>\n      <td>339</td>\n      <td>269</td>\n      <td>159</td>\n      <td>17</td>\n      <td>65</td>\n      <td>162</td>\n      <td>...</td>\n      <td>39</td>\n      <td>71</td>\n      <td>0.451</td>\n      <td>0.549</td>\n      <td>14</td>\n      <td>232</td>\n      <td>246</td>\n      <td>0.057</td>\n      <td>0.943</td>\n      <td>2019-20</td>\n    </tr>\n    <tr>\n      <th>...</th>\n      <td>...</td>\n      <td>...</td>\n      <td>...</td>\n      <td>...</td>\n      <td>...</td>\n      <td>...</td>\n      <td>...</td>\n      <td>...</td>\n      <td>...</td>\n      <td>...</td>\n      <td>...</td>\n      <td>...</td>\n      <td>...</td>\n      <td>...</td>\n      <td>...</td>\n      <td>...</td>\n      <td>...</td>\n      <td>...</td>\n      <td>...</td>\n      <td>...</td>\n      <td>...</td>\n    </tr>\n    <tr>\n      <th>11</th>\n      <td>1610612748</td>\n      <td>Miami Heat</td>\n      <td>1374.0</td>\n      <td>912</td>\n      <td>679</td>\n      <td>233</td>\n      <td>140</td>\n      <td>14</td>\n      <td>108</td>\n      <td>230</td>\n      <td>...</td>\n      <td>0</td>\n      <td>85</td>\n      <td>0.000</td>\n      <td>0.000</td>\n      <td>0</td>\n      <td>0</td>\n      <td>0</td>\n      <td>0.000</td>\n      <td>0.000</td>\n      <td>2015-16</td>\n    </tr>\n    <tr>\n      <th>12</th>\n      <td>1610612760</td>\n      <td>Oklahoma City Thunder</td>\n      <td>1728.0</td>\n      <td>1211</td>\n      <td>872</td>\n      <td>339</td>\n      <td>197</td>\n      <td>4</td>\n      <td>105</td>\n      <td>240</td>\n      <td>...</td>\n      <td>0</td>\n      <td>100</td>\n      <td>0.000</td>\n      <td>0.000</td>\n      <td>0</td>\n      <td>0</td>\n      <td>0</td>\n      <td>0.000</td>\n      <td>0.000</td>\n      <td>2015-16</td>\n    </tr>\n    <tr>\n      <th>13</th>\n      <td>1610612757</td>\n      <td>Portland Trail Blazers</td>\n      <td>1066.0</td>\n      <td>769</td>\n      <td>528</td>\n      <td>241</td>\n      <td>146</td>\n      <td>3</td>\n      <td>90</td>\n      <td>212</td>\n      <td>...</td>\n      <td>0</td>\n      <td>67</td>\n      <td>0.000</td>\n      <td>0.000</td>\n      <td>0</td>\n      <td>0</td>\n      <td>0</td>\n      <td>0.000</td>\n      <td>0.000</td>\n      <td>2015-16</td>\n    </tr>\n    <tr>\n      <th>14</th>\n      <td>1610612759</td>\n      <td>San Antonio Spurs</td>\n      <td>960.0</td>\n      <td>714</td>\n      <td>565</td>\n      <td>149</td>\n      <td>169</td>\n      <td>8</td>\n      <td>87</td>\n      <td>191</td>\n      <td>...</td>\n      <td>0</td>\n      <td>50</td>\n      <td>0.000</td>\n      <td>0.000</td>\n      <td>0</td>\n      <td>0</td>\n      <td>0</td>\n      <td>0.000</td>\n      <td>0.000</td>\n      <td>2015-16</td>\n    </tr>\n    <tr>\n      <th>15</th>\n      <td>1610612761</td>\n      <td>Toronto Raptors</td>\n      <td>1950.0</td>\n      <td>1234</td>\n      <td>875</td>\n      <td>359</td>\n      <td>226</td>\n      <td>9</td>\n      <td>186</td>\n      <td>400</td>\n      <td>...</td>\n      <td>0</td>\n      <td>95</td>\n      <td>0.000</td>\n      <td>0.000</td>\n      <td>0</td>\n      <td>0</td>\n      <td>0</td>\n      <td>0.000</td>\n      <td>0.000</td>\n      <td>2015-16</td>\n    </tr>\n  </tbody>\n</table>\n<p>80 rows × 21 columns</p>\n</div>"
     },
     "metadata": {},
     "execution_count": 19
    }
   ],
   "source": [
    "team_hustle_stats"
   ]
  },
  {
   "cell_type": "code",
   "execution_count": 20,
   "metadata": {},
   "outputs": [],
   "source": [
    "# export player and team hustle stats data to csv files\n",
    "player_hustle_stats.to_csv(\"player_hustle_stats.csv\", index=False)\n",
    "team_hustle_stats.to_csv(\"team_hustle_stats.csv\", index=False)\n"
   ]
  },
  {
   "cell_type": "code",
   "execution_count": 21,
   "metadata": {},
   "outputs": [],
   "source": [
    "# get all box scores for teams in the playoffs during those seasons\n",
    "playoff_team_ids = set(team_hustle_stats['TEAM_ID'])\n",
    "playoff_team_ids = list(playoff_team_ids)\n"
   ]
  },
  {
   "cell_type": "code",
   "execution_count": 22,
   "metadata": {},
   "outputs": [],
   "source": [
    "def playoff_boxscores(team_id, season):\n",
    "    gamefinder = leaguegamefinder.LeagueGameFinder(team_id_nullable=team_id, season_type_nullable='Playoffs', season_nullable=season)\n",
    "    playoff_games = gamefinder.get_data_frames()[0]\n",
    "\n",
    "    return playoff_games"
   ]
  },
  {
   "cell_type": "code",
   "execution_count": 23,
   "metadata": {},
   "outputs": [
    {
     "output_type": "execute_result",
     "data": {
      "text/plain": [
       "  SEASON_ID     TEAM_ID TEAM_ABBREVIATION       TEAM_NAME     GAME_ID  \\\n",
       "0     42019  1610612738               BOS  Boston Celtics  0041900306   \n",
       "1     42019  1610612738               BOS  Boston Celtics  0041900305   \n",
       "2     42019  1610612738               BOS  Boston Celtics  0041900304   \n",
       "3     42019  1610612738               BOS  Boston Celtics  0041900303   \n",
       "4     42019  1610612738               BOS  Boston Celtics  0041900302   \n",
       "\n",
       "    GAME_DATE      MATCHUP WL  MIN  PTS  ... OREB DREB  REB AST STL  BLK TOV  \\\n",
       "0  2020-09-27    BOS @ MIA  L  240  113  ...   13   29   42  26   7    2  10   \n",
       "1  2020-09-25  BOS vs. MIA  W  238  121  ...   13   37   50  29   7    4  11   \n",
       "2  2020-09-23    BOS @ MIA  L  239  109  ...   12   34   46  28   3    5  19   \n",
       "3  2020-09-19    BOS @ MIA  W  240  117  ...   10   40   50  27   8    3  14   \n",
       "4  2020-09-17  BOS vs. MIA  L  240  101  ...    6   35   41  19   5    3  20   \n",
       "\n",
       "   PF  PLUS_MINUS   SEASON  \n",
       "0  21       -12.0  2019-20  \n",
       "1  23        13.0  2019-20  \n",
       "2  24         0.2  2019-20  \n",
       "3  29         8.4  2019-20  \n",
       "4  22        -5.0  2019-20  \n",
       "\n",
       "[5 rows x 29 columns]"
      ],
      "text/html": "<div>\n<style scoped>\n    .dataframe tbody tr th:only-of-type {\n        vertical-align: middle;\n    }\n\n    .dataframe tbody tr th {\n        vertical-align: top;\n    }\n\n    .dataframe thead th {\n        text-align: right;\n    }\n</style>\n<table border=\"1\" class=\"dataframe\">\n  <thead>\n    <tr style=\"text-align: right;\">\n      <th></th>\n      <th>SEASON_ID</th>\n      <th>TEAM_ID</th>\n      <th>TEAM_ABBREVIATION</th>\n      <th>TEAM_NAME</th>\n      <th>GAME_ID</th>\n      <th>GAME_DATE</th>\n      <th>MATCHUP</th>\n      <th>WL</th>\n      <th>MIN</th>\n      <th>PTS</th>\n      <th>...</th>\n      <th>OREB</th>\n      <th>DREB</th>\n      <th>REB</th>\n      <th>AST</th>\n      <th>STL</th>\n      <th>BLK</th>\n      <th>TOV</th>\n      <th>PF</th>\n      <th>PLUS_MINUS</th>\n      <th>SEASON</th>\n    </tr>\n  </thead>\n  <tbody>\n    <tr>\n      <th>0</th>\n      <td>42019</td>\n      <td>1610612738</td>\n      <td>BOS</td>\n      <td>Boston Celtics</td>\n      <td>0041900306</td>\n      <td>2020-09-27</td>\n      <td>BOS @ MIA</td>\n      <td>L</td>\n      <td>240</td>\n      <td>113</td>\n      <td>...</td>\n      <td>13</td>\n      <td>29</td>\n      <td>42</td>\n      <td>26</td>\n      <td>7</td>\n      <td>2</td>\n      <td>10</td>\n      <td>21</td>\n      <td>-12.0</td>\n      <td>2019-20</td>\n    </tr>\n    <tr>\n      <th>1</th>\n      <td>42019</td>\n      <td>1610612738</td>\n      <td>BOS</td>\n      <td>Boston Celtics</td>\n      <td>0041900305</td>\n      <td>2020-09-25</td>\n      <td>BOS vs. MIA</td>\n      <td>W</td>\n      <td>238</td>\n      <td>121</td>\n      <td>...</td>\n      <td>13</td>\n      <td>37</td>\n      <td>50</td>\n      <td>29</td>\n      <td>7</td>\n      <td>4</td>\n      <td>11</td>\n      <td>23</td>\n      <td>13.0</td>\n      <td>2019-20</td>\n    </tr>\n    <tr>\n      <th>2</th>\n      <td>42019</td>\n      <td>1610612738</td>\n      <td>BOS</td>\n      <td>Boston Celtics</td>\n      <td>0041900304</td>\n      <td>2020-09-23</td>\n      <td>BOS @ MIA</td>\n      <td>L</td>\n      <td>239</td>\n      <td>109</td>\n      <td>...</td>\n      <td>12</td>\n      <td>34</td>\n      <td>46</td>\n      <td>28</td>\n      <td>3</td>\n      <td>5</td>\n      <td>19</td>\n      <td>24</td>\n      <td>0.2</td>\n      <td>2019-20</td>\n    </tr>\n    <tr>\n      <th>3</th>\n      <td>42019</td>\n      <td>1610612738</td>\n      <td>BOS</td>\n      <td>Boston Celtics</td>\n      <td>0041900303</td>\n      <td>2020-09-19</td>\n      <td>BOS @ MIA</td>\n      <td>W</td>\n      <td>240</td>\n      <td>117</td>\n      <td>...</td>\n      <td>10</td>\n      <td>40</td>\n      <td>50</td>\n      <td>27</td>\n      <td>8</td>\n      <td>3</td>\n      <td>14</td>\n      <td>29</td>\n      <td>8.4</td>\n      <td>2019-20</td>\n    </tr>\n    <tr>\n      <th>4</th>\n      <td>42019</td>\n      <td>1610612738</td>\n      <td>BOS</td>\n      <td>Boston Celtics</td>\n      <td>0041900302</td>\n      <td>2020-09-17</td>\n      <td>BOS vs. MIA</td>\n      <td>L</td>\n      <td>240</td>\n      <td>101</td>\n      <td>...</td>\n      <td>6</td>\n      <td>35</td>\n      <td>41</td>\n      <td>19</td>\n      <td>5</td>\n      <td>3</td>\n      <td>20</td>\n      <td>22</td>\n      <td>-5.0</td>\n      <td>2019-20</td>\n    </tr>\n  </tbody>\n</table>\n<p>5 rows × 29 columns</p>\n</div>"
     },
     "metadata": {},
     "execution_count": 23
    }
   ],
   "source": [
    "\n",
    "playoffs_2019_20 = playoff_boxscores(playoff_team_ids[0],'2019-20')\n",
    "\n",
    "for i in playoff_team_ids[1:]:\n",
    "    playoffs_2019_20 = playoffs_2019_20.append(playoff_boxscores(i,'2019-20'))\n",
    "\n",
    "playoffs_2019_20[\"SEASON\"] = '2019-20'\n",
    "playoffs_2019_20.head()"
   ]
  },
  {
   "cell_type": "code",
   "execution_count": 24,
   "metadata": {},
   "outputs": [
    {
     "output_type": "execute_result",
     "data": {
      "text/plain": [
       "  SEASON_ID     TEAM_ID TEAM_ABBREVIATION       TEAM_NAME     GAME_ID  \\\n",
       "0     42018  1610612738               BOS  Boston Celtics  0041800205   \n",
       "1     42018  1610612738               BOS  Boston Celtics  0041800204   \n",
       "2     42018  1610612738               BOS  Boston Celtics  0041800203   \n",
       "3     42018  1610612738               BOS  Boston Celtics  0041800202   \n",
       "4     42018  1610612738               BOS  Boston Celtics  0041800201   \n",
       "\n",
       "    GAME_DATE      MATCHUP WL  MIN  PTS  ... OREB DREB  REB AST STL  BLK TOV  \\\n",
       "0  2019-05-08    BOS @ MIL  L  240   91  ...   12   36   48  19   9    1  14   \n",
       "1  2019-05-06  BOS vs. MIL  L  240  101  ...    9   42   51  25   3    5  10   \n",
       "2  2019-05-03  BOS vs. MIL  L  240  116  ...    6   38   44  24   9    3  17   \n",
       "3  2019-04-30    BOS @ MIL  L  241  102  ...    7   38   45  19   5    2  13   \n",
       "4  2019-04-28    BOS @ MIL  W  241  112  ...    3   48   51  25   5   11  11   \n",
       "\n",
       "   PF  PLUS_MINUS   SEASON  \n",
       "0  18       -25.0  2018-19  \n",
       "1  20       -12.0  2018-19  \n",
       "2  27        -7.0  2018-19  \n",
       "3  23       -21.0  2018-19  \n",
       "4  21        22.0  2018-19  \n",
       "\n",
       "[5 rows x 29 columns]"
      ],
      "text/html": "<div>\n<style scoped>\n    .dataframe tbody tr th:only-of-type {\n        vertical-align: middle;\n    }\n\n    .dataframe tbody tr th {\n        vertical-align: top;\n    }\n\n    .dataframe thead th {\n        text-align: right;\n    }\n</style>\n<table border=\"1\" class=\"dataframe\">\n  <thead>\n    <tr style=\"text-align: right;\">\n      <th></th>\n      <th>SEASON_ID</th>\n      <th>TEAM_ID</th>\n      <th>TEAM_ABBREVIATION</th>\n      <th>TEAM_NAME</th>\n      <th>GAME_ID</th>\n      <th>GAME_DATE</th>\n      <th>MATCHUP</th>\n      <th>WL</th>\n      <th>MIN</th>\n      <th>PTS</th>\n      <th>...</th>\n      <th>OREB</th>\n      <th>DREB</th>\n      <th>REB</th>\n      <th>AST</th>\n      <th>STL</th>\n      <th>BLK</th>\n      <th>TOV</th>\n      <th>PF</th>\n      <th>PLUS_MINUS</th>\n      <th>SEASON</th>\n    </tr>\n  </thead>\n  <tbody>\n    <tr>\n      <th>0</th>\n      <td>42018</td>\n      <td>1610612738</td>\n      <td>BOS</td>\n      <td>Boston Celtics</td>\n      <td>0041800205</td>\n      <td>2019-05-08</td>\n      <td>BOS @ MIL</td>\n      <td>L</td>\n      <td>240</td>\n      <td>91</td>\n      <td>...</td>\n      <td>12</td>\n      <td>36</td>\n      <td>48</td>\n      <td>19</td>\n      <td>9</td>\n      <td>1</td>\n      <td>14</td>\n      <td>18</td>\n      <td>-25.0</td>\n      <td>2018-19</td>\n    </tr>\n    <tr>\n      <th>1</th>\n      <td>42018</td>\n      <td>1610612738</td>\n      <td>BOS</td>\n      <td>Boston Celtics</td>\n      <td>0041800204</td>\n      <td>2019-05-06</td>\n      <td>BOS vs. MIL</td>\n      <td>L</td>\n      <td>240</td>\n      <td>101</td>\n      <td>...</td>\n      <td>9</td>\n      <td>42</td>\n      <td>51</td>\n      <td>25</td>\n      <td>3</td>\n      <td>5</td>\n      <td>10</td>\n      <td>20</td>\n      <td>-12.0</td>\n      <td>2018-19</td>\n    </tr>\n    <tr>\n      <th>2</th>\n      <td>42018</td>\n      <td>1610612738</td>\n      <td>BOS</td>\n      <td>Boston Celtics</td>\n      <td>0041800203</td>\n      <td>2019-05-03</td>\n      <td>BOS vs. MIL</td>\n      <td>L</td>\n      <td>240</td>\n      <td>116</td>\n      <td>...</td>\n      <td>6</td>\n      <td>38</td>\n      <td>44</td>\n      <td>24</td>\n      <td>9</td>\n      <td>3</td>\n      <td>17</td>\n      <td>27</td>\n      <td>-7.0</td>\n      <td>2018-19</td>\n    </tr>\n    <tr>\n      <th>3</th>\n      <td>42018</td>\n      <td>1610612738</td>\n      <td>BOS</td>\n      <td>Boston Celtics</td>\n      <td>0041800202</td>\n      <td>2019-04-30</td>\n      <td>BOS @ MIL</td>\n      <td>L</td>\n      <td>241</td>\n      <td>102</td>\n      <td>...</td>\n      <td>7</td>\n      <td>38</td>\n      <td>45</td>\n      <td>19</td>\n      <td>5</td>\n      <td>2</td>\n      <td>13</td>\n      <td>23</td>\n      <td>-21.0</td>\n      <td>2018-19</td>\n    </tr>\n    <tr>\n      <th>4</th>\n      <td>42018</td>\n      <td>1610612738</td>\n      <td>BOS</td>\n      <td>Boston Celtics</td>\n      <td>0041800201</td>\n      <td>2019-04-28</td>\n      <td>BOS @ MIL</td>\n      <td>W</td>\n      <td>241</td>\n      <td>112</td>\n      <td>...</td>\n      <td>3</td>\n      <td>48</td>\n      <td>51</td>\n      <td>25</td>\n      <td>5</td>\n      <td>11</td>\n      <td>11</td>\n      <td>21</td>\n      <td>22.0</td>\n      <td>2018-19</td>\n    </tr>\n  </tbody>\n</table>\n<p>5 rows × 29 columns</p>\n</div>"
     },
     "metadata": {},
     "execution_count": 24
    }
   ],
   "source": [
    "playoffs_2018_19 = playoff_boxscores(playoff_team_ids[0],'2018-19')\n",
    "\n",
    "for i in playoff_team_ids[1:]:\n",
    "    playoffs_2018_19 = playoffs_2018_19.append(playoff_boxscores(i,'2018-19'))\n",
    "\n",
    "playoffs_2018_19[\"SEASON\"] = '2018-19'\n",
    "playoffs_2018_19.head()"
   ]
  },
  {
   "cell_type": "code",
   "execution_count": 25,
   "metadata": {},
   "outputs": [
    {
     "output_type": "execute_result",
     "data": {
      "text/plain": [
       "  SEASON_ID     TEAM_ID TEAM_ABBREVIATION       TEAM_NAME     GAME_ID  \\\n",
       "0     42017  1610612738               BOS  Boston Celtics  0041700307   \n",
       "1     42017  1610612738               BOS  Boston Celtics  0041700306   \n",
       "2     42017  1610612738               BOS  Boston Celtics  0041700305   \n",
       "3     42017  1610612738               BOS  Boston Celtics  0041700304   \n",
       "4     42017  1610612738               BOS  Boston Celtics  0041700303   \n",
       "\n",
       "    GAME_DATE      MATCHUP WL  MIN  PTS  ... OREB DREB  REB AST STL  BLK TOV  \\\n",
       "0  2018-05-27  BOS vs. CLE  L  240   79  ...   11   31   42  18   6    0   5   \n",
       "1  2018-05-25    BOS @ CLE  L  241   99  ...    5   26   31  25   5    2  13   \n",
       "2  2018-05-23  BOS vs. CLE  W  240   96  ...    7   38   45  18  10    6   8   \n",
       "3  2018-05-21    BOS @ CLE  L  239  102  ...    9   28   37  21   9    3   9   \n",
       "4  2018-05-19    BOS @ CLE  L  240   86  ...    6   28   34  16   4    4  15   \n",
       "\n",
       "   PF  PLUS_MINUS   SEASON  \n",
       "0  20        -8.0  2017-18  \n",
       "1  18       -10.0  2017-18  \n",
       "2  19        13.0  2017-18  \n",
       "3  26        -9.0  2017-18  \n",
       "4  25       -30.0  2017-18  \n",
       "\n",
       "[5 rows x 29 columns]"
      ],
      "text/html": "<div>\n<style scoped>\n    .dataframe tbody tr th:only-of-type {\n        vertical-align: middle;\n    }\n\n    .dataframe tbody tr th {\n        vertical-align: top;\n    }\n\n    .dataframe thead th {\n        text-align: right;\n    }\n</style>\n<table border=\"1\" class=\"dataframe\">\n  <thead>\n    <tr style=\"text-align: right;\">\n      <th></th>\n      <th>SEASON_ID</th>\n      <th>TEAM_ID</th>\n      <th>TEAM_ABBREVIATION</th>\n      <th>TEAM_NAME</th>\n      <th>GAME_ID</th>\n      <th>GAME_DATE</th>\n      <th>MATCHUP</th>\n      <th>WL</th>\n      <th>MIN</th>\n      <th>PTS</th>\n      <th>...</th>\n      <th>OREB</th>\n      <th>DREB</th>\n      <th>REB</th>\n      <th>AST</th>\n      <th>STL</th>\n      <th>BLK</th>\n      <th>TOV</th>\n      <th>PF</th>\n      <th>PLUS_MINUS</th>\n      <th>SEASON</th>\n    </tr>\n  </thead>\n  <tbody>\n    <tr>\n      <th>0</th>\n      <td>42017</td>\n      <td>1610612738</td>\n      <td>BOS</td>\n      <td>Boston Celtics</td>\n      <td>0041700307</td>\n      <td>2018-05-27</td>\n      <td>BOS vs. CLE</td>\n      <td>L</td>\n      <td>240</td>\n      <td>79</td>\n      <td>...</td>\n      <td>11</td>\n      <td>31</td>\n      <td>42</td>\n      <td>18</td>\n      <td>6</td>\n      <td>0</td>\n      <td>5</td>\n      <td>20</td>\n      <td>-8.0</td>\n      <td>2017-18</td>\n    </tr>\n    <tr>\n      <th>1</th>\n      <td>42017</td>\n      <td>1610612738</td>\n      <td>BOS</td>\n      <td>Boston Celtics</td>\n      <td>0041700306</td>\n      <td>2018-05-25</td>\n      <td>BOS @ CLE</td>\n      <td>L</td>\n      <td>241</td>\n      <td>99</td>\n      <td>...</td>\n      <td>5</td>\n      <td>26</td>\n      <td>31</td>\n      <td>25</td>\n      <td>5</td>\n      <td>2</td>\n      <td>13</td>\n      <td>18</td>\n      <td>-10.0</td>\n      <td>2017-18</td>\n    </tr>\n    <tr>\n      <th>2</th>\n      <td>42017</td>\n      <td>1610612738</td>\n      <td>BOS</td>\n      <td>Boston Celtics</td>\n      <td>0041700305</td>\n      <td>2018-05-23</td>\n      <td>BOS vs. CLE</td>\n      <td>W</td>\n      <td>240</td>\n      <td>96</td>\n      <td>...</td>\n      <td>7</td>\n      <td>38</td>\n      <td>45</td>\n      <td>18</td>\n      <td>10</td>\n      <td>6</td>\n      <td>8</td>\n      <td>19</td>\n      <td>13.0</td>\n      <td>2017-18</td>\n    </tr>\n    <tr>\n      <th>3</th>\n      <td>42017</td>\n      <td>1610612738</td>\n      <td>BOS</td>\n      <td>Boston Celtics</td>\n      <td>0041700304</td>\n      <td>2018-05-21</td>\n      <td>BOS @ CLE</td>\n      <td>L</td>\n      <td>239</td>\n      <td>102</td>\n      <td>...</td>\n      <td>9</td>\n      <td>28</td>\n      <td>37</td>\n      <td>21</td>\n      <td>9</td>\n      <td>3</td>\n      <td>9</td>\n      <td>26</td>\n      <td>-9.0</td>\n      <td>2017-18</td>\n    </tr>\n    <tr>\n      <th>4</th>\n      <td>42017</td>\n      <td>1610612738</td>\n      <td>BOS</td>\n      <td>Boston Celtics</td>\n      <td>0041700303</td>\n      <td>2018-05-19</td>\n      <td>BOS @ CLE</td>\n      <td>L</td>\n      <td>240</td>\n      <td>86</td>\n      <td>...</td>\n      <td>6</td>\n      <td>28</td>\n      <td>34</td>\n      <td>16</td>\n      <td>4</td>\n      <td>4</td>\n      <td>15</td>\n      <td>25</td>\n      <td>-30.0</td>\n      <td>2017-18</td>\n    </tr>\n  </tbody>\n</table>\n<p>5 rows × 29 columns</p>\n</div>"
     },
     "metadata": {},
     "execution_count": 25
    }
   ],
   "source": [
    "playoffs_2017_18 = playoff_boxscores(playoff_team_ids[0],'2017-18')\n",
    "\n",
    "for i in playoff_team_ids[1:]:\n",
    "    playoffs_2017_18 = playoffs_2017_18.append(playoff_boxscores(i,'2017-18'))\n",
    "\n",
    "playoffs_2017_18[\"SEASON\"] = '2017-18'\n",
    "playoffs_2017_18.head()"
   ]
  },
  {
   "cell_type": "code",
   "execution_count": 26,
   "metadata": {},
   "outputs": [
    {
     "output_type": "execute_result",
     "data": {
      "text/plain": [
       "  SEASON_ID     TEAM_ID TEAM_ABBREVIATION      TEAM_NAME     GAME_ID  \\\n",
       "0     42016  1610612737               ATL  Atlanta Hawks  0041600136   \n",
       "1     42016  1610612737               ATL  Atlanta Hawks  0041600135   \n",
       "2     42016  1610612737               ATL  Atlanta Hawks  0041600134   \n",
       "3     42016  1610612737               ATL  Atlanta Hawks  0041600133   \n",
       "4     42016  1610612737               ATL  Atlanta Hawks  0041600132   \n",
       "\n",
       "    GAME_DATE      MATCHUP WL  MIN  PTS  ... OREB DREB  REB AST STL  BLK TOV  \\\n",
       "0  2017-04-28  ATL vs. WAS  L  240   99  ...   11   24   35  26   9    3  22   \n",
       "1  2017-04-26    ATL @ WAS  L  241   99  ...   11   32   43  23   3    2  11   \n",
       "2  2017-04-24  ATL vs. WAS  W  239  111  ...   12   37   49  24   7    1  12   \n",
       "3  2017-04-22  ATL vs. WAS  W  240  116  ...   11   39   50  26   6    5  11   \n",
       "4  2017-04-19    ATL @ WAS  L  240  101  ...   10   31   41  17   6    6  18   \n",
       "\n",
       "   PF  PLUS_MINUS   SEASON  \n",
       "0  22       -16.0  2016-17  \n",
       "1  21        -4.0  2016-17  \n",
       "2  20        10.0  2016-17  \n",
       "3  17        18.0  2016-17  \n",
       "4  26        -8.0  2016-17  \n",
       "\n",
       "[5 rows x 29 columns]"
      ],
      "text/html": "<div>\n<style scoped>\n    .dataframe tbody tr th:only-of-type {\n        vertical-align: middle;\n    }\n\n    .dataframe tbody tr th {\n        vertical-align: top;\n    }\n\n    .dataframe thead th {\n        text-align: right;\n    }\n</style>\n<table border=\"1\" class=\"dataframe\">\n  <thead>\n    <tr style=\"text-align: right;\">\n      <th></th>\n      <th>SEASON_ID</th>\n      <th>TEAM_ID</th>\n      <th>TEAM_ABBREVIATION</th>\n      <th>TEAM_NAME</th>\n      <th>GAME_ID</th>\n      <th>GAME_DATE</th>\n      <th>MATCHUP</th>\n      <th>WL</th>\n      <th>MIN</th>\n      <th>PTS</th>\n      <th>...</th>\n      <th>OREB</th>\n      <th>DREB</th>\n      <th>REB</th>\n      <th>AST</th>\n      <th>STL</th>\n      <th>BLK</th>\n      <th>TOV</th>\n      <th>PF</th>\n      <th>PLUS_MINUS</th>\n      <th>SEASON</th>\n    </tr>\n  </thead>\n  <tbody>\n    <tr>\n      <th>0</th>\n      <td>42016</td>\n      <td>1610612737</td>\n      <td>ATL</td>\n      <td>Atlanta Hawks</td>\n      <td>0041600136</td>\n      <td>2017-04-28</td>\n      <td>ATL vs. WAS</td>\n      <td>L</td>\n      <td>240</td>\n      <td>99</td>\n      <td>...</td>\n      <td>11</td>\n      <td>24</td>\n      <td>35</td>\n      <td>26</td>\n      <td>9</td>\n      <td>3</td>\n      <td>22</td>\n      <td>22</td>\n      <td>-16.0</td>\n      <td>2016-17</td>\n    </tr>\n    <tr>\n      <th>1</th>\n      <td>42016</td>\n      <td>1610612737</td>\n      <td>ATL</td>\n      <td>Atlanta Hawks</td>\n      <td>0041600135</td>\n      <td>2017-04-26</td>\n      <td>ATL @ WAS</td>\n      <td>L</td>\n      <td>241</td>\n      <td>99</td>\n      <td>...</td>\n      <td>11</td>\n      <td>32</td>\n      <td>43</td>\n      <td>23</td>\n      <td>3</td>\n      <td>2</td>\n      <td>11</td>\n      <td>21</td>\n      <td>-4.0</td>\n      <td>2016-17</td>\n    </tr>\n    <tr>\n      <th>2</th>\n      <td>42016</td>\n      <td>1610612737</td>\n      <td>ATL</td>\n      <td>Atlanta Hawks</td>\n      <td>0041600134</td>\n      <td>2017-04-24</td>\n      <td>ATL vs. WAS</td>\n      <td>W</td>\n      <td>239</td>\n      <td>111</td>\n      <td>...</td>\n      <td>12</td>\n      <td>37</td>\n      <td>49</td>\n      <td>24</td>\n      <td>7</td>\n      <td>1</td>\n      <td>12</td>\n      <td>20</td>\n      <td>10.0</td>\n      <td>2016-17</td>\n    </tr>\n    <tr>\n      <th>3</th>\n      <td>42016</td>\n      <td>1610612737</td>\n      <td>ATL</td>\n      <td>Atlanta Hawks</td>\n      <td>0041600133</td>\n      <td>2017-04-22</td>\n      <td>ATL vs. WAS</td>\n      <td>W</td>\n      <td>240</td>\n      <td>116</td>\n      <td>...</td>\n      <td>11</td>\n      <td>39</td>\n      <td>50</td>\n      <td>26</td>\n      <td>6</td>\n      <td>5</td>\n      <td>11</td>\n      <td>17</td>\n      <td>18.0</td>\n      <td>2016-17</td>\n    </tr>\n    <tr>\n      <th>4</th>\n      <td>42016</td>\n      <td>1610612737</td>\n      <td>ATL</td>\n      <td>Atlanta Hawks</td>\n      <td>0041600132</td>\n      <td>2017-04-19</td>\n      <td>ATL @ WAS</td>\n      <td>L</td>\n      <td>240</td>\n      <td>101</td>\n      <td>...</td>\n      <td>10</td>\n      <td>31</td>\n      <td>41</td>\n      <td>17</td>\n      <td>6</td>\n      <td>6</td>\n      <td>18</td>\n      <td>26</td>\n      <td>-8.0</td>\n      <td>2016-17</td>\n    </tr>\n  </tbody>\n</table>\n<p>5 rows × 29 columns</p>\n</div>"
     },
     "metadata": {},
     "execution_count": 26
    }
   ],
   "source": [
    "playoffs_2016_17 = playoff_boxscores(playoff_team_ids[0],'2016-17')\n",
    "\n",
    "for i in playoff_team_ids[1:]:\n",
    "    playoffs_2016_17 = playoffs_2016_17.append(playoff_boxscores(i,'2016-17'))\n",
    "\n",
    "playoffs_2016_17[\"SEASON\"] = '2016-17'\n",
    "playoffs_2016_17.head()"
   ]
  },
  {
   "cell_type": "code",
   "execution_count": 27,
   "metadata": {},
   "outputs": [
    {
     "output_type": "execute_result",
     "data": {
      "text/plain": [
       "  SEASON_ID     TEAM_ID TEAM_ABBREVIATION      TEAM_NAME     GAME_ID  \\\n",
       "0     42015  1610612737               ATL  Atlanta Hawks  0041500204   \n",
       "1     42015  1610612737               ATL  Atlanta Hawks  0041500203   \n",
       "2     42015  1610612737               ATL  Atlanta Hawks  0041500202   \n",
       "3     42015  1610612737               ATL  Atlanta Hawks  0041500201   \n",
       "4     42015  1610612737               ATL  Atlanta Hawks  0041500136   \n",
       "\n",
       "    GAME_DATE      MATCHUP WL  MIN  PTS  ... OREB DREB  REB AST STL  BLK TOV  \\\n",
       "0  2016-05-08  ATL vs. CLE  L  239   99  ...    9   33   42  22  10    7  12   \n",
       "1  2016-05-06  ATL vs. CLE  L  239  108  ...    6   22   28  29   8    7  14   \n",
       "2  2016-05-04    ATL @ CLE  L  241   98  ...    8   32   40  18   3    3  16   \n",
       "3  2016-05-02    ATL @ CLE  L  242   93  ...   15   33   48  21   6    7  12   \n",
       "4  2016-04-28    ATL @ BOS  W  241  104  ...    3   39   42  26   6   12  18   \n",
       "\n",
       "   PF  PLUS_MINUS   SEASON  \n",
       "0  16        -1.0  2015-16  \n",
       "1  21       -13.0  2015-16  \n",
       "2  23       -25.0  2015-16  \n",
       "3  22       -11.0  2015-16  \n",
       "4  23        12.0  2015-16  \n",
       "\n",
       "[5 rows x 29 columns]"
      ],
      "text/html": "<div>\n<style scoped>\n    .dataframe tbody tr th:only-of-type {\n        vertical-align: middle;\n    }\n\n    .dataframe tbody tr th {\n        vertical-align: top;\n    }\n\n    .dataframe thead th {\n        text-align: right;\n    }\n</style>\n<table border=\"1\" class=\"dataframe\">\n  <thead>\n    <tr style=\"text-align: right;\">\n      <th></th>\n      <th>SEASON_ID</th>\n      <th>TEAM_ID</th>\n      <th>TEAM_ABBREVIATION</th>\n      <th>TEAM_NAME</th>\n      <th>GAME_ID</th>\n      <th>GAME_DATE</th>\n      <th>MATCHUP</th>\n      <th>WL</th>\n      <th>MIN</th>\n      <th>PTS</th>\n      <th>...</th>\n      <th>OREB</th>\n      <th>DREB</th>\n      <th>REB</th>\n      <th>AST</th>\n      <th>STL</th>\n      <th>BLK</th>\n      <th>TOV</th>\n      <th>PF</th>\n      <th>PLUS_MINUS</th>\n      <th>SEASON</th>\n    </tr>\n  </thead>\n  <tbody>\n    <tr>\n      <th>0</th>\n      <td>42015</td>\n      <td>1610612737</td>\n      <td>ATL</td>\n      <td>Atlanta Hawks</td>\n      <td>0041500204</td>\n      <td>2016-05-08</td>\n      <td>ATL vs. CLE</td>\n      <td>L</td>\n      <td>239</td>\n      <td>99</td>\n      <td>...</td>\n      <td>9</td>\n      <td>33</td>\n      <td>42</td>\n      <td>22</td>\n      <td>10</td>\n      <td>7</td>\n      <td>12</td>\n      <td>16</td>\n      <td>-1.0</td>\n      <td>2015-16</td>\n    </tr>\n    <tr>\n      <th>1</th>\n      <td>42015</td>\n      <td>1610612737</td>\n      <td>ATL</td>\n      <td>Atlanta Hawks</td>\n      <td>0041500203</td>\n      <td>2016-05-06</td>\n      <td>ATL vs. CLE</td>\n      <td>L</td>\n      <td>239</td>\n      <td>108</td>\n      <td>...</td>\n      <td>6</td>\n      <td>22</td>\n      <td>28</td>\n      <td>29</td>\n      <td>8</td>\n      <td>7</td>\n      <td>14</td>\n      <td>21</td>\n      <td>-13.0</td>\n      <td>2015-16</td>\n    </tr>\n    <tr>\n      <th>2</th>\n      <td>42015</td>\n      <td>1610612737</td>\n      <td>ATL</td>\n      <td>Atlanta Hawks</td>\n      <td>0041500202</td>\n      <td>2016-05-04</td>\n      <td>ATL @ CLE</td>\n      <td>L</td>\n      <td>241</td>\n      <td>98</td>\n      <td>...</td>\n      <td>8</td>\n      <td>32</td>\n      <td>40</td>\n      <td>18</td>\n      <td>3</td>\n      <td>3</td>\n      <td>16</td>\n      <td>23</td>\n      <td>-25.0</td>\n      <td>2015-16</td>\n    </tr>\n    <tr>\n      <th>3</th>\n      <td>42015</td>\n      <td>1610612737</td>\n      <td>ATL</td>\n      <td>Atlanta Hawks</td>\n      <td>0041500201</td>\n      <td>2016-05-02</td>\n      <td>ATL @ CLE</td>\n      <td>L</td>\n      <td>242</td>\n      <td>93</td>\n      <td>...</td>\n      <td>15</td>\n      <td>33</td>\n      <td>48</td>\n      <td>21</td>\n      <td>6</td>\n      <td>7</td>\n      <td>12</td>\n      <td>22</td>\n      <td>-11.0</td>\n      <td>2015-16</td>\n    </tr>\n    <tr>\n      <th>4</th>\n      <td>42015</td>\n      <td>1610612737</td>\n      <td>ATL</td>\n      <td>Atlanta Hawks</td>\n      <td>0041500136</td>\n      <td>2016-04-28</td>\n      <td>ATL @ BOS</td>\n      <td>W</td>\n      <td>241</td>\n      <td>104</td>\n      <td>...</td>\n      <td>3</td>\n      <td>39</td>\n      <td>42</td>\n      <td>26</td>\n      <td>6</td>\n      <td>12</td>\n      <td>18</td>\n      <td>23</td>\n      <td>12.0</td>\n      <td>2015-16</td>\n    </tr>\n  </tbody>\n</table>\n<p>5 rows × 29 columns</p>\n</div>"
     },
     "metadata": {},
     "execution_count": 27
    }
   ],
   "source": [
    "playoffs_2015_16 = playoff_boxscores(playoff_team_ids[0],'2015-16')\n",
    "\n",
    "for i in playoff_team_ids[1:]:\n",
    "    playoffs_2015_16 = playoffs_2015_16.append(playoff_boxscores(i,'2015-16'))\n",
    "\n",
    "playoffs_2015_16[\"SEASON\"] = '2015-16'\n",
    "playoffs_2015_16.head()"
   ]
  },
  {
   "cell_type": "code",
   "execution_count": 28,
   "metadata": {},
   "outputs": [
    {
     "output_type": "execute_result",
     "data": {
      "text/plain": [
       "  SEASON_ID     TEAM_ID TEAM_ABBREVIATION       TEAM_NAME     GAME_ID  \\\n",
       "0     42019  1610612738               BOS  Boston Celtics  0041900306   \n",
       "1     42019  1610612738               BOS  Boston Celtics  0041900305   \n",
       "2     42019  1610612738               BOS  Boston Celtics  0041900304   \n",
       "3     42019  1610612738               BOS  Boston Celtics  0041900303   \n",
       "4     42019  1610612738               BOS  Boston Celtics  0041900302   \n",
       "\n",
       "    GAME_DATE      MATCHUP WL  MIN  PTS  ... OREB DREB  REB AST STL  BLK TOV  \\\n",
       "0  2020-09-27    BOS @ MIA  L  240  113  ...   13   29   42  26   7    2  10   \n",
       "1  2020-09-25  BOS vs. MIA  W  238  121  ...   13   37   50  29   7    4  11   \n",
       "2  2020-09-23    BOS @ MIA  L  239  109  ...   12   34   46  28   3    5  19   \n",
       "3  2020-09-19    BOS @ MIA  W  240  117  ...   10   40   50  27   8    3  14   \n",
       "4  2020-09-17  BOS vs. MIA  L  240  101  ...    6   35   41  19   5    3  20   \n",
       "\n",
       "   PF  PLUS_MINUS   SEASON  \n",
       "0  21       -12.0  2019-20  \n",
       "1  23        13.0  2019-20  \n",
       "2  24         0.2  2019-20  \n",
       "3  29         8.4  2019-20  \n",
       "4  22        -5.0  2019-20  \n",
       "\n",
       "[5 rows x 29 columns]"
      ],
      "text/html": "<div>\n<style scoped>\n    .dataframe tbody tr th:only-of-type {\n        vertical-align: middle;\n    }\n\n    .dataframe tbody tr th {\n        vertical-align: top;\n    }\n\n    .dataframe thead th {\n        text-align: right;\n    }\n</style>\n<table border=\"1\" class=\"dataframe\">\n  <thead>\n    <tr style=\"text-align: right;\">\n      <th></th>\n      <th>SEASON_ID</th>\n      <th>TEAM_ID</th>\n      <th>TEAM_ABBREVIATION</th>\n      <th>TEAM_NAME</th>\n      <th>GAME_ID</th>\n      <th>GAME_DATE</th>\n      <th>MATCHUP</th>\n      <th>WL</th>\n      <th>MIN</th>\n      <th>PTS</th>\n      <th>...</th>\n      <th>OREB</th>\n      <th>DREB</th>\n      <th>REB</th>\n      <th>AST</th>\n      <th>STL</th>\n      <th>BLK</th>\n      <th>TOV</th>\n      <th>PF</th>\n      <th>PLUS_MINUS</th>\n      <th>SEASON</th>\n    </tr>\n  </thead>\n  <tbody>\n    <tr>\n      <th>0</th>\n      <td>42019</td>\n      <td>1610612738</td>\n      <td>BOS</td>\n      <td>Boston Celtics</td>\n      <td>0041900306</td>\n      <td>2020-09-27</td>\n      <td>BOS @ MIA</td>\n      <td>L</td>\n      <td>240</td>\n      <td>113</td>\n      <td>...</td>\n      <td>13</td>\n      <td>29</td>\n      <td>42</td>\n      <td>26</td>\n      <td>7</td>\n      <td>2</td>\n      <td>10</td>\n      <td>21</td>\n      <td>-12.0</td>\n      <td>2019-20</td>\n    </tr>\n    <tr>\n      <th>1</th>\n      <td>42019</td>\n      <td>1610612738</td>\n      <td>BOS</td>\n      <td>Boston Celtics</td>\n      <td>0041900305</td>\n      <td>2020-09-25</td>\n      <td>BOS vs. MIA</td>\n      <td>W</td>\n      <td>238</td>\n      <td>121</td>\n      <td>...</td>\n      <td>13</td>\n      <td>37</td>\n      <td>50</td>\n      <td>29</td>\n      <td>7</td>\n      <td>4</td>\n      <td>11</td>\n      <td>23</td>\n      <td>13.0</td>\n      <td>2019-20</td>\n    </tr>\n    <tr>\n      <th>2</th>\n      <td>42019</td>\n      <td>1610612738</td>\n      <td>BOS</td>\n      <td>Boston Celtics</td>\n      <td>0041900304</td>\n      <td>2020-09-23</td>\n      <td>BOS @ MIA</td>\n      <td>L</td>\n      <td>239</td>\n      <td>109</td>\n      <td>...</td>\n      <td>12</td>\n      <td>34</td>\n      <td>46</td>\n      <td>28</td>\n      <td>3</td>\n      <td>5</td>\n      <td>19</td>\n      <td>24</td>\n      <td>0.2</td>\n      <td>2019-20</td>\n    </tr>\n    <tr>\n      <th>3</th>\n      <td>42019</td>\n      <td>1610612738</td>\n      <td>BOS</td>\n      <td>Boston Celtics</td>\n      <td>0041900303</td>\n      <td>2020-09-19</td>\n      <td>BOS @ MIA</td>\n      <td>W</td>\n      <td>240</td>\n      <td>117</td>\n      <td>...</td>\n      <td>10</td>\n      <td>40</td>\n      <td>50</td>\n      <td>27</td>\n      <td>8</td>\n      <td>3</td>\n      <td>14</td>\n      <td>29</td>\n      <td>8.4</td>\n      <td>2019-20</td>\n    </tr>\n    <tr>\n      <th>4</th>\n      <td>42019</td>\n      <td>1610612738</td>\n      <td>BOS</td>\n      <td>Boston Celtics</td>\n      <td>0041900302</td>\n      <td>2020-09-17</td>\n      <td>BOS vs. MIA</td>\n      <td>L</td>\n      <td>240</td>\n      <td>101</td>\n      <td>...</td>\n      <td>6</td>\n      <td>35</td>\n      <td>41</td>\n      <td>19</td>\n      <td>5</td>\n      <td>3</td>\n      <td>20</td>\n      <td>22</td>\n      <td>-5.0</td>\n      <td>2019-20</td>\n    </tr>\n  </tbody>\n</table>\n<p>5 rows × 29 columns</p>\n</div>"
     },
     "metadata": {},
     "execution_count": 28
    }
   ],
   "source": [
    "# merge playoff boxscore dataframes\n",
    "all_boxscores = playoffs_2019_20.append(playoffs_2018_19).append(playoffs_2017_18).append(playoffs_2016_17).append(playoffs_2015_16).reset_index(drop=True)\n",
    "all_boxscores.head()"
   ]
  },
  {
   "cell_type": "code",
   "execution_count": 29,
   "metadata": {},
   "outputs": [],
   "source": [
    "# export all_boxscores to csv file\n",
    "all_boxscores.to_csv(\"playoff_boxscores.csv\", index=False)"
   ]
  },
  {
   "cell_type": "code",
   "execution_count": 30,
   "metadata": {},
   "outputs": [],
   "source": [
    "# etract GAME_ID from all_boxscores\n",
    "game_ids = list(set(all_boxscores['GAME_ID']))"
   ]
  },
  {
   "cell_type": "code",
   "execution_count": 38,
   "metadata": {},
   "outputs": [],
   "source": [
    "# get boxscore hustle stats by player and team\n",
    "\n",
    "box_hustle = hustlestatsboxscore.HustleStatsBoxScore(game_id=game_ids[0])\n",
    "player_box_hustle = box_hustle.get_data_frames()[1]\n",
    "team_box_hustle = box_hustle.get_data_frames()[2]\n",
    "\n",
    "for i in game_ids[1:]:\n",
    "    box_hustle = hustlestatsboxscore.HustleStatsBoxScore(game_id=i)\n",
    "    player_box_hustle = player_box_hustle.append(box_hustle.get_data_frames()[1])\n",
    "    team_box_hustle = team_box_hustle.append(box_hustle.get_data_frames()[2])   "
   ]
  },
  {
   "cell_type": "code",
   "execution_count": 39,
   "metadata": {},
   "outputs": [
    {
     "output_type": "execute_result",
     "data": {
      "text/plain": [
       "            TEAM_ID     PLAYER_ID          PTS  CONTESTED_SHOTS  \\\n",
       "count  8.821000e+03  8.821000e+03  8821.000000      8821.000000   \n",
       "mean   1.610613e+09  5.121612e+05     9.851944         5.727242   \n",
       "std    8.702496e+00  6.266054e+05     9.176653         4.489238   \n",
       "min    1.610613e+09  1.495000e+03     0.000000         0.000000   \n",
       "25%    1.610613e+09  2.015660e+05     3.000000         2.000000   \n",
       "50%    1.610613e+09  2.027040e+05     8.000000         5.000000   \n",
       "75%    1.610613e+09  2.039990e+05    15.000000         8.000000   \n",
       "max    1.610613e+09  1.629752e+06    57.000000        36.000000   \n",
       "\n",
       "       CONTESTED_SHOTS_2PT  CONTESTED_SHOTS_3PT  DEFLECTIONS  CHARGES_DRAWN  \\\n",
       "count          8821.000000          8821.000000  8821.000000    8821.000000   \n",
       "mean              3.567396             2.159846     1.268790       0.054869   \n",
       "std               3.461764             2.029729     1.523128       0.254538   \n",
       "min               0.000000             0.000000     0.000000       0.000000   \n",
       "25%               1.000000             1.000000     0.000000       0.000000   \n",
       "50%               3.000000             2.000000     1.000000       0.000000   \n",
       "75%               5.000000             3.000000     2.000000       0.000000   \n",
       "max              34.000000            15.000000    12.000000       5.000000   \n",
       "\n",
       "       SCREEN_ASSISTS  SCREEN_AST_PTS  OFF_LOOSE_BALLS_RECOVERED  \\\n",
       "count     8821.000000     8821.000000                8821.000000   \n",
       "mean         0.803877        1.856932                   0.219590   \n",
       "std          1.450651        3.343411                   0.550577   \n",
       "min          0.000000        0.000000                   0.000000   \n",
       "25%          0.000000        0.000000                   0.000000   \n",
       "50%          0.000000        0.000000                   0.000000   \n",
       "75%          1.000000        3.000000                   0.000000   \n",
       "max         16.000000       36.000000                   5.000000   \n",
       "\n",
       "       DEF_LOOSE_BALLS_RECOVERED  LOOSE_BALLS_RECOVERED  OFF_BOXOUTS  \\\n",
       "count                8821.000000            8821.000000  8821.000000   \n",
       "mean                    0.258474               0.800249     0.168802   \n",
       "std                     0.620025               1.106876     0.611460   \n",
       "min                     0.000000               0.000000     0.000000   \n",
       "25%                     0.000000               0.000000     0.000000   \n",
       "50%                     0.000000               0.000000     0.000000   \n",
       "75%                     0.000000               1.000000     0.000000   \n",
       "max                     6.000000               8.000000    10.000000   \n",
       "\n",
       "       DEF_BOXOUTS  BOX_OUT_PLAYER_TEAM_REBS  BOX_OUT_PLAYER_REBS     BOX_OUTS  \n",
       "count  8821.000000               8821.000000          8821.000000  8821.000000  \n",
       "mean      1.257794                  0.727695             0.239655     1.426822  \n",
       "std       2.354322                  1.496175             0.695741     2.677953  \n",
       "min       0.000000                  0.000000             0.000000     0.000000  \n",
       "25%       0.000000                  0.000000             0.000000     0.000000  \n",
       "50%       0.000000                  0.000000             0.000000     0.000000  \n",
       "75%       2.000000                  1.000000             0.000000     2.000000  \n",
       "max      22.000000                 15.000000            10.000000    25.000000  "
      ],
      "text/html": "<div>\n<style scoped>\n    .dataframe tbody tr th:only-of-type {\n        vertical-align: middle;\n    }\n\n    .dataframe tbody tr th {\n        vertical-align: top;\n    }\n\n    .dataframe thead th {\n        text-align: right;\n    }\n</style>\n<table border=\"1\" class=\"dataframe\">\n  <thead>\n    <tr style=\"text-align: right;\">\n      <th></th>\n      <th>TEAM_ID</th>\n      <th>PLAYER_ID</th>\n      <th>PTS</th>\n      <th>CONTESTED_SHOTS</th>\n      <th>CONTESTED_SHOTS_2PT</th>\n      <th>CONTESTED_SHOTS_3PT</th>\n      <th>DEFLECTIONS</th>\n      <th>CHARGES_DRAWN</th>\n      <th>SCREEN_ASSISTS</th>\n      <th>SCREEN_AST_PTS</th>\n      <th>OFF_LOOSE_BALLS_RECOVERED</th>\n      <th>DEF_LOOSE_BALLS_RECOVERED</th>\n      <th>LOOSE_BALLS_RECOVERED</th>\n      <th>OFF_BOXOUTS</th>\n      <th>DEF_BOXOUTS</th>\n      <th>BOX_OUT_PLAYER_TEAM_REBS</th>\n      <th>BOX_OUT_PLAYER_REBS</th>\n      <th>BOX_OUTS</th>\n    </tr>\n  </thead>\n  <tbody>\n    <tr>\n      <th>count</th>\n      <td>8.821000e+03</td>\n      <td>8.821000e+03</td>\n      <td>8821.000000</td>\n      <td>8821.000000</td>\n      <td>8821.000000</td>\n      <td>8821.000000</td>\n      <td>8821.000000</td>\n      <td>8821.000000</td>\n      <td>8821.000000</td>\n      <td>8821.000000</td>\n      <td>8821.000000</td>\n      <td>8821.000000</td>\n      <td>8821.000000</td>\n      <td>8821.000000</td>\n      <td>8821.000000</td>\n      <td>8821.000000</td>\n      <td>8821.000000</td>\n      <td>8821.000000</td>\n    </tr>\n    <tr>\n      <th>mean</th>\n      <td>1.610613e+09</td>\n      <td>5.121612e+05</td>\n      <td>9.851944</td>\n      <td>5.727242</td>\n      <td>3.567396</td>\n      <td>2.159846</td>\n      <td>1.268790</td>\n      <td>0.054869</td>\n      <td>0.803877</td>\n      <td>1.856932</td>\n      <td>0.219590</td>\n      <td>0.258474</td>\n      <td>0.800249</td>\n      <td>0.168802</td>\n      <td>1.257794</td>\n      <td>0.727695</td>\n      <td>0.239655</td>\n      <td>1.426822</td>\n    </tr>\n    <tr>\n      <th>std</th>\n      <td>8.702496e+00</td>\n      <td>6.266054e+05</td>\n      <td>9.176653</td>\n      <td>4.489238</td>\n      <td>3.461764</td>\n      <td>2.029729</td>\n      <td>1.523128</td>\n      <td>0.254538</td>\n      <td>1.450651</td>\n      <td>3.343411</td>\n      <td>0.550577</td>\n      <td>0.620025</td>\n      <td>1.106876</td>\n      <td>0.611460</td>\n      <td>2.354322</td>\n      <td>1.496175</td>\n      <td>0.695741</td>\n      <td>2.677953</td>\n    </tr>\n    <tr>\n      <th>min</th>\n      <td>1.610613e+09</td>\n      <td>1.495000e+03</td>\n      <td>0.000000</td>\n      <td>0.000000</td>\n      <td>0.000000</td>\n      <td>0.000000</td>\n      <td>0.000000</td>\n      <td>0.000000</td>\n      <td>0.000000</td>\n      <td>0.000000</td>\n      <td>0.000000</td>\n      <td>0.000000</td>\n      <td>0.000000</td>\n      <td>0.000000</td>\n      <td>0.000000</td>\n      <td>0.000000</td>\n      <td>0.000000</td>\n      <td>0.000000</td>\n    </tr>\n    <tr>\n      <th>25%</th>\n      <td>1.610613e+09</td>\n      <td>2.015660e+05</td>\n      <td>3.000000</td>\n      <td>2.000000</td>\n      <td>1.000000</td>\n      <td>1.000000</td>\n      <td>0.000000</td>\n      <td>0.000000</td>\n      <td>0.000000</td>\n      <td>0.000000</td>\n      <td>0.000000</td>\n      <td>0.000000</td>\n      <td>0.000000</td>\n      <td>0.000000</td>\n      <td>0.000000</td>\n      <td>0.000000</td>\n      <td>0.000000</td>\n      <td>0.000000</td>\n    </tr>\n    <tr>\n      <th>50%</th>\n      <td>1.610613e+09</td>\n      <td>2.027040e+05</td>\n      <td>8.000000</td>\n      <td>5.000000</td>\n      <td>3.000000</td>\n      <td>2.000000</td>\n      <td>1.000000</td>\n      <td>0.000000</td>\n      <td>0.000000</td>\n      <td>0.000000</td>\n      <td>0.000000</td>\n      <td>0.000000</td>\n      <td>0.000000</td>\n      <td>0.000000</td>\n      <td>0.000000</td>\n      <td>0.000000</td>\n      <td>0.000000</td>\n      <td>0.000000</td>\n    </tr>\n    <tr>\n      <th>75%</th>\n      <td>1.610613e+09</td>\n      <td>2.039990e+05</td>\n      <td>15.000000</td>\n      <td>8.000000</td>\n      <td>5.000000</td>\n      <td>3.000000</td>\n      <td>2.000000</td>\n      <td>0.000000</td>\n      <td>1.000000</td>\n      <td>3.000000</td>\n      <td>0.000000</td>\n      <td>0.000000</td>\n      <td>1.000000</td>\n      <td>0.000000</td>\n      <td>2.000000</td>\n      <td>1.000000</td>\n      <td>0.000000</td>\n      <td>2.000000</td>\n    </tr>\n    <tr>\n      <th>max</th>\n      <td>1.610613e+09</td>\n      <td>1.629752e+06</td>\n      <td>57.000000</td>\n      <td>36.000000</td>\n      <td>34.000000</td>\n      <td>15.000000</td>\n      <td>12.000000</td>\n      <td>5.000000</td>\n      <td>16.000000</td>\n      <td>36.000000</td>\n      <td>5.000000</td>\n      <td>6.000000</td>\n      <td>8.000000</td>\n      <td>10.000000</td>\n      <td>22.000000</td>\n      <td>15.000000</td>\n      <td>10.000000</td>\n      <td>25.000000</td>\n    </tr>\n  </tbody>\n</table>\n</div>"
     },
     "metadata": {},
     "execution_count": 39
    }
   ],
   "source": [
    "player_box_hustle.describe()"
   ]
  },
  {
   "cell_type": "code",
   "execution_count": 40,
   "metadata": {},
   "outputs": [],
   "source": [
    "# export team_box_hustle dataframe to csv file\n",
    "player_box_hustle.to_csv(\"player_box_hustle.csv\", index=False)"
   ]
  },
  {
   "cell_type": "code",
   "execution_count": 41,
   "metadata": {},
   "outputs": [
    {
     "output_type": "execute_result",
     "data": {
      "text/plain": [
       "            TEAM_ID         PTS  CONTESTED_SHOTS  CONTESTED_SHOTS_2PT  \\\n",
       "count  8.240000e+02  824.000000       824.000000           824.000000   \n",
       "mean   1.610613e+09  105.466019        61.310680            38.189320   \n",
       "std    8.701865e+00   12.746955        11.437955            10.454697   \n",
       "min    1.610613e+09   68.000000         0.000000             0.000000   \n",
       "25%    1.610613e+09   97.000000        55.000000            31.000000   \n",
       "50%    1.610613e+09  105.000000        61.000000            38.000000   \n",
       "75%    1.610613e+09  114.000000        67.000000            44.000000   \n",
       "max    1.610613e+09  154.000000       138.000000           105.000000   \n",
       "\n",
       "       CONTESTED_SHOTS_3PT  DEFLECTIONS  CHARGES_DRAWN  SCREEN_ASSISTS  \\\n",
       "count           824.000000   824.000000     824.000000      824.000000   \n",
       "mean             23.121359    13.582524       0.587379        8.605583   \n",
       "std               6.832830     4.667614       0.823197        4.264752   \n",
       "min               0.000000     2.000000       0.000000        0.000000   \n",
       "25%              18.000000    10.000000       0.000000        6.000000   \n",
       "50%              23.000000    13.000000       0.000000        8.000000   \n",
       "75%              28.000000    16.000000       1.000000       11.000000   \n",
       "max              52.000000    37.000000       5.000000       25.000000   \n",
       "\n",
       "       SCREEN_AST_PTS  OFF_LOOSE_BALLS_RECOVERED  DEF_LOOSE_BALLS_RECOVERED  \\\n",
       "count      824.000000                 824.000000                 824.000000   \n",
       "mean        19.878641                   2.350728                   2.766990   \n",
       "std          9.900837                   2.580806                   3.112563   \n",
       "min          0.000000                   0.000000                   0.000000   \n",
       "25%         13.000000                   0.000000                   0.000000   \n",
       "50%         18.500000                   2.000000                   2.000000   \n",
       "75%         26.000000                   4.000000                   5.000000   \n",
       "max         60.000000                  11.000000                  17.000000   \n",
       "\n",
       "       LOOSE_BALLS_RECOVERED  OFF_BOXOUTS  DEF_BOXOUTS  \\\n",
       "count             824.000000   824.000000   824.000000   \n",
       "mean                8.566748     1.807039    13.464806   \n",
       "std                 4.419707     2.650642    13.609507   \n",
       "min                 0.000000     0.000000     0.000000   \n",
       "25%                 5.000000     0.000000     0.000000   \n",
       "50%                 8.000000     0.500000    12.000000   \n",
       "75%                11.000000     3.000000    23.000000   \n",
       "max                25.000000    17.000000    57.000000   \n",
       "\n",
       "       BOX_OUT_PLAYER_TEAM_REBS  BOX_OUT_PLAYER_REBS    BOX_OUTS  \n",
       "count                824.000000           824.000000  824.000000  \n",
       "mean                   7.790049             2.565534   15.274272  \n",
       "std                    8.288735             3.033323   15.428431  \n",
       "min                    0.000000             0.000000    0.000000  \n",
       "25%                    0.000000             0.000000    0.000000  \n",
       "50%                    7.000000             2.000000   14.000000  \n",
       "75%                   14.000000             5.000000   26.000000  \n",
       "max                   34.000000            13.000000   66.000000  "
      ],
      "text/html": "<div>\n<style scoped>\n    .dataframe tbody tr th:only-of-type {\n        vertical-align: middle;\n    }\n\n    .dataframe tbody tr th {\n        vertical-align: top;\n    }\n\n    .dataframe thead th {\n        text-align: right;\n    }\n</style>\n<table border=\"1\" class=\"dataframe\">\n  <thead>\n    <tr style=\"text-align: right;\">\n      <th></th>\n      <th>TEAM_ID</th>\n      <th>PTS</th>\n      <th>CONTESTED_SHOTS</th>\n      <th>CONTESTED_SHOTS_2PT</th>\n      <th>CONTESTED_SHOTS_3PT</th>\n      <th>DEFLECTIONS</th>\n      <th>CHARGES_DRAWN</th>\n      <th>SCREEN_ASSISTS</th>\n      <th>SCREEN_AST_PTS</th>\n      <th>OFF_LOOSE_BALLS_RECOVERED</th>\n      <th>DEF_LOOSE_BALLS_RECOVERED</th>\n      <th>LOOSE_BALLS_RECOVERED</th>\n      <th>OFF_BOXOUTS</th>\n      <th>DEF_BOXOUTS</th>\n      <th>BOX_OUT_PLAYER_TEAM_REBS</th>\n      <th>BOX_OUT_PLAYER_REBS</th>\n      <th>BOX_OUTS</th>\n    </tr>\n  </thead>\n  <tbody>\n    <tr>\n      <th>count</th>\n      <td>8.240000e+02</td>\n      <td>824.000000</td>\n      <td>824.000000</td>\n      <td>824.000000</td>\n      <td>824.000000</td>\n      <td>824.000000</td>\n      <td>824.000000</td>\n      <td>824.000000</td>\n      <td>824.000000</td>\n      <td>824.000000</td>\n      <td>824.000000</td>\n      <td>824.000000</td>\n      <td>824.000000</td>\n      <td>824.000000</td>\n      <td>824.000000</td>\n      <td>824.000000</td>\n      <td>824.000000</td>\n    </tr>\n    <tr>\n      <th>mean</th>\n      <td>1.610613e+09</td>\n      <td>105.466019</td>\n      <td>61.310680</td>\n      <td>38.189320</td>\n      <td>23.121359</td>\n      <td>13.582524</td>\n      <td>0.587379</td>\n      <td>8.605583</td>\n      <td>19.878641</td>\n      <td>2.350728</td>\n      <td>2.766990</td>\n      <td>8.566748</td>\n      <td>1.807039</td>\n      <td>13.464806</td>\n      <td>7.790049</td>\n      <td>2.565534</td>\n      <td>15.274272</td>\n    </tr>\n    <tr>\n      <th>std</th>\n      <td>8.701865e+00</td>\n      <td>12.746955</td>\n      <td>11.437955</td>\n      <td>10.454697</td>\n      <td>6.832830</td>\n      <td>4.667614</td>\n      <td>0.823197</td>\n      <td>4.264752</td>\n      <td>9.900837</td>\n      <td>2.580806</td>\n      <td>3.112563</td>\n      <td>4.419707</td>\n      <td>2.650642</td>\n      <td>13.609507</td>\n      <td>8.288735</td>\n      <td>3.033323</td>\n      <td>15.428431</td>\n    </tr>\n    <tr>\n      <th>min</th>\n      <td>1.610613e+09</td>\n      <td>68.000000</td>\n      <td>0.000000</td>\n      <td>0.000000</td>\n      <td>0.000000</td>\n      <td>2.000000</td>\n      <td>0.000000</td>\n      <td>0.000000</td>\n      <td>0.000000</td>\n      <td>0.000000</td>\n      <td>0.000000</td>\n      <td>0.000000</td>\n      <td>0.000000</td>\n      <td>0.000000</td>\n      <td>0.000000</td>\n      <td>0.000000</td>\n      <td>0.000000</td>\n    </tr>\n    <tr>\n      <th>25%</th>\n      <td>1.610613e+09</td>\n      <td>97.000000</td>\n      <td>55.000000</td>\n      <td>31.000000</td>\n      <td>18.000000</td>\n      <td>10.000000</td>\n      <td>0.000000</td>\n      <td>6.000000</td>\n      <td>13.000000</td>\n      <td>0.000000</td>\n      <td>0.000000</td>\n      <td>5.000000</td>\n      <td>0.000000</td>\n      <td>0.000000</td>\n      <td>0.000000</td>\n      <td>0.000000</td>\n      <td>0.000000</td>\n    </tr>\n    <tr>\n      <th>50%</th>\n      <td>1.610613e+09</td>\n      <td>105.000000</td>\n      <td>61.000000</td>\n      <td>38.000000</td>\n      <td>23.000000</td>\n      <td>13.000000</td>\n      <td>0.000000</td>\n      <td>8.000000</td>\n      <td>18.500000</td>\n      <td>2.000000</td>\n      <td>2.000000</td>\n      <td>8.000000</td>\n      <td>0.500000</td>\n      <td>12.000000</td>\n      <td>7.000000</td>\n      <td>2.000000</td>\n      <td>14.000000</td>\n    </tr>\n    <tr>\n      <th>75%</th>\n      <td>1.610613e+09</td>\n      <td>114.000000</td>\n      <td>67.000000</td>\n      <td>44.000000</td>\n      <td>28.000000</td>\n      <td>16.000000</td>\n      <td>1.000000</td>\n      <td>11.000000</td>\n      <td>26.000000</td>\n      <td>4.000000</td>\n      <td>5.000000</td>\n      <td>11.000000</td>\n      <td>3.000000</td>\n      <td>23.000000</td>\n      <td>14.000000</td>\n      <td>5.000000</td>\n      <td>26.000000</td>\n    </tr>\n    <tr>\n      <th>max</th>\n      <td>1.610613e+09</td>\n      <td>154.000000</td>\n      <td>138.000000</td>\n      <td>105.000000</td>\n      <td>52.000000</td>\n      <td>37.000000</td>\n      <td>5.000000</td>\n      <td>25.000000</td>\n      <td>60.000000</td>\n      <td>11.000000</td>\n      <td>17.000000</td>\n      <td>25.000000</td>\n      <td>17.000000</td>\n      <td>57.000000</td>\n      <td>34.000000</td>\n      <td>13.000000</td>\n      <td>66.000000</td>\n    </tr>\n  </tbody>\n</table>\n</div>"
     },
     "metadata": {},
     "execution_count": 41
    }
   ],
   "source": [
    "team_box_hustle.describe()"
   ]
  },
  {
   "cell_type": "code",
   "execution_count": 42,
   "metadata": {},
   "outputs": [],
   "source": [
    "# export team_box_hustle dataframe to csv file\n",
    "team_box_hustle.to_csv(\"team_box_hustle.csv\", index=False)"
   ]
  },
  {
   "cell_type": "code",
   "execution_count": null,
   "metadata": {},
   "outputs": [],
   "source": []
  }
 ],
 "metadata": {
  "kernelspec": {
   "display_name": "Python 3",
   "language": "python",
   "name": "python3"
  },
  "language_info": {
   "codemirror_mode": {
    "name": "ipython",
    "version": 3
   },
   "file_extension": ".py",
   "mimetype": "text/x-python",
   "name": "python",
   "nbconvert_exporter": "python",
   "pygments_lexer": "ipython3",
   "version": "3.8.3-final"
  }
 },
 "nbformat": 4,
 "nbformat_minor": 4
}