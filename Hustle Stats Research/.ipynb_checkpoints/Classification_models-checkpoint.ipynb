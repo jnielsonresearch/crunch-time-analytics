{
 "cells": [
  {
   "cell_type": "markdown",
   "metadata": {
    "colab_type": "text",
    "id": "view-in-github"
   },
   "source": [
    "<a href=\"https://colab.research.google.com/github/jnielsonresearch/crunch-time-analytics/blob/main/Hustle%20Stats%20Research/Classification_models.ipynb\" target=\"_parent\"><img src=\"https://colab.research.google.com/assets/colab-badge.svg\" alt=\"Open In Colab\"/></a>"
   ]
  },
  {
   "cell_type": "markdown",
   "metadata": {
    "id": "CazISR8X_HUG"
   },
   "source": [
    "# Classification ML Models"
   ]
  },
  {
   "cell_type": "markdown",
   "metadata": {
    "id": "pOyqYHTk_Q57"
   },
   "source": [
    "## Importing the libraries"
   ]
  },
  {
   "cell_type": "code",
   "execution_count": 1,
   "metadata": {
    "id": "WeGN_osLbLmq"
   },
   "outputs": [],
   "source": [
    "# Python ≥3.5 is required\n",
    "import sys\n",
    "assert sys.version_info >= (3, 5)"
   ]
  },
  {
   "cell_type": "code",
   "execution_count": 2,
   "metadata": {
    "id": "lcnw2lUnbMhB"
   },
   "outputs": [],
   "source": [
    "# Scikit-Learn ≥0.20 is required\n",
    "import sklearn\n",
    "assert sklearn.__version__ >= \"0.20\""
   ]
  },
  {
   "cell_type": "code",
   "execution_count": 3,
   "metadata": {
    "id": "T_YHJjnD_Tja"
   },
   "outputs": [
    {
     "name": "stderr",
     "output_type": "stream",
     "text": [
      "C:\\Users\\Justin Nielson\\.conda\\envs\\ml_env\\lib\\site-packages\\ipykernel_launcher.py:6: FutureWarning: pandas.util.testing is deprecated. Use the functions in the public API at pandas.testing instead.\n",
      "  \n"
     ]
    }
   ],
   "source": [
    "import os\n",
    "import numpy as np \n",
    "import pandas as pd \n",
    "import matplotlib.pyplot as plt \n",
    "import seaborn as sns\n",
    "import pandas.util.testing as tm"
   ]
  },
  {
   "cell_type": "code",
   "execution_count": 4,
   "metadata": {
    "id": "1PQbTh9Va6nB"
   },
   "outputs": [],
   "source": [
    "# Plotting configuration for Jupyter notebook\n",
    "%matplotlib inline\n",
    "import matplotlib as mpl\n",
    "mpl.rc('axes', labelsize=14)\n",
    "mpl.rc('xtick', labelsize=12)\n",
    "mpl.rc('ytick', labelsize=12)"
   ]
  },
  {
   "cell_type": "markdown",
   "metadata": {
    "id": "vgC61-ah_WIz"
   },
   "source": [
    "## Importing the dataset"
   ]
  },
  {
   "cell_type": "code",
   "execution_count": 5,
   "metadata": {
    "colab": {
     "base_uri": "https://localhost:8080/",
     "height": 35
    },
    "id": "UrxyEKGn_ez7",
    "outputId": "312a573a-ce6f-4d11-c842-d9be2c23cd41"
   },
   "outputs": [
    {
     "name": "stdout",
     "output_type": "stream",
     "text": [
      "Downloading playoff_boxscores.csv\n",
      "Downloading team_box_hustle.csv\n"
     ]
    }
   ],
   "source": [
    "# Download the data\n",
    "import os\n",
    "datapath = os.path.join(\"Data\", \"\")\n",
    "\n",
    "files = ['playoff_boxscores.csv', 'team_box_hustle.csv']\n",
    "  \n",
    "# Download the data\n",
    "import urllib.request\n",
    "DOWNLOAD_ROOT = \"https://raw.githubusercontent.com/jnielsonresearch/crunch-time-analytics/main/Hustle%20Stats%20Research/\"\n",
    "os.makedirs(datapath, exist_ok=True)\n",
    "for filename in files:\n",
    "    print(\"Downloading\", filename)\n",
    "    url = DOWNLOAD_ROOT + \"Data/\" + filename\n",
    "    urllib.request.urlretrieve(url, datapath + filename)\n",
    "\n",
    "playoff_boxscores = pd.read_csv(datapath + files[0])\n",
    "team_box_hustle = pd.read_csv(datapath + files[1])"
   ]
  },
  {
   "cell_type": "code",
   "execution_count": 6,
   "metadata": {
    "id": "pZJNo9incVbn",
    "outputId": "bf64440a-cbb8-44db-e743-285790595b45"
   },
   "outputs": [
    {
     "data": {
      "text/html": [
       "<div>\n",
       "<style scoped>\n",
       "    .dataframe tbody tr th:only-of-type {\n",
       "        vertical-align: middle;\n",
       "    }\n",
       "\n",
       "    .dataframe tbody tr th {\n",
       "        vertical-align: top;\n",
       "    }\n",
       "\n",
       "    .dataframe thead th {\n",
       "        text-align: right;\n",
       "    }\n",
       "</style>\n",
       "<table border=\"1\" class=\"dataframe\">\n",
       "  <thead>\n",
       "    <tr style=\"text-align: right;\">\n",
       "      <th></th>\n",
       "      <th>SEASON_ID</th>\n",
       "      <th>TEAM_ID</th>\n",
       "      <th>TEAM_ABBREVIATION</th>\n",
       "      <th>TEAM_NAME</th>\n",
       "      <th>GAME_ID</th>\n",
       "      <th>GAME_DATE</th>\n",
       "      <th>MATCHUP</th>\n",
       "      <th>WL</th>\n",
       "      <th>MIN</th>\n",
       "      <th>PTS</th>\n",
       "      <th>...</th>\n",
       "      <th>OREB</th>\n",
       "      <th>DREB</th>\n",
       "      <th>REB</th>\n",
       "      <th>AST</th>\n",
       "      <th>STL</th>\n",
       "      <th>BLK</th>\n",
       "      <th>TOV</th>\n",
       "      <th>PF</th>\n",
       "      <th>PLUS_MINUS</th>\n",
       "      <th>SEASON</th>\n",
       "    </tr>\n",
       "  </thead>\n",
       "  <tbody>\n",
       "    <tr>\n",
       "      <th>0</th>\n",
       "      <td>42019</td>\n",
       "      <td>1610612738</td>\n",
       "      <td>BOS</td>\n",
       "      <td>Boston Celtics</td>\n",
       "      <td>41900306</td>\n",
       "      <td>2020-09-27</td>\n",
       "      <td>BOS @ MIA</td>\n",
       "      <td>L</td>\n",
       "      <td>240</td>\n",
       "      <td>113</td>\n",
       "      <td>...</td>\n",
       "      <td>13</td>\n",
       "      <td>29</td>\n",
       "      <td>42</td>\n",
       "      <td>26</td>\n",
       "      <td>7</td>\n",
       "      <td>2</td>\n",
       "      <td>10</td>\n",
       "      <td>21</td>\n",
       "      <td>-12.0</td>\n",
       "      <td>2019-20</td>\n",
       "    </tr>\n",
       "    <tr>\n",
       "      <th>1</th>\n",
       "      <td>42019</td>\n",
       "      <td>1610612738</td>\n",
       "      <td>BOS</td>\n",
       "      <td>Boston Celtics</td>\n",
       "      <td>41900305</td>\n",
       "      <td>2020-09-25</td>\n",
       "      <td>BOS vs. MIA</td>\n",
       "      <td>W</td>\n",
       "      <td>238</td>\n",
       "      <td>121</td>\n",
       "      <td>...</td>\n",
       "      <td>13</td>\n",
       "      <td>37</td>\n",
       "      <td>50</td>\n",
       "      <td>29</td>\n",
       "      <td>7</td>\n",
       "      <td>4</td>\n",
       "      <td>11</td>\n",
       "      <td>23</td>\n",
       "      <td>13.0</td>\n",
       "      <td>2019-20</td>\n",
       "    </tr>\n",
       "    <tr>\n",
       "      <th>2</th>\n",
       "      <td>42019</td>\n",
       "      <td>1610612738</td>\n",
       "      <td>BOS</td>\n",
       "      <td>Boston Celtics</td>\n",
       "      <td>41900304</td>\n",
       "      <td>2020-09-23</td>\n",
       "      <td>BOS @ MIA</td>\n",
       "      <td>L</td>\n",
       "      <td>239</td>\n",
       "      <td>109</td>\n",
       "      <td>...</td>\n",
       "      <td>12</td>\n",
       "      <td>34</td>\n",
       "      <td>46</td>\n",
       "      <td>28</td>\n",
       "      <td>3</td>\n",
       "      <td>5</td>\n",
       "      <td>19</td>\n",
       "      <td>24</td>\n",
       "      <td>0.2</td>\n",
       "      <td>2019-20</td>\n",
       "    </tr>\n",
       "    <tr>\n",
       "      <th>3</th>\n",
       "      <td>42019</td>\n",
       "      <td>1610612738</td>\n",
       "      <td>BOS</td>\n",
       "      <td>Boston Celtics</td>\n",
       "      <td>41900303</td>\n",
       "      <td>2020-09-19</td>\n",
       "      <td>BOS @ MIA</td>\n",
       "      <td>W</td>\n",
       "      <td>240</td>\n",
       "      <td>117</td>\n",
       "      <td>...</td>\n",
       "      <td>10</td>\n",
       "      <td>40</td>\n",
       "      <td>50</td>\n",
       "      <td>27</td>\n",
       "      <td>8</td>\n",
       "      <td>3</td>\n",
       "      <td>14</td>\n",
       "      <td>29</td>\n",
       "      <td>8.4</td>\n",
       "      <td>2019-20</td>\n",
       "    </tr>\n",
       "    <tr>\n",
       "      <th>4</th>\n",
       "      <td>42019</td>\n",
       "      <td>1610612738</td>\n",
       "      <td>BOS</td>\n",
       "      <td>Boston Celtics</td>\n",
       "      <td>41900302</td>\n",
       "      <td>2020-09-17</td>\n",
       "      <td>BOS vs. MIA</td>\n",
       "      <td>L</td>\n",
       "      <td>240</td>\n",
       "      <td>101</td>\n",
       "      <td>...</td>\n",
       "      <td>6</td>\n",
       "      <td>35</td>\n",
       "      <td>41</td>\n",
       "      <td>19</td>\n",
       "      <td>5</td>\n",
       "      <td>3</td>\n",
       "      <td>20</td>\n",
       "      <td>22</td>\n",
       "      <td>-5.0</td>\n",
       "      <td>2019-20</td>\n",
       "    </tr>\n",
       "  </tbody>\n",
       "</table>\n",
       "<p>5 rows × 29 columns</p>\n",
       "</div>"
      ],
      "text/plain": [
       "   SEASON_ID     TEAM_ID TEAM_ABBREVIATION       TEAM_NAME   GAME_ID  \\\n",
       "0      42019  1610612738               BOS  Boston Celtics  41900306   \n",
       "1      42019  1610612738               BOS  Boston Celtics  41900305   \n",
       "2      42019  1610612738               BOS  Boston Celtics  41900304   \n",
       "3      42019  1610612738               BOS  Boston Celtics  41900303   \n",
       "4      42019  1610612738               BOS  Boston Celtics  41900302   \n",
       "\n",
       "    GAME_DATE      MATCHUP WL  MIN  PTS  ...  OREB  DREB  REB  AST  STL  BLK  \\\n",
       "0  2020-09-27    BOS @ MIA  L  240  113  ...    13    29   42   26    7    2   \n",
       "1  2020-09-25  BOS vs. MIA  W  238  121  ...    13    37   50   29    7    4   \n",
       "2  2020-09-23    BOS @ MIA  L  239  109  ...    12    34   46   28    3    5   \n",
       "3  2020-09-19    BOS @ MIA  W  240  117  ...    10    40   50   27    8    3   \n",
       "4  2020-09-17  BOS vs. MIA  L  240  101  ...     6    35   41   19    5    3   \n",
       "\n",
       "   TOV  PF  PLUS_MINUS   SEASON  \n",
       "0   10  21       -12.0  2019-20  \n",
       "1   11  23        13.0  2019-20  \n",
       "2   19  24         0.2  2019-20  \n",
       "3   14  29         8.4  2019-20  \n",
       "4   20  22        -5.0  2019-20  \n",
       "\n",
       "[5 rows x 29 columns]"
      ]
     },
     "execution_count": 6,
     "metadata": {},
     "output_type": "execute_result"
    }
   ],
   "source": [
    "playoff_boxscores.head()"
   ]
  },
  {
   "cell_type": "code",
   "execution_count": 7,
   "metadata": {
    "id": "I-0yhAa0cVbp",
    "outputId": "bc95c94c-8f84-4075-bf4e-d577e1a3f24a"
   },
   "outputs": [
    {
     "data": {
      "text/html": [
       "<div>\n",
       "<style scoped>\n",
       "    .dataframe tbody tr th:only-of-type {\n",
       "        vertical-align: middle;\n",
       "    }\n",
       "\n",
       "    .dataframe tbody tr th {\n",
       "        vertical-align: top;\n",
       "    }\n",
       "\n",
       "    .dataframe thead th {\n",
       "        text-align: right;\n",
       "    }\n",
       "</style>\n",
       "<table border=\"1\" class=\"dataframe\">\n",
       "  <thead>\n",
       "    <tr style=\"text-align: right;\">\n",
       "      <th></th>\n",
       "      <th>GAME_ID</th>\n",
       "      <th>TEAM_ID</th>\n",
       "      <th>TEAM_NAME</th>\n",
       "      <th>TEAM_ABBREVIATION</th>\n",
       "      <th>TEAM_CITY</th>\n",
       "      <th>MINUTES</th>\n",
       "      <th>PTS</th>\n",
       "      <th>CONTESTED_SHOTS</th>\n",
       "      <th>CONTESTED_SHOTS_2PT</th>\n",
       "      <th>CONTESTED_SHOTS_3PT</th>\n",
       "      <th>...</th>\n",
       "      <th>SCREEN_ASSISTS</th>\n",
       "      <th>SCREEN_AST_PTS</th>\n",
       "      <th>OFF_LOOSE_BALLS_RECOVERED</th>\n",
       "      <th>DEF_LOOSE_BALLS_RECOVERED</th>\n",
       "      <th>LOOSE_BALLS_RECOVERED</th>\n",
       "      <th>OFF_BOXOUTS</th>\n",
       "      <th>DEF_BOXOUTS</th>\n",
       "      <th>BOX_OUT_PLAYER_TEAM_REBS</th>\n",
       "      <th>BOX_OUT_PLAYER_REBS</th>\n",
       "      <th>BOX_OUTS</th>\n",
       "    </tr>\n",
       "  </thead>\n",
       "  <tbody>\n",
       "    <tr>\n",
       "      <th>0</th>\n",
       "      <td>41900301</td>\n",
       "      <td>1610612748</td>\n",
       "      <td>Heat</td>\n",
       "      <td>MIA</td>\n",
       "      <td>Miami</td>\n",
       "      <td>265.000000:00</td>\n",
       "      <td>117</td>\n",
       "      <td>67</td>\n",
       "      <td>34</td>\n",
       "      <td>33</td>\n",
       "      <td>...</td>\n",
       "      <td>7</td>\n",
       "      <td>18</td>\n",
       "      <td>7</td>\n",
       "      <td>3</td>\n",
       "      <td>10</td>\n",
       "      <td>4</td>\n",
       "      <td>17</td>\n",
       "      <td>16</td>\n",
       "      <td>4</td>\n",
       "      <td>21</td>\n",
       "    </tr>\n",
       "    <tr>\n",
       "      <th>1</th>\n",
       "      <td>41900301</td>\n",
       "      <td>1610612738</td>\n",
       "      <td>Celtics</td>\n",
       "      <td>BOS</td>\n",
       "      <td>Boston</td>\n",
       "      <td>265.000000:00</td>\n",
       "      <td>114</td>\n",
       "      <td>53</td>\n",
       "      <td>31</td>\n",
       "      <td>22</td>\n",
       "      <td>...</td>\n",
       "      <td>6</td>\n",
       "      <td>13</td>\n",
       "      <td>4</td>\n",
       "      <td>6</td>\n",
       "      <td>10</td>\n",
       "      <td>1</td>\n",
       "      <td>13</td>\n",
       "      <td>7</td>\n",
       "      <td>0</td>\n",
       "      <td>14</td>\n",
       "    </tr>\n",
       "    <tr>\n",
       "      <th>2</th>\n",
       "      <td>41600162</td>\n",
       "      <td>1610612760</td>\n",
       "      <td>Thunder</td>\n",
       "      <td>OKC</td>\n",
       "      <td>Oklahoma City</td>\n",
       "      <td>240.000000:00</td>\n",
       "      <td>111</td>\n",
       "      <td>72</td>\n",
       "      <td>46</td>\n",
       "      <td>26</td>\n",
       "      <td>...</td>\n",
       "      <td>14</td>\n",
       "      <td>31</td>\n",
       "      <td>0</td>\n",
       "      <td>0</td>\n",
       "      <td>18</td>\n",
       "      <td>0</td>\n",
       "      <td>0</td>\n",
       "      <td>0</td>\n",
       "      <td>0</td>\n",
       "      <td>0</td>\n",
       "    </tr>\n",
       "    <tr>\n",
       "      <th>3</th>\n",
       "      <td>41600162</td>\n",
       "      <td>1610612745</td>\n",
       "      <td>Rockets</td>\n",
       "      <td>HOU</td>\n",
       "      <td>Houston</td>\n",
       "      <td>240.000000:00</td>\n",
       "      <td>115</td>\n",
       "      <td>67</td>\n",
       "      <td>45</td>\n",
       "      <td>22</td>\n",
       "      <td>...</td>\n",
       "      <td>10</td>\n",
       "      <td>23</td>\n",
       "      <td>0</td>\n",
       "      <td>0</td>\n",
       "      <td>16</td>\n",
       "      <td>0</td>\n",
       "      <td>0</td>\n",
       "      <td>0</td>\n",
       "      <td>0</td>\n",
       "      <td>0</td>\n",
       "    </tr>\n",
       "    <tr>\n",
       "      <th>4</th>\n",
       "      <td>41800102</td>\n",
       "      <td>1610612765</td>\n",
       "      <td>Pistons</td>\n",
       "      <td>DET</td>\n",
       "      <td>Detroit</td>\n",
       "      <td>240.000000:00</td>\n",
       "      <td>99</td>\n",
       "      <td>61</td>\n",
       "      <td>38</td>\n",
       "      <td>23</td>\n",
       "      <td>...</td>\n",
       "      <td>7</td>\n",
       "      <td>18</td>\n",
       "      <td>2</td>\n",
       "      <td>2</td>\n",
       "      <td>4</td>\n",
       "      <td>3</td>\n",
       "      <td>16</td>\n",
       "      <td>6</td>\n",
       "      <td>3</td>\n",
       "      <td>19</td>\n",
       "    </tr>\n",
       "  </tbody>\n",
       "</table>\n",
       "<p>5 rows × 22 columns</p>\n",
       "</div>"
      ],
      "text/plain": [
       "    GAME_ID     TEAM_ID TEAM_NAME TEAM_ABBREVIATION      TEAM_CITY  \\\n",
       "0  41900301  1610612748      Heat               MIA          Miami   \n",
       "1  41900301  1610612738   Celtics               BOS         Boston   \n",
       "2  41600162  1610612760   Thunder               OKC  Oklahoma City   \n",
       "3  41600162  1610612745   Rockets               HOU        Houston   \n",
       "4  41800102  1610612765   Pistons               DET        Detroit   \n",
       "\n",
       "         MINUTES  PTS  CONTESTED_SHOTS  CONTESTED_SHOTS_2PT  \\\n",
       "0  265.000000:00  117               67                   34   \n",
       "1  265.000000:00  114               53                   31   \n",
       "2  240.000000:00  111               72                   46   \n",
       "3  240.000000:00  115               67                   45   \n",
       "4  240.000000:00   99               61                   38   \n",
       "\n",
       "   CONTESTED_SHOTS_3PT  ...  SCREEN_ASSISTS  SCREEN_AST_PTS  \\\n",
       "0                   33  ...               7              18   \n",
       "1                   22  ...               6              13   \n",
       "2                   26  ...              14              31   \n",
       "3                   22  ...              10              23   \n",
       "4                   23  ...               7              18   \n",
       "\n",
       "   OFF_LOOSE_BALLS_RECOVERED  DEF_LOOSE_BALLS_RECOVERED  \\\n",
       "0                          7                          3   \n",
       "1                          4                          6   \n",
       "2                          0                          0   \n",
       "3                          0                          0   \n",
       "4                          2                          2   \n",
       "\n",
       "   LOOSE_BALLS_RECOVERED  OFF_BOXOUTS  DEF_BOXOUTS  BOX_OUT_PLAYER_TEAM_REBS  \\\n",
       "0                     10            4           17                        16   \n",
       "1                     10            1           13                         7   \n",
       "2                     18            0            0                         0   \n",
       "3                     16            0            0                         0   \n",
       "4                      4            3           16                         6   \n",
       "\n",
       "   BOX_OUT_PLAYER_REBS  BOX_OUTS  \n",
       "0                    4        21  \n",
       "1                    0        14  \n",
       "2                    0         0  \n",
       "3                    0         0  \n",
       "4                    3        19  \n",
       "\n",
       "[5 rows x 22 columns]"
      ]
     },
     "execution_count": 7,
     "metadata": {},
     "output_type": "execute_result"
    }
   ],
   "source": [
    "team_box_hustle.head()"
   ]
  },
  {
   "cell_type": "code",
   "execution_count": 8,
   "metadata": {
    "id": "8huPpBPHcVbr"
   },
   "outputs": [],
   "source": [
    "# Drop duplicate columns in team_box_hustle dataset \n",
    "cols = ['GAME_ID', 'TEAM_ID','CONTESTED_SHOTS', 'CONTESTED_SHOTS_2PT',\n",
    "       'CONTESTED_SHOTS_3PT', 'DEFLECTIONS', 'CHARGES_DRAWN', 'SCREEN_ASSISTS',\n",
    "       'SCREEN_AST_PTS', 'OFF_LOOSE_BALLS_RECOVERED',\n",
    "       'DEF_LOOSE_BALLS_RECOVERED', 'LOOSE_BALLS_RECOVERED', 'OFF_BOXOUTS',\n",
    "       'DEF_BOXOUTS', 'BOX_OUT_PLAYER_TEAM_REBS', 'BOX_OUT_PLAYER_REBS',\n",
    "       'BOX_OUTS']\n",
    "team_box_hustle = team_box_hustle[cols]"
   ]
  },
  {
   "cell_type": "code",
   "execution_count": 9,
   "metadata": {
    "id": "ZMoI11vFiM5F"
   },
   "outputs": [],
   "source": [
    "# Merge playoff_boxscores and team_box_hustle datasets on GAME_ID\n",
    "hustle_stats = playoff_boxscores.merge(team_box_hustle, how='inner', on=['GAME_ID', 'TEAM_ID'])"
   ]
  },
  {
   "cell_type": "code",
   "execution_count": 10,
   "metadata": {
    "colab": {
     "base_uri": "https://localhost:8080/",
     "height": 294
    },
    "id": "GOB3QhV9B5kD",
    "outputId": "18f456d6-78d6-4c86-c1e1-2b617a6dfabf"
   },
   "outputs": [
    {
     "data": {
      "text/plain": [
       "Index(['SEASON_ID', 'TEAM_ID', 'TEAM_ABBREVIATION', 'TEAM_NAME', 'GAME_ID',\n",
       "       'GAME_DATE', 'MATCHUP', 'WL', 'MIN', 'PTS', 'FGM', 'FGA', 'FG_PCT',\n",
       "       'FG3M', 'FG3A', 'FG3_PCT', 'FTM', 'FTA', 'FT_PCT', 'OREB', 'DREB',\n",
       "       'REB', 'AST', 'STL', 'BLK', 'TOV', 'PF', 'PLUS_MINUS', 'SEASON',\n",
       "       'CONTESTED_SHOTS', 'CONTESTED_SHOTS_2PT', 'CONTESTED_SHOTS_3PT',\n",
       "       'DEFLECTIONS', 'CHARGES_DRAWN', 'SCREEN_ASSISTS', 'SCREEN_AST_PTS',\n",
       "       'OFF_LOOSE_BALLS_RECOVERED', 'DEF_LOOSE_BALLS_RECOVERED',\n",
       "       'LOOSE_BALLS_RECOVERED', 'OFF_BOXOUTS', 'DEF_BOXOUTS',\n",
       "       'BOX_OUT_PLAYER_TEAM_REBS', 'BOX_OUT_PLAYER_REBS', 'BOX_OUTS'],\n",
       "      dtype='object')"
      ]
     },
     "execution_count": 10,
     "metadata": {},
     "output_type": "execute_result"
    }
   ],
   "source": [
    "hustle_stats.columns"
   ]
  },
  {
   "cell_type": "code",
   "execution_count": 11,
   "metadata": {
    "id": "MVC-YG9icVbx",
    "outputId": "a34a8f36-c542-41e1-f73e-c748997c4dc0"
   },
   "outputs": [
    {
     "data": {
      "text/html": [
       "<div>\n",
       "<style scoped>\n",
       "    .dataframe tbody tr th:only-of-type {\n",
       "        vertical-align: middle;\n",
       "    }\n",
       "\n",
       "    .dataframe tbody tr th {\n",
       "        vertical-align: top;\n",
       "    }\n",
       "\n",
       "    .dataframe thead th {\n",
       "        text-align: right;\n",
       "    }\n",
       "</style>\n",
       "<table border=\"1\" class=\"dataframe\">\n",
       "  <thead>\n",
       "    <tr style=\"text-align: right;\">\n",
       "      <th></th>\n",
       "      <th>SEASON_ID</th>\n",
       "      <th>TEAM_ID</th>\n",
       "      <th>TEAM_ABBREVIATION</th>\n",
       "      <th>TEAM_NAME</th>\n",
       "      <th>GAME_ID</th>\n",
       "      <th>GAME_DATE</th>\n",
       "      <th>MATCHUP</th>\n",
       "      <th>WL</th>\n",
       "      <th>MIN</th>\n",
       "      <th>PTS</th>\n",
       "      <th>...</th>\n",
       "      <th>SCREEN_ASSISTS</th>\n",
       "      <th>SCREEN_AST_PTS</th>\n",
       "      <th>OFF_LOOSE_BALLS_RECOVERED</th>\n",
       "      <th>DEF_LOOSE_BALLS_RECOVERED</th>\n",
       "      <th>LOOSE_BALLS_RECOVERED</th>\n",
       "      <th>OFF_BOXOUTS</th>\n",
       "      <th>DEF_BOXOUTS</th>\n",
       "      <th>BOX_OUT_PLAYER_TEAM_REBS</th>\n",
       "      <th>BOX_OUT_PLAYER_REBS</th>\n",
       "      <th>BOX_OUTS</th>\n",
       "    </tr>\n",
       "  </thead>\n",
       "  <tbody>\n",
       "    <tr>\n",
       "      <th>0</th>\n",
       "      <td>42019</td>\n",
       "      <td>1610612738</td>\n",
       "      <td>BOS</td>\n",
       "      <td>Boston Celtics</td>\n",
       "      <td>41900306</td>\n",
       "      <td>2020-09-27</td>\n",
       "      <td>BOS @ MIA</td>\n",
       "      <td>L</td>\n",
       "      <td>240</td>\n",
       "      <td>113</td>\n",
       "      <td>...</td>\n",
       "      <td>6</td>\n",
       "      <td>14</td>\n",
       "      <td>2</td>\n",
       "      <td>4</td>\n",
       "      <td>6</td>\n",
       "      <td>5</td>\n",
       "      <td>6</td>\n",
       "      <td>8</td>\n",
       "      <td>4</td>\n",
       "      <td>11</td>\n",
       "    </tr>\n",
       "    <tr>\n",
       "      <th>1</th>\n",
       "      <td>42019</td>\n",
       "      <td>1610612738</td>\n",
       "      <td>BOS</td>\n",
       "      <td>Boston Celtics</td>\n",
       "      <td>41900305</td>\n",
       "      <td>2020-09-25</td>\n",
       "      <td>BOS vs. MIA</td>\n",
       "      <td>W</td>\n",
       "      <td>238</td>\n",
       "      <td>121</td>\n",
       "      <td>...</td>\n",
       "      <td>9</td>\n",
       "      <td>23</td>\n",
       "      <td>2</td>\n",
       "      <td>3</td>\n",
       "      <td>5</td>\n",
       "      <td>4</td>\n",
       "      <td>8</td>\n",
       "      <td>11</td>\n",
       "      <td>7</td>\n",
       "      <td>12</td>\n",
       "    </tr>\n",
       "    <tr>\n",
       "      <th>2</th>\n",
       "      <td>42019</td>\n",
       "      <td>1610612738</td>\n",
       "      <td>BOS</td>\n",
       "      <td>Boston Celtics</td>\n",
       "      <td>41900304</td>\n",
       "      <td>2020-09-23</td>\n",
       "      <td>BOS @ MIA</td>\n",
       "      <td>L</td>\n",
       "      <td>239</td>\n",
       "      <td>109</td>\n",
       "      <td>...</td>\n",
       "      <td>4</td>\n",
       "      <td>10</td>\n",
       "      <td>2</td>\n",
       "      <td>2</td>\n",
       "      <td>4</td>\n",
       "      <td>3</td>\n",
       "      <td>16</td>\n",
       "      <td>13</td>\n",
       "      <td>6</td>\n",
       "      <td>19</td>\n",
       "    </tr>\n",
       "    <tr>\n",
       "      <th>3</th>\n",
       "      <td>42019</td>\n",
       "      <td>1610612738</td>\n",
       "      <td>BOS</td>\n",
       "      <td>Boston Celtics</td>\n",
       "      <td>41900303</td>\n",
       "      <td>2020-09-19</td>\n",
       "      <td>BOS @ MIA</td>\n",
       "      <td>W</td>\n",
       "      <td>240</td>\n",
       "      <td>117</td>\n",
       "      <td>...</td>\n",
       "      <td>4</td>\n",
       "      <td>9</td>\n",
       "      <td>3</td>\n",
       "      <td>4</td>\n",
       "      <td>7</td>\n",
       "      <td>2</td>\n",
       "      <td>11</td>\n",
       "      <td>8</td>\n",
       "      <td>2</td>\n",
       "      <td>13</td>\n",
       "    </tr>\n",
       "    <tr>\n",
       "      <th>4</th>\n",
       "      <td>42019</td>\n",
       "      <td>1610612738</td>\n",
       "      <td>BOS</td>\n",
       "      <td>Boston Celtics</td>\n",
       "      <td>41900302</td>\n",
       "      <td>2020-09-17</td>\n",
       "      <td>BOS vs. MIA</td>\n",
       "      <td>L</td>\n",
       "      <td>240</td>\n",
       "      <td>101</td>\n",
       "      <td>...</td>\n",
       "      <td>11</td>\n",
       "      <td>24</td>\n",
       "      <td>7</td>\n",
       "      <td>2</td>\n",
       "      <td>9</td>\n",
       "      <td>2</td>\n",
       "      <td>8</td>\n",
       "      <td>6</td>\n",
       "      <td>2</td>\n",
       "      <td>10</td>\n",
       "    </tr>\n",
       "  </tbody>\n",
       "</table>\n",
       "<p>5 rows × 44 columns</p>\n",
       "</div>"
      ],
      "text/plain": [
       "   SEASON_ID     TEAM_ID TEAM_ABBREVIATION       TEAM_NAME   GAME_ID  \\\n",
       "0      42019  1610612738               BOS  Boston Celtics  41900306   \n",
       "1      42019  1610612738               BOS  Boston Celtics  41900305   \n",
       "2      42019  1610612738               BOS  Boston Celtics  41900304   \n",
       "3      42019  1610612738               BOS  Boston Celtics  41900303   \n",
       "4      42019  1610612738               BOS  Boston Celtics  41900302   \n",
       "\n",
       "    GAME_DATE      MATCHUP WL  MIN  PTS  ...  SCREEN_ASSISTS  SCREEN_AST_PTS  \\\n",
       "0  2020-09-27    BOS @ MIA  L  240  113  ...               6              14   \n",
       "1  2020-09-25  BOS vs. MIA  W  238  121  ...               9              23   \n",
       "2  2020-09-23    BOS @ MIA  L  239  109  ...               4              10   \n",
       "3  2020-09-19    BOS @ MIA  W  240  117  ...               4               9   \n",
       "4  2020-09-17  BOS vs. MIA  L  240  101  ...              11              24   \n",
       "\n",
       "   OFF_LOOSE_BALLS_RECOVERED  DEF_LOOSE_BALLS_RECOVERED  \\\n",
       "0                          2                          4   \n",
       "1                          2                          3   \n",
       "2                          2                          2   \n",
       "3                          3                          4   \n",
       "4                          7                          2   \n",
       "\n",
       "   LOOSE_BALLS_RECOVERED  OFF_BOXOUTS  DEF_BOXOUTS  BOX_OUT_PLAYER_TEAM_REBS  \\\n",
       "0                      6            5            6                         8   \n",
       "1                      5            4            8                        11   \n",
       "2                      4            3           16                        13   \n",
       "3                      7            2           11                         8   \n",
       "4                      9            2            8                         6   \n",
       "\n",
       "   BOX_OUT_PLAYER_REBS  BOX_OUTS  \n",
       "0                    4        11  \n",
       "1                    7        12  \n",
       "2                    6        19  \n",
       "3                    2        13  \n",
       "4                    2        10  \n",
       "\n",
       "[5 rows x 44 columns]"
      ]
     },
     "execution_count": 11,
     "metadata": {},
     "output_type": "execute_result"
    }
   ],
   "source": [
    "hustle_stats.head()"
   ]
  },
  {
   "cell_type": "code",
   "execution_count": 12,
   "metadata": {
    "id": "4IIEJbjBcVby"
   },
   "outputs": [],
   "source": [
    "# Create calculated metric NBA composite \"Hustle Rating\":\n",
    "# Formula source: https://grantland.com/the-triangle/how-do-you-measure-hustle-in-the-nba-theres-a-stat-for-that/\n",
    "\n",
    "# 2-Point Field Goal Contested: A contest decreases the probability of a 2-Point Field Goal going in by .05 x 2.0 Point Value of a 2-Point Field Goal = .1 Hustle Points.\n",
    "\n",
    "# 3-Point Field Goal Contested: A contest decreases the probability of a 3-Point Field Goal going in by .05 x 3.0 Point Value of a 3-Point Field Goal = .15 Hustle Points.\n",
    "\n",
    "# Deflection: We estimate that the team whose player deflected the ball has a .25 chance of recovering the ball x 1.0 Expected Point Value for gaining possession = .25 Hustle Points.\n",
    "\n",
    "# Loose-Ball Recovered: Recovering a loose ball increases the probability of possession by .5 x 1.0 Expected Point Value for gaining possession = .5 Hustle Points.\n",
    "\n",
    "# Charge: 1.5 Expected Point Value for creating a turnover when the opponent otherwise would have likely taken a very good shot (as most charges take place near the basket) + .25 Expected Point Value by drawing a foul on the opposing player (gets team closer to the bonus and limits opposing player’s ability to play) = 1.75 Hustle Points.\n",
    "\n",
    "hustle_stats['HUSTLE_RATING'] = hustle_stats.apply(lambda x: x['CONTESTED_SHOTS_2PT']*0.1 + x['CONTESTED_SHOTS_3PT']*0.15 + x['DEFLECTIONS']*0.25 + x['LOOSE_BALLS_RECOVERED']*0.5 + x['CHARGES_DRAWN']*1.5, axis=1)"
   ]
  },
  {
   "cell_type": "code",
   "execution_count": 13,
   "metadata": {
    "id": "5cxXn29rcVb0",
    "outputId": "e42a91d8-debb-4cb9-d8fe-a92456e7cdb6"
   },
   "outputs": [
    {
     "data": {
      "text/html": [
       "<div>\n",
       "<style scoped>\n",
       "    .dataframe tbody tr th:only-of-type {\n",
       "        vertical-align: middle;\n",
       "    }\n",
       "\n",
       "    .dataframe tbody tr th {\n",
       "        vertical-align: top;\n",
       "    }\n",
       "\n",
       "    .dataframe thead th {\n",
       "        text-align: right;\n",
       "    }\n",
       "</style>\n",
       "<table border=\"1\" class=\"dataframe\">\n",
       "  <thead>\n",
       "    <tr style=\"text-align: right;\">\n",
       "      <th></th>\n",
       "      <th>SEASON_ID</th>\n",
       "      <th>TEAM_ID</th>\n",
       "      <th>TEAM_ABBREVIATION</th>\n",
       "      <th>TEAM_NAME</th>\n",
       "      <th>GAME_ID</th>\n",
       "      <th>GAME_DATE</th>\n",
       "      <th>MATCHUP</th>\n",
       "      <th>WL</th>\n",
       "      <th>MIN</th>\n",
       "      <th>PTS</th>\n",
       "      <th>...</th>\n",
       "      <th>SCREEN_AST_PTS</th>\n",
       "      <th>OFF_LOOSE_BALLS_RECOVERED</th>\n",
       "      <th>DEF_LOOSE_BALLS_RECOVERED</th>\n",
       "      <th>LOOSE_BALLS_RECOVERED</th>\n",
       "      <th>OFF_BOXOUTS</th>\n",
       "      <th>DEF_BOXOUTS</th>\n",
       "      <th>BOX_OUT_PLAYER_TEAM_REBS</th>\n",
       "      <th>BOX_OUT_PLAYER_REBS</th>\n",
       "      <th>BOX_OUTS</th>\n",
       "      <th>HUSTLE_RATING</th>\n",
       "    </tr>\n",
       "  </thead>\n",
       "  <tbody>\n",
       "    <tr>\n",
       "      <th>0</th>\n",
       "      <td>42019</td>\n",
       "      <td>1610612738</td>\n",
       "      <td>BOS</td>\n",
       "      <td>Boston Celtics</td>\n",
       "      <td>41900306</td>\n",
       "      <td>2020-09-27</td>\n",
       "      <td>BOS @ MIA</td>\n",
       "      <td>L</td>\n",
       "      <td>240</td>\n",
       "      <td>113</td>\n",
       "      <td>...</td>\n",
       "      <td>14</td>\n",
       "      <td>2</td>\n",
       "      <td>4</td>\n",
       "      <td>6</td>\n",
       "      <td>5</td>\n",
       "      <td>6</td>\n",
       "      <td>8</td>\n",
       "      <td>4</td>\n",
       "      <td>11</td>\n",
       "      <td>14.55</td>\n",
       "    </tr>\n",
       "    <tr>\n",
       "      <th>1</th>\n",
       "      <td>42019</td>\n",
       "      <td>1610612738</td>\n",
       "      <td>BOS</td>\n",
       "      <td>Boston Celtics</td>\n",
       "      <td>41900305</td>\n",
       "      <td>2020-09-25</td>\n",
       "      <td>BOS vs. MIA</td>\n",
       "      <td>W</td>\n",
       "      <td>238</td>\n",
       "      <td>121</td>\n",
       "      <td>...</td>\n",
       "      <td>23</td>\n",
       "      <td>2</td>\n",
       "      <td>3</td>\n",
       "      <td>5</td>\n",
       "      <td>4</td>\n",
       "      <td>8</td>\n",
       "      <td>11</td>\n",
       "      <td>7</td>\n",
       "      <td>12</td>\n",
       "      <td>12.60</td>\n",
       "    </tr>\n",
       "    <tr>\n",
       "      <th>2</th>\n",
       "      <td>42019</td>\n",
       "      <td>1610612738</td>\n",
       "      <td>BOS</td>\n",
       "      <td>Boston Celtics</td>\n",
       "      <td>41900304</td>\n",
       "      <td>2020-09-23</td>\n",
       "      <td>BOS @ MIA</td>\n",
       "      <td>L</td>\n",
       "      <td>239</td>\n",
       "      <td>109</td>\n",
       "      <td>...</td>\n",
       "      <td>10</td>\n",
       "      <td>2</td>\n",
       "      <td>2</td>\n",
       "      <td>4</td>\n",
       "      <td>3</td>\n",
       "      <td>16</td>\n",
       "      <td>13</td>\n",
       "      <td>6</td>\n",
       "      <td>19</td>\n",
       "      <td>11.60</td>\n",
       "    </tr>\n",
       "    <tr>\n",
       "      <th>3</th>\n",
       "      <td>42019</td>\n",
       "      <td>1610612738</td>\n",
       "      <td>BOS</td>\n",
       "      <td>Boston Celtics</td>\n",
       "      <td>41900303</td>\n",
       "      <td>2020-09-19</td>\n",
       "      <td>BOS @ MIA</td>\n",
       "      <td>W</td>\n",
       "      <td>240</td>\n",
       "      <td>117</td>\n",
       "      <td>...</td>\n",
       "      <td>9</td>\n",
       "      <td>3</td>\n",
       "      <td>4</td>\n",
       "      <td>7</td>\n",
       "      <td>2</td>\n",
       "      <td>11</td>\n",
       "      <td>8</td>\n",
       "      <td>2</td>\n",
       "      <td>13</td>\n",
       "      <td>13.80</td>\n",
       "    </tr>\n",
       "    <tr>\n",
       "      <th>4</th>\n",
       "      <td>42019</td>\n",
       "      <td>1610612738</td>\n",
       "      <td>BOS</td>\n",
       "      <td>Boston Celtics</td>\n",
       "      <td>41900302</td>\n",
       "      <td>2020-09-17</td>\n",
       "      <td>BOS vs. MIA</td>\n",
       "      <td>L</td>\n",
       "      <td>240</td>\n",
       "      <td>101</td>\n",
       "      <td>...</td>\n",
       "      <td>24</td>\n",
       "      <td>7</td>\n",
       "      <td>2</td>\n",
       "      <td>9</td>\n",
       "      <td>2</td>\n",
       "      <td>8</td>\n",
       "      <td>6</td>\n",
       "      <td>2</td>\n",
       "      <td>10</td>\n",
       "      <td>14.45</td>\n",
       "    </tr>\n",
       "  </tbody>\n",
       "</table>\n",
       "<p>5 rows × 45 columns</p>\n",
       "</div>"
      ],
      "text/plain": [
       "   SEASON_ID     TEAM_ID TEAM_ABBREVIATION       TEAM_NAME   GAME_ID  \\\n",
       "0      42019  1610612738               BOS  Boston Celtics  41900306   \n",
       "1      42019  1610612738               BOS  Boston Celtics  41900305   \n",
       "2      42019  1610612738               BOS  Boston Celtics  41900304   \n",
       "3      42019  1610612738               BOS  Boston Celtics  41900303   \n",
       "4      42019  1610612738               BOS  Boston Celtics  41900302   \n",
       "\n",
       "    GAME_DATE      MATCHUP WL  MIN  PTS  ...  SCREEN_AST_PTS  \\\n",
       "0  2020-09-27    BOS @ MIA  L  240  113  ...              14   \n",
       "1  2020-09-25  BOS vs. MIA  W  238  121  ...              23   \n",
       "2  2020-09-23    BOS @ MIA  L  239  109  ...              10   \n",
       "3  2020-09-19    BOS @ MIA  W  240  117  ...               9   \n",
       "4  2020-09-17  BOS vs. MIA  L  240  101  ...              24   \n",
       "\n",
       "   OFF_LOOSE_BALLS_RECOVERED  DEF_LOOSE_BALLS_RECOVERED  \\\n",
       "0                          2                          4   \n",
       "1                          2                          3   \n",
       "2                          2                          2   \n",
       "3                          3                          4   \n",
       "4                          7                          2   \n",
       "\n",
       "   LOOSE_BALLS_RECOVERED  OFF_BOXOUTS  DEF_BOXOUTS  BOX_OUT_PLAYER_TEAM_REBS  \\\n",
       "0                      6            5            6                         8   \n",
       "1                      5            4            8                        11   \n",
       "2                      4            3           16                        13   \n",
       "3                      7            2           11                         8   \n",
       "4                      9            2            8                         6   \n",
       "\n",
       "   BOX_OUT_PLAYER_REBS  BOX_OUTS  HUSTLE_RATING  \n",
       "0                    4        11          14.55  \n",
       "1                    7        12          12.60  \n",
       "2                    6        19          11.60  \n",
       "3                    2        13          13.80  \n",
       "4                    2        10          14.45  \n",
       "\n",
       "[5 rows x 45 columns]"
      ]
     },
     "execution_count": 13,
     "metadata": {},
     "output_type": "execute_result"
    }
   ],
   "source": [
    "hustle_stats.head()"
   ]
  },
  {
   "cell_type": "code",
   "execution_count": 14,
   "metadata": {
    "colab": {
     "base_uri": "https://localhost:8080/",
     "height": 521
    },
    "id": "g5ong4Hlp3gH",
    "outputId": "51c1f7e4-100a-4dfb-d39a-793ea6776eef"
   },
   "outputs": [
    {
     "data": {
      "text/plain": [
       "<matplotlib.axes._subplots.AxesSubplot at 0x1a6a4bd85c8>"
      ]
     },
     "execution_count": 14,
     "metadata": {},
     "output_type": "execute_result"
    },
    {
     "data": {
      "image/png": "[encoded data removed]",
      "text/plain": [
       "<Figure size 864x576 with 1 Axes>"
      ]
     },
     "metadata": {
      "needs_background": "light"
     },
     "output_type": "display_data"
    },
    {
     "data": {
      "image/png": "[encoded data removed]",
      "text/plain": [
       "<Figure size 864x576 with 1 Axes>"
      ]
     },
     "metadata": {
      "needs_background": "light"
     },
     "output_type": "display_data"
    }
   ],
   "source": [
    "# Distribution plot of hustle_rating for bubble_season and prior_seasons\n",
    "bubble_season = hustle_stats[(hustle_stats['SEASON'] == '2019-20')]\n",
    "prior_seasons = hustle_stats[(hustle_stats['SEASON'] != '2019-20')]\n",
    "\n",
    "plt.figure(figsize=(12,8))\n",
    "sns.distplot(bubble_season['HUSTLE_RATING'])\n",
    "\n",
    "plt.figure(figsize=(12,8))\n",
    "sns.distplot(prior_seasons['HUSTLE_RATING'])"
   ]
  },
  {
   "cell_type": "code",
   "execution_count": 15,
   "metadata": {
    "colab": {
     "base_uri": "https://localhost:8080/",
     "height": 521
    },
    "id": "OvqbNmqZjcMz",
    "outputId": "d5fe8c0c-9cf4-437e-b7f3-8c39dc0fbb08"
   },
   "outputs": [
    {
     "data": {
      "text/plain": [
       "<matplotlib.axes._subplots.AxesSubplot at 0x1a6a4c3e908>"
      ]
     },
     "execution_count": 15,
     "metadata": {},
     "output_type": "execute_result"
    },
    {
     "data": {
      "image/png": "[encoded data removed]",
      "text/plain": [
       "<Figure size 1728x576 with 1 Axes>"
      ]
     },
     "metadata": {
      "needs_background": "light"
     },
     "output_type": "display_data"
    }
   ],
   "source": [
    "# HUSTLE_RATING BY TEAM\n",
    "plt.figure(figsize=(24,8))\n",
    "sns.boxplot(data=hustle_stats, x='TEAM_ABBREVIATION', y='HUSTLE_RATING')"
   ]
  },
  {
   "cell_type": "code",
   "execution_count": 16,
   "metadata": {
    "id": "H-Ohb1JvcVb6",
    "outputId": "c8354d9a-f898-4e9d-c0dc-bc1c771dd210"
   },
   "outputs": [
    {
     "data": {
      "text/plain": [
       "<matplotlib.axes._subplots.AxesSubplot at 0x1a6a5146408>"
      ]
     },
     "execution_count": 16,
     "metadata": {},
     "output_type": "execute_result"
    },
    {
     "data": {
      "image/png": "[encoded data removed]",
      "text/plain": [
       "<Figure size 1728x576 with 1 Axes>"
      ]
     },
     "metadata": {
      "needs_background": "light"
     },
     "output_type": "display_data"
    }
   ],
   "source": [
    "# HUSTLE_RATING BY SEASON\n",
    "plt.figure(figsize=(24,8))\n",
    "sns.boxplot(data=hustle_stats, x='SEASON', y='HUSTLE_RATING')"
   ]
  },
  {
   "cell_type": "markdown",
   "metadata": {
    "id": "zZ29yUYdk1JP"
   },
   "source": [
    "## Correlation Pairplot for Hustle Stats"
   ]
  },
  {
   "cell_type": "code",
   "execution_count": null,
   "metadata": {
    "colab": {
     "base_uri": "https://localhost:8080/",
     "height": 475
    },
    "id": "jg_FyiHQgXAV",
    "outputId": "8ed32455-39c4-42d8-e010-114080b8bf82"
   },
   "outputs": [
    {
     "data": {
      "text/plain": [
       "<seaborn.axisgrid.PairGrid at 0x1a6a5219b88>"
      ]
     },
     "execution_count": 17,
     "metadata": {},
     "output_type": "execute_result"
    }
   ],
   "source": [
    "# Pairplot with WL\n",
    "\n",
    "dataset = hustle_stats[['CONTESTED_SHOTS_2PT','CONTESTED_SHOTS_3PT', 'DEFLECTIONS',\n",
    "                        'LOOSE_BALLS_RECOVERED', 'CHARGES_DRAWN', 'HUSTLE_RATING', 'WL']]\n",
    "\n",
    "sns.pairplot(dataset, height=7, kind='reg', hue='WL')"
   ]
  },
  {
   "cell_type": "markdown",
   "metadata": {
    "id": "WemVnqgeA70k"
   },
   "source": [
    "## Scaling and Train Test Split of Dataset"
   ]
  },
  {
   "cell_type": "code",
   "execution_count": null,
   "metadata": {
    "id": "aymXjgc6HvU0"
   },
   "outputs": [],
   "source": [
    "# hustle features for classification model for bubble and prior seasons\n",
    "features = ['CONTESTED_SHOTS', 'CONTESTED_SHOTS_2PT', 'CONTESTED_SHOTS_3PT',\n",
    "       'DEFLECTIONS', 'CHARGES_DRAWN', 'SCREEN_ASSISTS', 'SCREEN_AST_PTS',\n",
    "       'OFF_LOOSE_BALLS_RECOVERED', 'DEF_LOOSE_BALLS_RECOVERED',\n",
    "       'LOOSE_BALLS_RECOVERED', 'OFF_BOXOUTS', 'DEF_BOXOUTS',\n",
    "       'BOX_OUT_PLAYER_TEAM_REBS', 'BOX_OUT_PLAYER_REBS', 'BOX_OUTS','HUSTLE_RATING']\n",
    "\n",
    "X_bubble = bubble_season[features].values\n",
    "\n",
    "X_prior = prior_seasons[features].values\n",
    "\n",
    "# encode class values WL as integers\n",
    "from sklearn.preprocessing import LabelEncoder\n",
    "encoder = LabelEncoder()\n",
    "\n",
    "y_bubble = bubble_season['WL']\n",
    "encoder.fit(y_bubble)\n",
    "y_bubble = encoder.transform(y_bubble)\n",
    "\n",
    "y_prior = prior_seasons['WL']\n",
    "encoder.fit(y_prior)\n",
    "y_prior = encoder.transform(y_prior)"
   ]
  },
  {
   "cell_type": "code",
   "execution_count": null,
   "metadata": {
    "id": "Kb_v_ae-A-20"
   },
   "outputs": [],
   "source": [
    "from sklearn.model_selection import train_test_split\n",
    "X_train_bubble, X_test_bubble, y_train_bubble, y_test_bubble = train_test_split(X_bubble, y_bubble, test_size = 0.2, random_state = 0)\n",
    "X_train_prior, X_test_prior, y_train_prior, y_test_prior = train_test_split(X_prior, y_prior, test_size = 0.2, random_state = 0)"
   ]
  },
  {
   "cell_type": "code",
   "execution_count": null,
   "metadata": {
    "id": "DInN3DD4UtS_"
   },
   "outputs": [],
   "source": [
    "from sklearn.preprocessing import MinMaxScaler\n",
    "scaler = MinMaxScaler()\n",
    "X_train_bubble = scaler.fit_transform(X_train_bubble)\n",
    "X_test_bubble = scaler.transform(X_test_bubble)\n",
    "\n",
    "X_train_prior = scaler.fit_transform(X_train_prior)\n",
    "X_test_prior = scaler.transform(X_test_prior)"
   ]
  },
  {
   "cell_type": "markdown",
   "metadata": {
    "id": "xNkXL1YQBiBT"
   },
   "source": [
    "## Logistic Regression Model on Training and Test sets"
   ]
  },
  {
   "cell_type": "code",
   "execution_count": null,
   "metadata": {
    "colab": {
     "base_uri": "https://localhost:8080/",
     "height": 630
    },
    "id": "TQKmwvtdBkyb",
    "outputId": "1ac19a02-30e9-4c11-e6f6-40222839784c"
   },
   "outputs": [],
   "source": [
    "from sklearn.linear_model import LogisticRegression\n",
    "clf_bubble = LogisticRegression(random_state = 0)\n",
    "clf_prior = LogisticRegression(random_state = 0)\n",
    "\n",
    "clf_bubble.fit(X_train_bubble, y_train_bubble)\n",
    "clf_prior.fit(X_train_prior, y_train_prior)\n",
    "\n",
    "y_train_pred_bubble = clf_bubble.predict(X_train_bubble)\n",
    "y_test_pred_bubble = clf_bubble.predict(X_test_bubble)\n",
    "\n",
    "y_train_pred_prior = clf_prior.predict(X_train_prior)\n",
    "y_test_pred_prior = clf_prior.predict(X_test_prior)\n",
    "\n",
    "# Classification report\n",
    "from sklearn.metrics import classification_report\n",
    "target_names = ['Loss', 'Win']\n",
    "print(\"Logistic Regression Model Bubble Season:\\n\", classification_report(y_test_bubble, y_test_pred_bubble, target_names=target_names))\n",
    "\n",
    "print(\"Logistic Regression Model Prior Seasons:\\n\", classification_report(y_test_prior, y_test_pred_prior, target_names=target_names))\n",
    "\n",
    "# Confusion matrix and accuracy score\n",
    "from sklearn.metrics import confusion_matrix, accuracy_score\n",
    "cm_bubble = confusion_matrix(y_test_bubble, y_test_pred_bubble)\n",
    "print(\"Confusion Matrix Bubble Season:\\n\",cm_bubble)\n",
    "\n",
    "cm_prior = confusion_matrix(y_test_prior, y_test_pred_prior)\n",
    "print(\"Confusion Matrix Prior Seasons:\\n\",cm_prior)\n",
    "\n",
    "# Average Cross Validation Score\n",
    "from sklearn.model_selection import cross_val_score\n",
    "cv_bubble = cross_val_score(clf_bubble, X_train_bubble, y_train_bubble, cv=10, scoring=\"accuracy\")\n",
    "print(\"\\nAverage Cross Validation Score Bubble Season: \", round(np.mean(cv_bubble),2))\n",
    "\n",
    "cv_prior = cross_val_score(clf_prior, X_train_prior, y_train_prior, cv=10, scoring=\"accuracy\")\n",
    "print(\"\\nAverage Cross Validation Score Prior Seasons: \", round(np.mean(cv_prior),2))\n",
    "\n",
    "# Average Precision Score and Precision-Recall curve\n",
    "from sklearn.metrics import average_precision_score\n",
    "average_precision_bubble = average_precision_score(y_test_bubble, y_test_pred_bubble)\n",
    "print('\\nAverage Precision-Recall Score Bubble Season: {0:0.2f}'.format(\n",
    "      average_precision_bubble))\n",
    "\n",
    "average_precision_prior = average_precision_score(y_test_prior, y_test_pred_prior)\n",
    "print('\\nAverage Precision-Recall Score Prior Seasons: {0:0.2f}'.format(\n",
    "      average_precision_prior))\n",
    "\n",
    "from sklearn.metrics import precision_recall_curve\n",
    "from sklearn.metrics import plot_precision_recall_curve\n",
    "\n",
    "disp_bubble = plot_precision_recall_curve(clf_bubble, X_test_bubble, y_test_bubble)\n",
    "disp_bubble.ax_.set_title('\\n2-class Precision-Recall Curve Bubble Season: '\n",
    "                   'AP={0:0.2f}'.format(average_precision_bubble))\n",
    "\n",
    "disp_prior = plot_precision_recall_curve(clf_prior, X_test_prior, y_test_prior)\n",
    "disp_prior.ax_.set_title('\\n2-class Precision-Recall Curve Prior Seasons: '\n",
    "                   'AP={0:0.2f}'.format(average_precision_prior))"
   ]
  },
  {
   "cell_type": "markdown",
   "metadata": {
    "id": "MobCgAmmVCmQ"
   },
   "source": [
    "## KNN Classification Model"
   ]
  },
  {
   "cell_type": "code",
   "execution_count": null,
   "metadata": {
    "colab": {
     "base_uri": "https://localhost:8080/",
     "height": 630
    },
    "id": "9G25mfPsVL_3",
    "outputId": "ec8d7454-629d-4e29-8ddd-501675edd2fc"
   },
   "outputs": [],
   "source": [
    "from sklearn.neighbors import KNeighborsClassifier\n",
    "clf_bubble = KNeighborsClassifier(n_neighbors = 5, metric = 'minkowski', p = 2)\n",
    "clf_prior = KNeighborsClassifier(n_neighbors = 5, metric = 'minkowski', p = 2)\n",
    "\n",
    "clf_bubble.fit(X_train_bubble, y_train_bubble)\n",
    "clf_prior.fit(X_train_prior, y_train_prior)\n",
    "\n",
    "y_train_pred_bubble = clf_bubble.predict(X_train_bubble)\n",
    "y_test_pred_bubble = clf_bubble.predict(X_test_bubble)\n",
    "\n",
    "y_train_pred_prior = clf_prior.predict(X_train_prior)\n",
    "y_test_pred_prior = clf_prior.predict(X_test_prior)\n",
    "\n",
    "# Classification report\n",
    "from sklearn.metrics import classification_report\n",
    "target_names = ['Loss', 'Win']\n",
    "print(\"KNN Model Bubble Season:\\n\", classification_report(y_test_bubble, y_test_pred_bubble, target_names=target_names))\n",
    "\n",
    "print(\"KNN Model Prior Seasons:\\n\", classification_report(y_test_prior, y_test_pred_prior, target_names=target_names))\n",
    "\n",
    "# Confusion matrix and accuracy score\n",
    "from sklearn.metrics import confusion_matrix, accuracy_score\n",
    "cm_bubble = confusion_matrix(y_test_bubble, y_test_pred_bubble)\n",
    "print(\"Confusion Matrix Bubble Season:\\n\",cm_bubble)\n",
    "\n",
    "cm_prior = confusion_matrix(y_test_prior, y_test_pred_prior)\n",
    "print(\"Confusion Matrix Prior Seasons:\\n\",cm_prior)\n",
    "\n",
    "# Average Cross Validation Score\n",
    "from sklearn.model_selection import cross_val_score\n",
    "cv_bubble = cross_val_score(clf_bubble, X_train_bubble, y_train_bubble, cv=10, scoring=\"accuracy\")\n",
    "print(\"\\nAverage Cross Validation Score Bubble Season: \", round(np.mean(cv_bubble),2))\n",
    "\n",
    "cv_prior = cross_val_score(clf_prior, X_train_prior, y_train_prior, cv=10, scoring=\"accuracy\")\n",
    "print(\"\\nAverage Cross Validation Score Prior Seasons: \", round(np.mean(cv_prior),2))\n",
    "\n",
    "# Average Precision Score and Precision-Recall curve\n",
    "from sklearn.metrics import average_precision_score\n",
    "average_precision_bubble = average_precision_score(y_test_bubble, y_test_pred_bubble)\n",
    "print('\\nAverage Precision-Recall Score Bubble Season: {0:0.2f}'.format(\n",
    "      average_precision_bubble))\n",
    "\n",
    "average_precision_prior = average_precision_score(y_test_prior, y_test_pred_prior)\n",
    "print('\\nAverage Precision-Recall Score Prior Seasons: {0:0.2f}'.format(\n",
    "      average_precision_prior))\n",
    "\n",
    "from sklearn.metrics import precision_recall_curve\n",
    "from sklearn.metrics import plot_precision_recall_curve\n",
    "\n",
    "disp_bubble = plot_precision_recall_curve(clf_bubble, X_test_bubble, y_test_bubble)\n",
    "disp_bubble.ax_.set_title('\\n2-class Precision-Recall Curve Bubble Season: '\n",
    "                   'AP={0:0.2f}'.format(average_precision_bubble))\n",
    "\n",
    "disp_prior = plot_precision_recall_curve(clf_prior, X_test_prior, y_test_prior)\n",
    "disp_prior.ax_.set_title('\\n2-class Precision-Recall Curve Prior Seasons: '\n",
    "                   'AP={0:0.2f}'.format(average_precision_prior))"
   ]
  },
  {
   "cell_type": "markdown",
   "metadata": {
    "id": "GB8yeZ-IxW3N"
   },
   "source": [
    "## Support Vector Machine Classification Model"
   ]
  },
  {
   "cell_type": "code",
   "execution_count": null,
   "metadata": {
    "colab": {
     "base_uri": "https://localhost:8080/",
     "height": 630
    },
    "id": "OrEjub3xxhvs",
    "outputId": "cd5a0b0d-ff74-4164-8940-d03a9e71e7d3"
   },
   "outputs": [],
   "source": [
    "from sklearn.svm import SVC\n",
    "clf_bubble = SVC(kernel = 'rbf', random_state = 0)\n",
    "clf_prior = SVC(kernel = 'rbf', random_state = 0)\n",
    "\n",
    "clf_bubble.fit(X_train_bubble, y_train_bubble)\n",
    "clf_prior.fit(X_train_prior, y_train_prior)\n",
    "\n",
    "y_train_pred_bubble = clf_bubble.predict(X_train_bubble)\n",
    "y_test_pred_bubble = clf_bubble.predict(X_test_bubble)\n",
    "\n",
    "y_train_pred_prior = clf_prior.predict(X_train_prior)\n",
    "y_test_pred_prior = clf_prior.predict(X_test_prior)\n",
    "\n",
    "# Classification report\n",
    "from sklearn.metrics import classification_report\n",
    "target_names = ['Loss', 'Win']\n",
    "print(\"SVC Model Bubble Season:\\n\", classification_report(y_test_bubble, y_test_pred_bubble, target_names=target_names))\n",
    "print(\"SVC Model Prior Seasons:\\n\", classification_report(y_test_prior, y_test_pred_prior, target_names=target_names))\n",
    "\n",
    "# Confusion matrix and accuracy score\n",
    "from sklearn.metrics import confusion_matrix, accuracy_score\n",
    "cm_bubble = confusion_matrix(y_test_bubble, y_test_pred_bubble)\n",
    "print(\"Confusion Matrix Bubble Season:\\n\",cm_bubble)\n",
    "\n",
    "cm_prior = confusion_matrix(y_test_prior, y_test_pred_prior)\n",
    "print(\"Confusion Matrix Prior Seasons:\\n\",cm_prior)\n",
    "\n",
    "# Average Cross Validation Score\n",
    "from sklearn.model_selection import cross_val_score\n",
    "cv_bubble = cross_val_score(clf_bubble, X_train_bubble, y_train_bubble, cv=10, scoring=\"accuracy\")\n",
    "print(\"\\nAverage Cross Validation Score Bubble Season: \", round(np.mean(cv_bubble),2))\n",
    "\n",
    "cv_prior = cross_val_score(clf_prior, X_train_prior, y_train_prior, cv=10, scoring=\"accuracy\")\n",
    "print(\"\\nAverage Cross Validation Score Prior Seasons: \", round(np.mean(cv_prior),2))\n",
    "\n",
    "# Average Precision Score and Precision-Recall curve\n",
    "from sklearn.metrics import average_precision_score\n",
    "average_precision_bubble = average_precision_score(y_test_bubble, y_test_pred_bubble)\n",
    "print('\\nAverage Precision-Recall Score Bubble Season: {0:0.2f}'.format(\n",
    "      average_precision_bubble))\n",
    "\n",
    "average_precision_prior = average_precision_score(y_test_prior, y_test_pred_prior)\n",
    "print('\\nAverage Precision-Recall Score Prior Seasons: {0:0.2f}'.format(\n",
    "      average_precision_prior))\n",
    "\n",
    "from sklearn.metrics import precision_recall_curve\n",
    "from sklearn.metrics import plot_precision_recall_curve\n",
    "\n",
    "disp_bubble = plot_precision_recall_curve(clf_bubble, X_test_bubble, y_test_bubble)\n",
    "disp_bubble.ax_.set_title('\\n2-class Precision-Recall Curve Bubble Season: '\n",
    "                   'AP={0:0.2f}'.format(average_precision_bubble))\n",
    "\n",
    "disp_prior = plot_precision_recall_curve(clf_prior, X_test_prior, y_test_prior)\n",
    "disp_prior.ax_.set_title('\\n2-class Precision-Recall Curve Prior Seasons: '\n",
    "                   'AP={0:0.2f}'.format(average_precision_prior))"
   ]
  },
  {
   "cell_type": "markdown",
   "metadata": {
    "id": "AT8b3zxn3DDI"
   },
   "source": [
    "## Random Forest Classification Model"
   ]
  },
  {
   "cell_type": "code",
   "execution_count": null,
   "metadata": {},
   "outputs": [],
   "source": [
    "from sklearn.ensemble import RandomForestClassifier\n",
    "clf_bubble = RandomForestClassifier(n_estimators = 500, criterion = 'entropy', random_state = 0)\n",
    "clf_prior = RandomForestClassifier(n_estimators = 500, criterion = 'entropy', random_state = 0)\n",
    "\n",
    "clf_bubble.fit(X_train_bubble, y_train_bubble)\n",
    "clf_prior.fit(X_train_prior, y_train_prior)\n",
    "\n",
    "y_train_pred_bubble = clf_bubble.predict(X_train_bubble)\n",
    "y_test_pred_bubble = clf_bubble.predict(X_test_bubble)\n",
    "\n",
    "y_train_pred_prior = clf_prior.predict(X_train_prior)\n",
    "y_test_pred_prior = clf_prior.predict(X_test_prior)\n",
    "\n",
    "# Classification report\n",
    "from sklearn.metrics import classification_report\n",
    "target_names = ['Loss', 'Win']\n",
    "print(\"Random Forest Model Bubble Season:\\n\", classification_report(y_test_bubble, y_test_pred_bubble, target_names=target_names))\n",
    "print(\"Random Forest Model Prior Seasons:\\n\", classification_report(y_test_prior, y_test_pred_prior, target_names=target_names))\n",
    "\n",
    "# Confusion matrix and accuracy score\n",
    "from sklearn.metrics import confusion_matrix, accuracy_score\n",
    "cm_bubble = confusion_matrix(y_test_bubble, y_test_pred_bubble)\n",
    "print(\"Confusion Matrix Bubble Season:\\n\",cm_bubble)\n",
    "\n",
    "cm_prior = confusion_matrix(y_test_prior, y_test_pred_prior)\n",
    "print(\"Confusion Matrix Prior Seasons:\\n\",cm_prior)\n",
    "\n",
    "# Average Cross Validation Score\n",
    "from sklearn.model_selection import cross_val_score\n",
    "cv_bubble = cross_val_score(clf_bubble, X_train_bubble, y_train_bubble, cv=10, scoring=\"accuracy\")\n",
    "print(\"\\nAverage Cross Validation Score Bubble Season: \", round(np.mean(cv_bubble),2))\n",
    "\n",
    "cv_prior = cross_val_score(clf_prior, X_train_prior, y_train_prior, cv=10, scoring=\"accuracy\")\n",
    "print(\"\\nAverage Cross Validation Score Prior Seasons: \", round(np.mean(cv_prior),2))\n",
    "\n",
    "# Average Precision Score and Precision-Recall curve\n",
    "from sklearn.metrics import average_precision_score\n",
    "average_precision_bubble = average_precision_score(y_test_bubble, y_test_pred_bubble)\n",
    "print('\\nAverage Precision-Recall Score Bubble Season: {0:0.2f}'.format(\n",
    "      average_precision_bubble))\n",
    "\n",
    "average_precision_prior = average_precision_score(y_test_prior, y_test_pred_prior)\n",
    "print('\\nAverage Precision-Recall Score Prior Seasons: {0:0.2f}'.format(\n",
    "      average_precision_prior))\n",
    "\n",
    "from sklearn.metrics import precision_recall_curve\n",
    "from sklearn.metrics import plot_precision_recall_curve\n",
    "\n",
    "disp_bubble = plot_precision_recall_curve(clf_bubble, X_test_bubble, y_test_bubble)\n",
    "disp_bubble.ax_.set_title('\\n2-class Precision-Recall Curve Bubble Season: '\n",
    "                   'AP={0:0.2f}'.format(average_precision_bubble))\n",
    "\n",
    "disp_prior = plot_precision_recall_curve(clf_prior, X_test_prior, y_test_prior)\n",
    "disp_prior.ax_.set_title('\\n2-class Precision-Recall Curve Prior Seasons: '\n",
    "                   'AP={0:0.2f}'.format(average_precision_prior))"
   ]
  },
  {
   "cell_type": "code",
   "execution_count": null,
   "metadata": {},
   "outputs": [],
   "source": []
  }
 ],
 "metadata": {
  "colab": {
   "collapsed_sections": [],
   "include_colab_link": true,
   "machine_shape": "hm",
   "name": "Classification_models.ipynb",
   "provenance": []
  },
  "kernelspec": {
   "display_name": "Python 3",
   "language": "python",
   "name": "python3"
  },
  "language_info": {
   "codemirror_mode": {
    "name": "ipython",
    "version": 3
   },
   "file_extension": ".py",
   "mimetype": "text/x-python",
   "name": "python",
   "nbconvert_exporter": "python",
   "pygments_lexer": "ipython3",
   "version": "3.7.4"
  }
 },
 "nbformat": 4,
 "nbformat_minor": 1
}
