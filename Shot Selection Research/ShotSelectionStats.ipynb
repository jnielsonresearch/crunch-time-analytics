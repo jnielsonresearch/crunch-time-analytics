{
 "cells": [
  {
   "cell_type": "code",
   "execution_count": 1,
   "metadata": {},
   "outputs": [],
   "source": [
    "#install nba package"
   ]
  },
  {
   "cell_type": "code",
   "execution_count": 2,
   "metadata": {},
   "outputs": [
    {
     "name": "stdout",
     "output_type": "stream",
     "text": [
      "Requirement already satisfied: nba_api in /Users/bslocum/opt/anaconda3/lib/python3.8/site-packages (1.1.9)\n",
      "Requirement already satisfied: requests in /Users/bslocum/opt/anaconda3/lib/python3.8/site-packages (from nba_api) (2.24.0)\n",
      "Requirement already satisfied: idna<3,>=2.5 in /Users/bslocum/opt/anaconda3/lib/python3.8/site-packages (from requests->nba_api) (2.10)\n",
      "Requirement already satisfied: chardet<4,>=3.0.2 in /Users/bslocum/opt/anaconda3/lib/python3.8/site-packages (from requests->nba_api) (3.0.4)\n",
      "Requirement already satisfied: urllib3!=1.25.0,!=1.25.1,<1.26,>=1.21.1 in /Users/bslocum/opt/anaconda3/lib/python3.8/site-packages (from requests->nba_api) (1.25.9)\n",
      "Requirement already satisfied: certifi>=2017.4.17 in /Users/bslocum/opt/anaconda3/lib/python3.8/site-packages (from requests->nba_api) (2020.6.20)\n",
      "Note: you may need to restart the kernel to use updated packages.\n"
     ]
    }
   ],
   "source": [
    "pip install nba_api"
   ]
  },
  {
   "cell_type": "markdown",
   "metadata": {},
   "source": [
    "## Python Libraries and NBA API Endpoints"
   ]
  },
  {
   "cell_type": "code",
   "execution_count": 3,
   "metadata": {},
   "outputs": [],
   "source": [
    "import pandas as pd \n",
    "import numpy as np\n",
    "\n",
    "from nba_api.stats.endpoints import shotchartdetail\n",
    "from nba_api.stats.endpoints import leaguegamefinder"
   ]
  },
  {
   "cell_type": "markdown",
   "metadata": {},
   "source": [
    "## Pull In Playoff Shooting Data and Game Data to Win/Loss"
   ]
  },
  {
   "cell_type": "code",
   "execution_count": 4,
   "metadata": {},
   "outputs": [
    {
     "name": "stdout",
     "output_type": "stream",
     "text": [
      "Loaded Data\n"
     ]
    }
   ],
   "source": [
    "import json \n",
    "import csv\n",
    "\n",
    "def playoffs_shot_selection(season):\n",
    "    shot_chart_data = shotchartdetail.ShotChartDetail(team_id = 0, season_type_all_star = 'Playoffs', player_id=0, season_nullable = season, context_measure_simple=\"FGA\")\n",
    "    shot_chart_data = shot_chart_data.get_data_frames()[0]\n",
    "    return shot_chart_data\n",
    "\n",
    "shot_selection_data = playoffs_shot_selection('2019-20')\n",
    "shot_selection_data = shot_selection_data.append(playoffs_shot_selection('2018-19'))\n",
    "shot_selection_data = shot_selection_data.append(playoffs_shot_selection('2017-18'))\n",
    "shot_selection_data = shot_selection_data.append(playoffs_shot_selection('2016-17'))\n",
    "shot_selection_data = shot_selection_data.append(playoffs_shot_selection('2015-16'))\n",
    "\n",
    "\n",
    "\n",
    "def season_game_finder(season):\n",
    "    season_game_data = leaguegamefinder.LeagueGameFinder(player_or_team_abbreviation = 'T', season_nullable = season)\n",
    "    season_game_data = season_game_data.get_data_frames()[0]\n",
    "    return season_game_data\n",
    "\n",
    "season_game_data = season_game_finder('2019-20')\n",
    "season_game_data = season_game_data.append(season_game_finder('2018-19'))\n",
    "season_game_data = season_game_data.append(season_game_finder('2017-18'))\n",
    "season_game_data = season_game_data.append(season_game_finder('2016-17'))\n",
    "season_game_data = season_game_data.append(season_game_finder('2015-16'))\n",
    "season_game_data\n",
    "\n",
    "print('Loaded Data')"
   ]
  },
  {
   "cell_type": "markdown",
   "metadata": {},
   "source": [
    "## Merge Data"
   ]
  },
  {
   "cell_type": "code",
   "execution_count": 5,
   "metadata": {},
   "outputs": [
    {
     "data": {
      "text/html": [
       "<div>\n",
       "<style scoped>\n",
       "    .dataframe tbody tr th:only-of-type {\n",
       "        vertical-align: middle;\n",
       "    }\n",
       "\n",
       "    .dataframe tbody tr th {\n",
       "        vertical-align: top;\n",
       "    }\n",
       "\n",
       "    .dataframe thead th {\n",
       "        text-align: right;\n",
       "    }\n",
       "</style>\n",
       "<table border=\"1\" class=\"dataframe\">\n",
       "  <thead>\n",
       "    <tr style=\"text-align: right;\">\n",
       "      <th></th>\n",
       "      <th>ACTION_TYPE</th>\n",
       "      <th>SHOT_TYPE</th>\n",
       "      <th>SHOT_ZONE_AREA</th>\n",
       "      <th>SHOT_ZONE_BASIC</th>\n",
       "      <th>SHOT_ZONE_RANGE</th>\n",
       "      <th>SHOT_DISTANCE</th>\n",
       "      <th>LOC_X</th>\n",
       "      <th>LOC_Y</th>\n",
       "      <th>SHOT_MADE_FLAG</th>\n",
       "      <th>SEASON</th>\n",
       "      <th>WIN</th>\n",
       "      <th>BUBBLE</th>\n",
       "    </tr>\n",
       "  </thead>\n",
       "  <tbody>\n",
       "    <tr>\n",
       "      <th>0</th>\n",
       "      <td>Driving Floating Jump Shot</td>\n",
       "      <td>2PT Field Goal</td>\n",
       "      <td>Center(C)</td>\n",
       "      <td>Mid-Range</td>\n",
       "      <td>8-16 ft.</td>\n",
       "      <td>15</td>\n",
       "      <td>-14</td>\n",
       "      <td>157</td>\n",
       "      <td>1</td>\n",
       "      <td>2020</td>\n",
       "      <td>0</td>\n",
       "      <td>1</td>\n",
       "    </tr>\n",
       "    <tr>\n",
       "      <th>1</th>\n",
       "      <td>Jump Shot</td>\n",
       "      <td>3PT Field Goal</td>\n",
       "      <td>Left Side Center(LC)</td>\n",
       "      <td>Above the Break 3</td>\n",
       "      <td>24+ ft.</td>\n",
       "      <td>25</td>\n",
       "      <td>-107</td>\n",
       "      <td>231</td>\n",
       "      <td>0</td>\n",
       "      <td>2020</td>\n",
       "      <td>1</td>\n",
       "      <td>1</td>\n",
       "    </tr>\n",
       "    <tr>\n",
       "      <th>2</th>\n",
       "      <td>Jump Shot</td>\n",
       "      <td>3PT Field Goal</td>\n",
       "      <td>Center(C)</td>\n",
       "      <td>Above the Break 3</td>\n",
       "      <td>24+ ft.</td>\n",
       "      <td>26</td>\n",
       "      <td>8</td>\n",
       "      <td>262</td>\n",
       "      <td>1</td>\n",
       "      <td>2020</td>\n",
       "      <td>0</td>\n",
       "      <td>1</td>\n",
       "    </tr>\n",
       "    <tr>\n",
       "      <th>3</th>\n",
       "      <td>Driving Reverse Layup Shot</td>\n",
       "      <td>2PT Field Goal</td>\n",
       "      <td>Center(C)</td>\n",
       "      <td>Restricted Area</td>\n",
       "      <td>Less Than 8 ft.</td>\n",
       "      <td>0</td>\n",
       "      <td>3</td>\n",
       "      <td>-8</td>\n",
       "      <td>1</td>\n",
       "      <td>2020</td>\n",
       "      <td>1</td>\n",
       "      <td>1</td>\n",
       "    </tr>\n",
       "    <tr>\n",
       "      <th>4</th>\n",
       "      <td>Jump Shot</td>\n",
       "      <td>3PT Field Goal</td>\n",
       "      <td>Right Side Center(RC)</td>\n",
       "      <td>Above the Break 3</td>\n",
       "      <td>24+ ft.</td>\n",
       "      <td>27</td>\n",
       "      <td>137</td>\n",
       "      <td>236</td>\n",
       "      <td>1</td>\n",
       "      <td>2020</td>\n",
       "      <td>0</td>\n",
       "      <td>1</td>\n",
       "    </tr>\n",
       "  </tbody>\n",
       "</table>\n",
       "</div>"
      ],
      "text/plain": [
       "                  ACTION_TYPE       SHOT_TYPE         SHOT_ZONE_AREA  \\\n",
       "0  Driving Floating Jump Shot  2PT Field Goal              Center(C)   \n",
       "1                   Jump Shot  3PT Field Goal   Left Side Center(LC)   \n",
       "2                   Jump Shot  3PT Field Goal              Center(C)   \n",
       "3  Driving Reverse Layup Shot  2PT Field Goal              Center(C)   \n",
       "4                   Jump Shot  3PT Field Goal  Right Side Center(RC)   \n",
       "\n",
       "     SHOT_ZONE_BASIC  SHOT_ZONE_RANGE  SHOT_DISTANCE  LOC_X  LOC_Y  \\\n",
       "0          Mid-Range         8-16 ft.             15    -14    157   \n",
       "1  Above the Break 3          24+ ft.             25   -107    231   \n",
       "2  Above the Break 3          24+ ft.             26      8    262   \n",
       "3    Restricted Area  Less Than 8 ft.              0      3     -8   \n",
       "4  Above the Break 3          24+ ft.             27    137    236   \n",
       "\n",
       "   SHOT_MADE_FLAG SEASON  WIN  BUBBLE  \n",
       "0               1   2020    0       1  \n",
       "1               0   2020    1       1  \n",
       "2               1   2020    0       1  \n",
       "3               1   2020    1       1  \n",
       "4               1   2020    0       1  "
      ]
     },
     "execution_count": 5,
     "metadata": {},
     "output_type": "execute_result"
    }
   ],
   "source": [
    "merged_shot_selection_data = pd.merge(shot_selection_data, season_game_data, how = 'left', on = ['GAME_ID', 'TEAM_ID'])\n",
    "merged_shot_selection_data = merged_shot_selection_data.rename(columns={\"GAME_DATE_x\": \"GAME_DATE\"})\n",
    "merged_shot_selection_data['WIN'] = np.where(merged_shot_selection_data.WL=='W', 1, 0)\n",
    "merged_shot_selection_data['SEASON'] = merged_shot_selection_data.GAME_DATE.astype('str').str[:4]\n",
    "merged_shot_selection_data['BUBBLE'] = np.where(merged_shot_selection_data.GAME_DATE.astype('str').str[:4] == '2020', 1, 0)\n",
    "merged_shot_selection_data = merged_shot_selection_data[['ACTION_TYPE',\n",
    "                                                         'SHOT_TYPE',\n",
    "                                                         'SHOT_ZONE_AREA',\n",
    "                                                         'SHOT_ZONE_BASIC', \n",
    "                                                         'SHOT_ZONE_RANGE', \n",
    "                                                         'SHOT_DISTANCE', \n",
    "                                                         'LOC_X', \n",
    "                                                         'LOC_Y', \n",
    "                                                         'SHOT_MADE_FLAG', \n",
    "                                                         'SEASON', \n",
    "                                                         'WIN', \n",
    "                                                         'BUBBLE']]\n",
    "\n",
    "merged_shot_selection_data.head()"
   ]
  },
  {
   "cell_type": "markdown",
   "metadata": {},
   "source": [
    "## Save Data to CSV"
   ]
  },
  {
   "cell_type": "code",
   "execution_count": 7,
   "metadata": {},
   "outputs": [
    {
     "name": "stdout",
     "output_type": "stream",
     "text": [
      "Saved Data to CSV\n"
     ]
    }
   ],
   "source": [
    "merged_shot_selection_data.to_csv('data/full_shot_selection_data_of_playoffs_for_past_5_years.csv', index=False)\n",
    "print(\"Saved Data to CSV\")"
   ]
  },
  {
   "cell_type": "code",
   "execution_count": null,
   "metadata": {},
   "outputs": [],
   "source": []
  }
 ],
 "metadata": {
  "kernelspec": {
   "display_name": "Python 3",
   "language": "python",
   "name": "python3"
  },
  "language_info": {
   "codemirror_mode": {
    "name": "ipython",
    "version": 3
   },
   "file_extension": ".py",
   "mimetype": "text/x-python",
   "name": "python",
   "nbconvert_exporter": "python",
   "pygments_lexer": "ipython3",
   "version": "3.8.3"
  }
 },
 "nbformat": 4,
 "nbformat_minor": 4
}
